{
 "cells": [
  {
   "cell_type": "code",
   "execution_count": 2,
   "id": "91d58ea2-5d6a-464d-8fa7-f43798d094fe",
   "metadata": {
    "tags": []
   },
   "outputs": [
    {
     "name": "stdout",
     "output_type": "stream",
     "text": [
      "The obtained MAEs using a random forst with 10 estimators and depth 10 have mean 0.06366633657236326 and std 0.02588768789057911\n"
     ]
    }
   ],
   "source": [
    "from WrapperEMCrossVal import WrapperEMCrossVal\n",
    "\n",
    "import numpy as np\n",
    "import os\n",
    "import pandas as pd\n",
    "import matplotlib.pyplot as plt\n",
    "\n",
    "path_5_prot=\"/home/jkipen/raid_storage/ProtInfGPU/data/5_Prot/\"\n",
    "classifier_path=path_5_prot+\"numpy/rf_n_est_10_depth_10\" #Pick a classifier"
   ]
  },
  {
   "cell_type": "code",
   "execution_count": 3,
   "id": "4f217358-a07e-4e46-bac6-adb3abc97f1f",
   "metadata": {
    "tags": []
   },
   "outputs": [
    {
     "name": "stdout",
     "output_type": "stream",
     "text": [
      "The obtained MAEs using a random forst with 10 estimators and depth 10 have mean 0.06304837861066612 and std 0.025855874224607615\n"
     ]
    }
   ],
   "source": [
    "wrapper=WrapperEMCrossVal(classifier_path,n_sparse=100,n_epochs=10,verbose=False) #Creates a wrapper\n",
    "wrapper.cv_fit_all_mem_load() #This function does the cross val EM with all the memory loaded\n",
    "#It is much faster, but might not work for bigger datasets. The estimated prot dists are in wrapper.est_P_prot\n",
    "MAEs=wrapper.cv_MAEs() ##Calculates the MAEs\n",
    "print(\"The obtained MAEs using a random forst with 10 estimators and depth 10 have mean \"+str(np.mean(MAEs))+\" and std \"+str(np.std(MAEs)))\n"
   ]
  },
  {
   "cell_type": "code",
   "execution_count": 4,
   "id": "592d1483-bd80-41d2-b36d-dd8e85e81b77",
   "metadata": {
    "tags": []
   },
   "outputs": [
    {
     "name": "stdout",
     "output_type": "stream",
     "text": [
      "The obtained MAEs using a random forst with 10 estimators and depth 10 have mean 0.09021124556340003 and std 0.027437755632498746\n"
     ]
    }
   ],
   "source": [
    "wrapper=WrapperEMCrossVal(classifier_path,n_sparse=100,n_epochs=5,verbose=False) #Creates a wrapper\n",
    "wrapper.cv_fit_all_mem_load() #This function does the cross val EM with all the memory loaded\n",
    "#It is much faster, but might not work for bigger datasets. The estimated prot dists are in wrapper.est_P_prot\n",
    "MAEs=wrapper.cv_MAEs() ##Calculates the MAEs\n",
    "print(\"The obtained MAEs using a random forst with 10 estimators and depth 10 have mean \"+str(np.mean(MAEs))+\" and std \"+str(np.std(MAEs)))\n"
   ]
  }
 ],
 "metadata": {
  "kernelspec": {
   "display_name": "Python 3 (ipykernel)",
   "language": "python",
   "name": "python3"
  },
  "language_info": {
   "codemirror_mode": {
    "name": "ipython",
    "version": 3
   },
   "file_extension": ".py",
   "mimetype": "text/x-python",
   "name": "python",
   "nbconvert_exporter": "python",
   "pygments_lexer": "ipython3",
   "version": "3.8.17"
  }
 },
 "nbformat": 4,
 "nbformat_minor": 5
}
