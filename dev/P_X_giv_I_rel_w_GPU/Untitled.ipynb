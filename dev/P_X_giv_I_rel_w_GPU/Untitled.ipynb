{
 "cells": [
  {
   "cell_type": "code",
   "execution_count": null,
   "id": "0dd3d55f-4339-4ddf-a1ce-9b2d38774604",
   "metadata": {},
   "outputs": [],
   "source": [
    "##Adds the path to the codes"
   ]
  },
  {
   "cell_type": "code",
   "execution_count": null,
   "id": "8e93689e-1adf-44df-b19a-f5fece8c37fa",
   "metadata": {},
   "outputs": [],
   "source": [
    "\n",
    "from DatasetGenerator import DatasetGenerator\n",
    "from WrapperEMCrossVal import WrapperEMCrossVal"
   ]
  }
 ],
 "metadata": {
  "kernelspec": {
   "display_name": "Python 3 (ipykernel)",
   "language": "python",
   "name": "python3"
  },
  "language_info": {
   "codemirror_mode": {
    "name": "ipython",
    "version": 3
   },
   "file_extension": ".py",
   "mimetype": "text/x-python",
   "name": "python",
   "nbconvert_exporter": "python",
   "pygments_lexer": "ipython3",
   "version": "3.8.17"
  }
 },
 "nbformat": 4,
 "nbformat_minor": 5
}
