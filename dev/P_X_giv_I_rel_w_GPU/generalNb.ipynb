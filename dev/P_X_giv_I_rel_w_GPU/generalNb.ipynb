{
 "cells": [
  {
   "cell_type": "code",
   "execution_count": 1,
   "id": "0dd3d55f-4339-4ddf-a1ce-9b2d38774604",
   "metadata": {
    "tags": []
   },
   "outputs": [],
   "source": [
    "##Adds the path to the codes\n",
    "import os\n",
    "import sys\n",
    "\n",
    "path_common=\"/home/jkipen/ProtInfGPU/code/\";\n",
    "sys.path.append(path_common) #Adds common path to import the python files"
   ]
  },
  {
   "cell_type": "code",
   "execution_count": 2,
   "id": "8e93689e-1adf-44df-b19a-f5fece8c37fa",
   "metadata": {
    "tags": []
   },
   "outputs": [],
   "source": [
    "from ProteinInferenceEMv2 import ProteinInferenceEMv2\n",
    "import numpy as np\n",
    "import pandas as pd\n",
    "import time\n",
    "\n",
    "path_5_prot=\"/home/jkipen/raid_storage/ProtInfGPU/data/5_Prot/\"\n"
   ]
  },
  {
   "cell_type": "code",
   "execution_count": 3,
   "id": "197d04cb-9ddb-491e-9ee3-377f5191687d",
   "metadata": {
    "tags": []
   },
   "outputs": [],
   "source": [
    "PIEM=ProteinInferenceEMv2(path_5_prot+\"numpy/Common/df_info.csv\")\n",
    "\n"
   ]
  },
  {
   "cell_type": "markdown",
   "id": "77572cd3-6be8-4908-9915-773cb1e6c63c",
   "metadata": {},
   "source": [
    "# Veryfing P(X/I) calculation\n",
    "First we compute this calculation with the code that we have been using for a while, which we know we can trust\n",
    "\n",
    "## Calc of true result\n"
   ]
  },
  {
   "cell_type": "code",
   "execution_count": 6,
   "id": "03ca5668-4e3d-48c1-9048-999d5d073879",
   "metadata": {
    "tags": []
   },
   "outputs": [],
   "source": [
    "#Loading scores from RF_10_10 results\n",
    "data = np.load(path_5_prot + \"numpy/rf_n_est_10_depth_10/Common/Scores_0.npz\");\n",
    "top_n_flu_scores = data[\"top_n_flu_scores\"]\n",
    "top_n_flu_iz = data[\"top_n_flu_iz\"]\n",
    "#Lets keep only 1000 reads, since for higher proteins we will use a few amount of reads in each compute too\n",
    "top_n_flu_scores=top_n_flu_scores[:1000,:]; \n",
    "top_n_flu_iz=top_n_flu_iz[:1000,:]; \n",
    "#Generate sparse matrix\n",
    "S, p_rem = PIEM.build_sparse_matrix_N_Best(top_n_flu_scores, top_n_flu_iz, N=30) #N=30 was good for this dataset\n"
   ]
  },
  {
   "cell_type": "code",
   "execution_count": 9,
   "id": "f0826ccf-43bf-4f6e-be98-9584aa8b9f18",
   "metadata": {
    "tags": []
   },
   "outputs": [
    {
     "name": "stdout",
     "output_type": "stream",
     "text": [
      "Avg runtime on CPU: 0.0016315102577209473\n"
     ]
    }
   ],
   "source": [
    "n_runs=100; #Run many times to have a good time estimate.\n",
    "ts=[];\n",
    "for i in range(n_runs):\n",
    "    t_start=time.time()\n",
    "    P_X_given_I_rel = PIEM.get_P_X_given_I_rel_sparse(S, p_rem)\n",
    "    ts.append(time.time()-t_start)\n",
    "\n",
    "print(\"Avg runtime on CPU: \" + str(np.mean(ts)));\n",
    "np.save(\"True_P_X_given_I_rel.npy\",P_X_given_I_rel)"
   ]
  },
  {
   "cell_type": "markdown",
   "id": "84a7e866-785b-49bf-b103-291cb6cdba46",
   "metadata": {},
   "source": [
    "## Tools to compare results\n",
    "Func to test difference in values"
   ]
  },
  {
   "cell_type": "code",
   "execution_count": 17,
   "id": "1290d985-02fc-4854-9d10-b10e50211ca1",
   "metadata": {
    "tags": []
   },
   "outputs": [],
   "source": [
    "def stats_diff(true_mat,comp_mat):\n",
    "    diff_abs=np.abs(comp_mat-true_mat);\n",
    "    mae=np.mean(diff_abs, axis = None)\n",
    "    max_err=np.max(diff_abs, axis = None)\n",
    "    idx_max=diff_abs.argmax();\n",
    "    print(\"The MAE was \" + str(mae) + \" and the max error is  \" + str(max_err) + \" and was at index \" + str(idx_max))\n",
    "    print(\"The max err index had \"  + str(true_mat.flatten()[idx_max])+ \" in the original, but \" +str(comp_mat.flatten()[idx_max]) +\" in the other matrix\")\n",
    "    "
   ]
  },
  {
   "cell_type": "code",
   "execution_count": 18,
   "id": "9e4e61d3-d9e9-4fe1-b122-37d31d32cec9",
   "metadata": {
    "tags": []
   },
   "outputs": [
    {
     "name": "stdout",
     "output_type": "stream",
     "text": [
      "The MAE was 0.8051492915059574 and the max error is  3.6314076041403314 and was at index 913\n",
      "The max err index had 0.0009243632666766644 in the original, but 3.632331967407008 in the other matrix\n"
     ]
    }
   ],
   "source": [
    "random_guess=np.random.normal(size=np.shape(P_X_given_I_rel))\n",
    "stats_diff(P_X_given_I_rel,random_guess)"
   ]
  },
  {
   "cell_type": "markdown",
   "id": "8c08d00a-7179-48cb-a92a-5814c63d9d61",
   "metadata": {},
   "source": [
    "Exporting the arrays needed for a cuda code to reproduce this on its own:"
   ]
  },
  {
   "cell_type": "code",
   "execution_count": 34,
   "id": "a442a300-7b49-4d19-a363-355aac30410b",
   "metadata": {
    "tags": []
   },
   "outputs": [],
   "source": [
    "def save_array_to_csv(arr,file_name):\n",
    "    df = pd.DataFrame(arr)\n",
    "    df.to_csv(\"RepVars/\"+file_name, header=False, index=False)\n",
    "\n",
    "def export_p_flu_e_given_I(p_fe_g_I):\n",
    "    n_prots=np.shape(p_fe_g_I)[0]\n",
    "    n_fe=np.shape(p_fe_g_I)[1]\n",
    "    p_fe_for_I_all=[]\n",
    "    p_fe_for_I_iz_fe_all=[]\n",
    "    n_fe_per_I=[]\n",
    "    for i in range(n_prots):\n",
    "        p_fe_for_I=[] #List containing the probs for a given protein'\n",
    "        p_fe_for_I_iz_fe=[] #List containing the index of the flu\n",
    "        for j in range(n_fe):\n",
    "            if p_fe_g_I[i,j]!=0:\n",
    "                p_fe_for_I.append(p_fe_g_I[i,j]);p_fe_for_I_iz_fe.append(j);\n",
    "        p_fe_for_I_all.append(p_fe_for_I);\n",
    "        p_fe_for_I_iz_fe_all.append(p_fe_for_I_iz_fe);\n",
    "        n_fe_per_I.append(len(p_fe_for_I));\n",
    "    return p_fe_for_I_all,p_fe_for_I_iz_fe_all,n_fe_per_I;\n",
    "\n"
   ]
  },
  {
   "cell_type": "code",
   "execution_count": 37,
   "id": "abee0157-7d7e-4102-b32f-201ce5bd203f",
   "metadata": {
    "tags": []
   },
   "outputs": [],
   "source": [
    "p_fe_for_I_all,p_fe_for_I_iz_fe_all,n_fe_per_I=export_p_flu_e_given_I(PIEM.P_flu_exp_given_prot_i)\n",
    "save_array_to_csv(top_n_flu_scores[:,:30],\"top_n_flu_scores.csv\")\n",
    "save_array_to_csv(top_n_flu_iz[:,:30],\"top_n_flu_iz.csv\")\n",
    "save_array_to_csv(np.concatenate(p_fe_for_I_all),\"p_fe_for_I_all.csv\")\n",
    "save_array_to_csv(np.concatenate(p_fe_for_I_iz_fe_all),\"p_fe_for_I_iz_fe_all.csv\")\n",
    "save_array_to_csv(np.array(n_fe_per_I),\"n_fe_per_I.csv\")"
   ]
  }
 ],
 "metadata": {
  "kernelspec": {
   "display_name": "Python 3 (ipykernel)",
   "language": "python",
   "name": "python3"
  },
  "language_info": {
   "codemirror_mode": {
    "name": "ipython",
    "version": 3
   },
   "file_extension": ".py",
   "mimetype": "text/x-python",
   "name": "python",
   "nbconvert_exporter": "python",
   "pygments_lexer": "ipython3",
   "version": "3.8.17"
  }
 },
 "nbformat": 4,
 "nbformat_minor": 5
}
