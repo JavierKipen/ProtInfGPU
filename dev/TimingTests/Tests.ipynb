{
 "cells": [
  {
   "cell_type": "code",
   "execution_count": 42,
   "id": "2a776610-678c-4dac-8fb9-718e4b555b50",
   "metadata": {
    "tags": []
   },
   "outputs": [],
   "source": [
    "import numpy as np\n",
    "import pandas as pd\n",
    "import time as time"
   ]
  },
  {
   "cell_type": "code",
   "execution_count": 51,
   "id": "1e6db4ae-d8bb-4858-8433-b335367f9434",
   "metadata": {
    "tags": []
   },
   "outputs": [],
   "source": [
    "N_prot=int(20e3);\n",
    "N_flus=int(150e3);\n",
    "N_reads=1000;\n",
    "N_sparsity=int( (30/124)*N_flus);\n",
    "N_flus_per_prot=50; #As an average of how many flus per prot we have."
   ]
  },
  {
   "cell_type": "code",
   "execution_count": 77,
   "id": "3d791a9e-8765-4aac-97b9-e2937db2411b",
   "metadata": {
    "tags": []
   },
   "outputs": [],
   "source": [
    "np.random.seed(0)\n",
    "n_flus_per_prot=np.floor(np.random.normal(50,2,size=N_prot)).astype(int);\n",
    "a=np.random.choice(N_prot,n_flus_per_prot[0],replace=True)\n",
    "flus_per_prot=[np.random.choice(N_prot,n_flus_per_prot[i]) for i in range(N_prot)];"
   ]
  },
  {
   "cell_type": "code",
   "execution_count": 53,
   "id": "5369a738-4287-4f71-8948-a84f7b88d330",
   "metadata": {
    "tags": []
   },
   "outputs": [],
   "source": [
    "p_rho_init=np.ones((N_prot,))/N_prot;"
   ]
  },
  {
   "cell_type": "code",
   "execution_count": 54,
   "id": "d12489bc-7574-4af6-849d-6d5b94008ad4",
   "metadata": {
    "tags": []
   },
   "outputs": [],
   "source": [
    "def calc_P_X_given_rho_norm(p_X_given_flu,N_prot,flus_mask,\n",
    "                            p_flu_exp_per_prot):\n",
    "    P_X_given_rho = np.zeros(shape=(len(p_X_given_flu), N_prot))  # Matrix where we store P(X|Rho)\n",
    "    for prot_iz in range(N_prot):\n",
    "        flu_iz_interest = flus_mask[prot_iz,:]\n",
    "        # Indexes where P(flu_exp|Prot)!=0\n",
    "        P_X_given_prot = p_X_given_flu[:, flu_iz_interest] @ np.reshape(\n",
    "            p_flu_exp_per_prot[prot_iz, flu_iz_interest], (-1, 1)\n",
    "        )  # P(X|P)= sum_{f} (P(X|f) P(f|Prot))\n",
    "        P_X_given_rho[:, prot_iz] = P_X_given_prot.flatten()\n",
    "    # Do I have to normalize P_X_given_rho?\n",
    "    return P_X_given_rho\n",
    "def calc_EM_step(P_X_given_rho_norm, p_rho_init, n_epochs=20):\n",
    "    p_rho = np.copy(p_rho_init)\n",
    "    p_rho_given_X_unnorm = P_X_given_rho_norm * p_rho\n",
    "    p_rho_given_X = np.transpose(\n",
    "        p_rho_given_X_unnorm.T / np.sum(p_rho_given_X_unnorm, axis=1)\n",
    "    )\n",
    "    p_rho_unnorm = np.sum(p_rho_given_X, axis=0)\n",
    "    p_rho = p_rho_unnorm / p_rho_unnorm.sum()\n",
    "    return p_rho"
   ]
  },
  {
   "cell_type": "code",
   "execution_count": 62,
   "id": "9fb033b4-9ed0-4925-9a76-9ce9e56ea2d2",
   "metadata": {
    "tags": []
   },
   "outputs": [
    {
     "name": "stdout",
     "output_type": "stream",
     "text": [
      "Hours computing for 30 epochs and 1M samples with batches of 100 reads: 130.98046779632566\n",
      "Hours computing for 30 epochs and 1M samples with batches of 1000 reads: 451.8546084562938\n",
      "Hours computing for 30 epochs and 1M samples with batches of 10000 reads: 2200.4071891307826\n"
     ]
    }
   ],
   "source": [
    "n_samples_try=[100,1000, 10000];\n",
    "for n_samples in n_samples_try:\n",
    "    P_x_given_f_e=np.random.normal(size=(n_samples,N_flus));\n",
    "    t_start=time.time();\n",
    "    P_X_given_rho_norm=calc_P_X_given_rho_norm(P_x_given_f_e,N_prot,flus_mask,p_flu_exp_per_prot)\n",
    "    t_inter=time.time();\n",
    "    p_rho_init_upd=calc_EM_step(P_X_given_rho_norm, p_rho_init)\n",
    "    t_finish=time.time();\n",
    "    t_per_read_per_it=(t_finish-t_start)/N_reads;\n",
    "    t_per_read_per_it\n",
    "    n_epochs=30;\n",
    "    t_per_read=t_per_read_per_it*n_epochs\n",
    "    print(\"Hours computing for 30 epochs and 1M samples with batches of \"+ str(n_samples)+\" reads: \" + str(t_per_read*1e6/3600))"
   ]
  },
  {
   "cell_type": "code",
   "execution_count": 63,
   "id": "1508a9eb-864d-4435-a461-3e8c6927a5b8",
   "metadata": {
    "tags": []
   },
   "outputs": [
    {
     "name": "stdout",
     "output_type": "stream",
     "text": [
      "1.8290860652923584\n",
      "262.2197766304016\n"
     ]
    }
   ],
   "source": [
    "print(t_finish-t_inter)\n",
    "print(t_inter-t_start)"
   ]
  },
  {
   "cell_type": "code",
   "execution_count": 75,
   "id": "8a8dc011-2d7e-48ef-91d7-040d32020f92",
   "metadata": {
    "tags": []
   },
   "outputs": [],
   "source": [
    "n_flus_per_prot=np.floor(np.random.normal(50,2,size=N_prot)).astype(int);"
   ]
  },
  {
   "cell_type": "code",
   "execution_count": 79,
   "id": "ce5f1b20-4ad2-4d7f-87c6-143e57a8bc7e",
   "metadata": {
    "tags": []
   },
   "outputs": [
    {
     "data": {
      "text/plain": [
       "array([0, 0, 0, 0, 0, 0, 0, 0, 0, 0, 1, 1, 1, 1, 1, 1, 1, 1, 1, 1, 2, 2,\n",
       "       2, 2, 2, 2, 2, 2, 2, 2, 3, 3, 3, 3, 3, 3, 3, 3, 3, 3, 4, 4, 4, 4,\n",
       "       4, 4, 4, 4, 4, 4])"
      ]
     },
     "execution_count": 79,
     "metadata": {},
     "output_type": "execute_result"
    }
   ],
   "source": [
    "np.repeat(np.arange(5),int(10))"
   ]
  },
  {
   "cell_type": "code",
   "execution_count": 80,
   "id": "b2369f8e-3b1b-4aeb-a694-627333129b43",
   "metadata": {
    "tags": []
   },
   "outputs": [
    {
     "data": {
      "text/plain": [
       "array([1, 0, 1, 0, 0, 2, 1, 0, 0, 2])"
      ]
     },
     "execution_count": 80,
     "metadata": {},
     "output_type": "execute_result"
    }
   ],
   "source": [
    "np.concatenate([np.random.choice(3,2,replace=False) for i in range(5)])"
   ]
  },
  {
   "cell_type": "markdown",
   "id": "eeb5aee7-75e6-4c24-b5b6-fb975e7d7fe9",
   "metadata": {},
   "source": [
    "## Space allocation test"
   ]
  },
  {
   "cell_type": "code",
   "execution_count": 93,
   "id": "c50bbd39-a515-442f-b3a0-a1d24dfcac62",
   "metadata": {
    "tags": []
   },
   "outputs": [],
   "source": [
    "N_reads=1000;\n",
    "N_flus=10000;\n",
    "N_sparsity=10000;\n",
    "size_estimated=N_reads*N_sparsity*(4+2)/(2**30);\n",
    "top_n=np.random.normal(0,1,size=(N_reads,N_sparsity)).astype(np.float32);\n",
    "top_n_iz=np.random.normal(50,1,size=(N_reads,N_sparsity)).astype(dtype=np.uint16);"
   ]
  },
  {
   "cell_type": "code",
   "execution_count": 94,
   "id": "78caf89d-6d51-4eae-954f-7be349449659",
   "metadata": {
    "tags": []
   },
   "outputs": [],
   "source": [
    "np.savez(\"Test.npz\",top_n,top_n_iz)"
   ]
  },
  {
   "cell_type": "code",
   "execution_count": 95,
   "id": "6c8cd76f-1aac-4e46-b71c-0f9bb9fcddb6",
   "metadata": {
    "tags": []
   },
   "outputs": [
    {
     "name": "stdout",
     "output_type": "stream",
     "text": [
      "0.055879825726151466\n",
      "0.05587935447692871\n"
     ]
    }
   ],
   "source": [
    "import os\n",
    "print(os.path.getsize(\"Test.npz\")/(2**30))\n",
    "print(size_estimated)"
   ]
  }
 ],
 "metadata": {
  "kernelspec": {
   "display_name": "Python 3 (ipykernel)",
   "language": "python",
   "name": "python3"
  },
  "language_info": {
   "codemirror_mode": {
    "name": "ipython",
    "version": 3
   },
   "file_extension": ".py",
   "mimetype": "text/x-python",
   "name": "python",
   "nbconvert_exporter": "python",
   "pygments_lexer": "ipython3",
   "version": "3.8.17"
  }
 },
 "nbformat": 4,
 "nbformat_minor": 5
}
