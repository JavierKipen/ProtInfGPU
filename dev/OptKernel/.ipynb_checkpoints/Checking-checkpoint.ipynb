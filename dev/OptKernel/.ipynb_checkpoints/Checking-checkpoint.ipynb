{
 "cells": [
  {
   "cell_type": "code",
   "execution_count": 1,
   "id": "17e2fdb3-3a84-4d10-86e2-c963bcb77495",
   "metadata": {
    "tags": []
   },
   "outputs": [],
   "source": [
    "import numpy as np"
   ]
  },
  {
   "cell_type": "markdown",
   "id": "23a3b03f-388a-42c6-b55d-a6136932b51f",
   "metadata": {},
   "source": [
    "Here we see that if we group together we get  different amount of elements per group:"
   ]
  },
  {
   "cell_type": "code",
   "execution_count": 4,
   "id": "2aac2016-aca0-4f13-9eaf-e32f935686cd",
   "metadata": {
    "collapsed": true,
    "jupyter": {
     "outputs_hidden": true
    },
    "tags": []
   },
   "outputs": [
    {
     "name": "stdout",
     "output_type": "stream",
     "text": [
      "n_proteins_per_block = 150, max sum = 4979\n",
      "n_proteins_per_block = 151, max sum = 4916\n",
      "n_proteins_per_block = 152, max sum = 4929\n",
      "n_proteins_per_block = 153, max sum = 5116\n",
      "n_proteins_per_block = 154, max sum = 5116\n",
      "n_proteins_per_block = 155, max sum = 5200\n",
      "n_proteins_per_block = 156, max sum = 5152\n",
      "n_proteins_per_block = 157, max sum = 5221\n",
      "n_proteins_per_block = 158, max sum = 5186\n",
      "n_proteins_per_block = 159, max sum = 5184\n",
      "n_proteins_per_block = 160, max sum = 5184\n",
      "n_proteins_per_block = 161, max sum = 5241\n",
      "n_proteins_per_block = 162, max sum = 5237\n",
      "n_proteins_per_block = 163, max sum = 5161\n",
      "n_proteins_per_block = 164, max sum = 5274\n",
      "n_proteins_per_block = 165, max sum = 5274\n",
      "n_proteins_per_block = 166, max sum = 5545\n",
      "n_proteins_per_block = 167, max sum = 5452\n",
      "n_proteins_per_block = 168, max sum = 5442\n",
      "n_proteins_per_block = 169, max sum = 5442\n",
      "n_proteins_per_block = 170, max sum = 5583\n",
      "n_proteins_per_block = 171, max sum = 5625\n",
      "n_proteins_per_block = 172, max sum = 5625\n",
      "n_proteins_per_block = 173, max sum = 5567\n",
      "n_proteins_per_block = 174, max sum = 5659\n",
      "n_proteins_per_block = 175, max sum = 5598\n",
      "n_proteins_per_block = 176, max sum = 5598\n",
      "n_proteins_per_block = 177, max sum = 5580\n",
      "n_proteins_per_block = 178, max sum = 5701\n",
      "n_proteins_per_block = 179, max sum = 5701\n",
      "n_proteins_per_block = 180, max sum = 5932\n",
      "n_proteins_per_block = 181, max sum = 5932\n",
      "n_proteins_per_block = 182, max sum = 5814\n",
      "n_proteins_per_block = 183, max sum = 5989\n",
      "n_proteins_per_block = 184, max sum = 5989\n",
      "n_proteins_per_block = 185, max sum = 6076\n",
      "n_proteins_per_block = 186, max sum = 5928\n",
      "n_proteins_per_block = 187, max sum = 5928\n",
      "n_proteins_per_block = 188, max sum = 5937\n",
      "n_proteins_per_block = 189, max sum = 5937\n",
      "n_proteins_per_block = 190, max sum = 5965\n",
      "n_proteins_per_block = 191, max sum = 5965\n",
      "n_proteins_per_block = 192, max sum = 6063\n",
      "n_proteins_per_block = 193, max sum = 5994\n",
      "n_proteins_per_block = 194, max sum = 5994\n",
      "n_proteins_per_block = 195, max sum = 6432\n",
      "n_proteins_per_block = 196, max sum = 6432\n",
      "n_proteins_per_block = 197, max sum = 6555\n",
      "n_proteins_per_block = 198, max sum = 6555\n",
      "n_proteins_per_block = 199, max sum = 6393\n"
     ]
    }
   ],
   "source": [
    "nFluExpForI=np.fromfile(\"/home/jkipen/ProtInfGPU/dev/OptKernel/data/nFluExpForI.bin\", dtype=np.uint32)\n",
    "nProt=len(nFluExpForI);\n",
    "list_n_proteins_per_block=np.arange(150,200);\n",
    "for n_proteins_per_block in list_n_proteins_per_block:\n",
    "    n_chunks = int(np.ceil(len(nFluExpForI) / n_proteins_per_block))  \n",
    "    list_sub_groups=np.array_split(nFluExpForI, n_chunks)\n",
    "    max_value=np.max([np.sum(i) for i in list_sub_groups])\n",
    "    print(f\"n_proteins_per_block = {n_proteins_per_block}, max sum = {max_value}\")"
   ]
  },
  {
   "cell_type": "code",
   "execution_count": 21,
   "id": "49c4fe3d-b0a2-4077-8fec-32d1260b7f03",
   "metadata": {
    "tags": []
   },
   "outputs": [],
   "source": [
    "def loadSubMat(path,nProt,nSubRowsToLoad= (-1) ):\n",
    "    if nSubRowsToLoad == -1:\n",
    "        retVal=np.fromfile(path, dtype=np.float32);\n",
    "    else:\n",
    "        retVal=np.fromfile(path, dtype=np.float32,count=nProt*nSubRowsToLoad);\n",
    "    retVal=retVal.reshape(-1, nProt)\n",
    "    return retVal\n",
    "def checkMatrixSanity(mat):\n",
    "    if np.isnan(np.sum(mat)):\n",
    "        print(\"There is a NaN!\");\n",
    "    if np.sum(np.sum(mat,axis=1)==0) > 0:\n",
    "        print(\"There is a row that is zero!\");"
   ]
  },
  {
   "cell_type": "code",
   "execution_count": 174,
   "id": "38643a5d-3a3e-4c42-a2e0-b16f0aaa2606",
   "metadata": {
    "tags": []
   },
   "outputs": [
    {
     "name": "stdout",
     "output_type": "stream",
     "text": [
      "98.92179\n",
      "98.92179\n",
      "0\n"
     ]
    }
   ],
   "source": [
    "trueSubMat=loadSubMat(\"/home/jkipen/raid_storage/ProtInfGPU/data/PXgIrelTrue.bin\",nProt,nSubRowsToLoad= 1000)\n",
    "estSubMat=loadSubMat(\"/home/jkipen/raid_storage/ProtInfGPU/data/PXgIrelToCheckMemTransf.bin\",nProt,nSubRowsToLoad= 1000)\n",
    "print(np.sum(trueSubMat))\n",
    "print(np.sum(estSubMat))\n",
    "print(np.sum(np.sum(estSubMat,axis=1)==0))"
   ]
  },
  {
   "cell_type": "code",
   "execution_count": 145,
   "id": "40227779-96f9-4bf4-89c7-67c7fba2ce7c",
   "metadata": {
    "tags": []
   },
   "outputs": [
    {
     "name": "stdout",
     "output_type": "stream",
     "text": [
      "[[6.566413e-08 6.566413e-08 6.566413e-08 ... 6.566413e-08 6.566413e-08\n",
      "  6.566413e-08]\n",
      " [6.566413e-08 6.566413e-08 6.566413e-08 ... 6.566413e-08 6.566413e-08\n",
      "  6.566413e-08]\n",
      " [6.566413e-08 6.566413e-08 6.566413e-08 ... 6.566413e-08 6.566413e-08\n",
      "  6.566413e-08]\n",
      " ...\n",
      " [6.566413e-08 6.566413e-08 6.566413e-08 ... 6.566413e-08 6.566413e-08\n",
      "  6.566413e-08]\n",
      " [6.566413e-08 6.566413e-08 6.566413e-08 ... 6.566413e-08 6.566413e-08\n",
      "  6.566413e-08]\n",
      " [6.566413e-08 6.566413e-08 6.566413e-08 ... 6.566413e-08 6.566413e-08\n",
      "  6.566413e-08]]\n",
      "[[6.566413e-08 6.566413e-08 6.566413e-08 ... 6.566413e-08 6.566413e-08\n",
      "  6.566413e-08]\n",
      " [6.566413e-08 6.566413e-08 6.566413e-08 ... 6.566413e-08 6.566413e-08\n",
      "  6.566413e-08]\n",
      " [6.566413e-08 6.566413e-08 6.566413e-08 ... 6.566413e-08 6.566413e-08\n",
      "  6.566413e-08]\n",
      " ...\n",
      " [6.566413e-08 6.566413e-08 6.566413e-08 ... 6.566413e-08 6.566413e-08\n",
      "  6.566413e-08]\n",
      " [6.566413e-08 6.566413e-08 6.566413e-08 ... 6.566413e-08 6.566413e-08\n",
      "  6.566413e-08]\n",
      " [6.566413e-08 6.566413e-08 6.566413e-08 ... 6.566413e-08 6.566413e-08\n",
      "  6.566413e-08]]\n"
     ]
    }
   ],
   "source": [
    "print(estSubMat)\n",
    "print(trueSubMat)"
   ]
  },
  {
   "cell_type": "code",
   "execution_count": 141,
   "id": "8eb8b286-290e-45f7-82f6-3da3ff08ecd0",
   "metadata": {
    "tags": []
   },
   "outputs": [
    {
     "ename": "KeyboardInterrupt",
     "evalue": "",
     "output_type": "error",
     "traceback": [
      "\u001b[0;31m---------------------------------------------------------------------------\u001b[0m",
      "\u001b[0;31mKeyboardInterrupt\u001b[0m                         Traceback (most recent call last)",
      "Cell \u001b[0;32mIn[141], line 1\u001b[0m\n\u001b[0;32m----> 1\u001b[0m trueSubMat\u001b[38;5;241m=\u001b[39m\u001b[43mloadSubMat\u001b[49m\u001b[43m(\u001b[49m\u001b[38;5;124;43m\"\u001b[39;49m\u001b[38;5;124;43m/home/jkipen/raid_storage/ProtInfGPU/data/PXgIrelTrue.bin\u001b[39;49m\u001b[38;5;124;43m\"\u001b[39;49m\u001b[43m,\u001b[49m\u001b[43mnProt\u001b[49m\u001b[43m)\u001b[49m\n",
      "Cell \u001b[0;32mIn[21], line 3\u001b[0m, in \u001b[0;36mloadSubMat\u001b[0;34m(path, nProt, nSubRowsToLoad)\u001b[0m\n\u001b[1;32m      1\u001b[0m \u001b[38;5;28;01mdef\u001b[39;00m \u001b[38;5;21mloadSubMat\u001b[39m(path,nProt,nSubRowsToLoad\u001b[38;5;241m=\u001b[39m (\u001b[38;5;241m-\u001b[39m\u001b[38;5;241m1\u001b[39m) ):\n\u001b[1;32m      2\u001b[0m     \u001b[38;5;28;01mif\u001b[39;00m nSubRowsToLoad \u001b[38;5;241m==\u001b[39m \u001b[38;5;241m-\u001b[39m\u001b[38;5;241m1\u001b[39m:\n\u001b[0;32m----> 3\u001b[0m         retVal\u001b[38;5;241m=\u001b[39m\u001b[43mnp\u001b[49m\u001b[38;5;241;43m.\u001b[39;49m\u001b[43mfromfile\u001b[49m\u001b[43m(\u001b[49m\u001b[43mpath\u001b[49m\u001b[43m,\u001b[49m\u001b[43m \u001b[49m\u001b[43mdtype\u001b[49m\u001b[38;5;241;43m=\u001b[39;49m\u001b[43mnp\u001b[49m\u001b[38;5;241;43m.\u001b[39;49m\u001b[43mfloat32\u001b[49m\u001b[43m)\u001b[49m;\n\u001b[1;32m      4\u001b[0m     \u001b[38;5;28;01melse\u001b[39;00m:\n\u001b[1;32m      5\u001b[0m         retVal\u001b[38;5;241m=\u001b[39mnp\u001b[38;5;241m.\u001b[39mfromfile(path, dtype\u001b[38;5;241m=\u001b[39mnp\u001b[38;5;241m.\u001b[39mfloat32,count\u001b[38;5;241m=\u001b[39mnProt\u001b[38;5;241m*\u001b[39mnSubRowsToLoad);\n",
      "\u001b[0;31mKeyboardInterrupt\u001b[0m: "
     ]
    }
   ],
   "source": [
    "trueSubMat=loadSubMat(\"/home/jkipen/raid_storage/ProtInfGPU/data/PXgIrelTrue.bin\",nProt)\n"
   ]
  },
  {
   "cell_type": "code",
   "execution_count": 24,
   "id": "5129776e-a651-4a32-9cec-a40b6a89de12",
   "metadata": {
    "tags": []
   },
   "outputs": [],
   "source": [
    "checkMatrixSanity(trueSubMat)"
   ]
  },
  {
   "cell_type": "code",
   "execution_count": 25,
   "id": "6afee996-5a04-4f0c-bcc8-17c17c5d90fc",
   "metadata": {
    "tags": []
   },
   "outputs": [
    {
     "data": {
      "text/plain": [
       "51298.164"
      ]
     },
     "execution_count": 25,
     "metadata": {},
     "output_type": "execute_result"
    }
   ],
   "source": [
    "np.sum(trueSubMat)"
   ]
  },
  {
   "cell_type": "code",
   "execution_count": 175,
   "id": "2f69cf4a-493e-40bb-af99-c16b6614748a",
   "metadata": {
    "tags": []
   },
   "outputs": [],
   "source": [
    "estSubMat=loadSubMat(\"/home/jkipen/raid_storage/ProtInfGPU/data/PXgIrelToCheck.bin\",nProt)"
   ]
  },
  {
   "cell_type": "code",
   "execution_count": 143,
   "id": "bb985db2-dc9e-4b29-89a0-5f44fd2dcb65",
   "metadata": {
    "tags": []
   },
   "outputs": [],
   "source": [
    "checkMatrixSanity(estSubMat)"
   ]
  },
  {
   "cell_type": "code",
   "execution_count": 176,
   "id": "0da917af-1625-4d1c-b5c2-213f6ae97d17",
   "metadata": {
    "tags": []
   },
   "outputs": [
    {
     "data": {
      "text/plain": [
       "51298.156"
      ]
     },
     "execution_count": 176,
     "metadata": {},
     "output_type": "execute_result"
    }
   ],
   "source": [
    "np.sum(estSubMat)"
   ]
  },
  {
   "cell_type": "markdown",
   "id": "9b564de9-51f9-4b6d-a293-1aa9f12809fa",
   "metadata": {},
   "source": [
    "Now lets compare the matrixes element-wise:"
   ]
  },
  {
   "cell_type": "code",
   "execution_count": 138,
   "id": "15426534-9176-49cd-b36b-98290393b253",
   "metadata": {
    "tags": []
   },
   "outputs": [],
   "source": [
    "def compMats(matA,matB):\n",
    "    den=np.maximum(matA,matB)\n",
    "    den[den==0]=1e-6;\n",
    "    num=np.abs(matA-matB)\n",
    "    rel_dif=np.divide(num,den)\n",
    "    print(\"The maximum relative difference was \" + str(np.max(rel_dif)))"
   ]
  },
  {
   "cell_type": "code",
   "execution_count": 85,
   "id": "50905361-1997-4774-aab7-9092ac710bf0",
   "metadata": {
    "tags": []
   },
   "outputs": [
    {
     "name": "stdout",
     "output_type": "stream",
     "text": [
      "The maximum relative difference was 1.0\n"
     ]
    }
   ],
   "source": [
    "compMats(estSubMat,trueSubMat)"
   ]
  },
  {
   "cell_type": "code",
   "execution_count": 80,
   "id": "4457f4e9-2a26-42ca-9bc1-c9a64c25e440",
   "metadata": {
    "tags": []
   },
   "outputs": [],
   "source": [
    "estSubMat=estSubMat[-50000:,:];"
   ]
  },
  {
   "cell_type": "code",
   "execution_count": 82,
   "id": "42a434a9-1a84-482a-805a-e4c7ffdb86ca",
   "metadata": {
    "tags": []
   },
   "outputs": [],
   "source": [
    "trueSubMat=trueSubMat[-50000:,:];"
   ]
  },
  {
   "cell_type": "code",
   "execution_count": 83,
   "id": "0cd567b7-1f29-4202-9afa-8228187d8341",
   "metadata": {
    "tags": []
   },
   "outputs": [
    {
     "name": "stdout",
     "output_type": "stream",
     "text": [
      "The maximum relative difference was 1.19206874e-07\n"
     ]
    }
   ],
   "source": [
    "compMats(estSubMat,trueSubMat)"
   ]
  },
  {
   "cell_type": "code",
   "execution_count": 149,
   "id": "b1b4fd07-5966-4826-b0fd-4e345a50ed5d",
   "metadata": {
    "tags": []
   },
   "outputs": [
    {
     "name": "stdout",
     "output_type": "stream",
     "text": [
      "20161324\n",
      "0.067087054\n",
      "0.13417405\n"
     ]
    }
   ],
   "source": [
    "den=np.maximum(trueSubMat,estSubMat)\n",
    "num=np.abs(trueSubMat-estSubMat)\n",
    "rel_dif=np.divide(num,den)\n",
    "argmaxi=np.argmax(rel_dif)\n",
    "print(argmaxi)\n",
    "print(trueSubMat[int(argmaxi/nProt),int(argmaxi%nProt)])\n",
    "print(estSubMat[int(argmaxi/nProt),int(argmaxi%nProt)])"
   ]
  },
  {
   "cell_type": "code",
   "execution_count": 173,
   "id": "ea819616-ec1a-47a9-87cd-531dfd261bf6",
   "metadata": {
    "tags": []
   },
   "outputs": [
    {
     "name": "stdout",
     "output_type": "stream",
     "text": [
      "[ 6880666  6880665  6880664  6880662  6880668 16122174  6880667  6880663\n",
      " 10083070 20161324]\n"
     ]
    },
    {
     "data": {
      "text/plain": [
       "array([0.        , 0.        , 0.        , 0.        , 0.        ,\n",
       "       0.49999878, 0.        , 0.        , 0.4999991 , 0.4999998 ],\n",
       "      dtype=float32)"
      ]
     },
     "execution_count": 173,
     "metadata": {},
     "output_type": "execute_result"
    }
   ],
   "source": [
    "print(np.argpartition(rel_dif.flatten(), -10)[-10:])\n",
    "a=np.argpartition(rel_dif.flatten(), -10)[-10:];\n",
    "rel_dif.flatten()[a]"
   ]
  },
  {
   "cell_type": "code",
   "execution_count": 171,
   "id": "20005ee4-f57a-4710-ba1c-a8ea26bc5428",
   "metadata": {
    "tags": []
   },
   "outputs": [
    {
     "name": "stdout",
     "output_type": "stream",
     "text": [
      "0.013812063\n",
      "0.02762406\n"
     ]
    }
   ],
   "source": [
    "argmaxi=16122174;\n",
    "print(trueSubMat[int(argmaxi/nProt),int(argmaxi%nProt)])\n",
    "print(estSubMat[int(argmaxi/nProt),int(argmaxi%nProt)])"
   ]
  },
  {
   "cell_type": "code",
   "execution_count": 148,
   "id": "b3bed9c8-c686-4dab-a370-9f4d30b541ea",
   "metadata": {
    "tags": []
   },
   "outputs": [
    {
     "name": "stdout",
     "output_type": "stream",
     "text": [
      "The maximum relative difference was 0.4999998\n"
     ]
    }
   ],
   "source": [
    "compMats(estSubMat,trueSubMat)"
   ]
  },
  {
   "cell_type": "code",
   "execution_count": 166,
   "id": "55859935-2500-46d5-97cd-bf6fba4b9f12",
   "metadata": {
    "tags": []
   },
   "outputs": [
    {
     "data": {
      "text/plain": [
       "array([0.13417405], dtype=float32)"
      ]
     },
     "execution_count": 166,
     "metadata": {},
     "output_type": "execute_result"
    }
   ],
   "source": [
    "estSubMat[976,(estSubMat[976,:]!=estSubMat[0,0])]"
   ]
  },
  {
   "cell_type": "code",
   "execution_count": 164,
   "id": "44fc26ba-875d-4d36-90fd-3fd3acbacb04",
   "metadata": {
    "tags": []
   },
   "outputs": [
    {
     "data": {
      "text/plain": [
       "array([0.06708705], dtype=float32)"
      ]
     },
     "execution_count": 164,
     "metadata": {},
     "output_type": "execute_result"
    }
   ],
   "source": [
    "trueSubMat[976,(trueSubMat[976,:]!=trueSubMat[0,0])]"
   ]
  },
  {
   "cell_type": "code",
   "execution_count": 167,
   "id": "56985923-fec0-4235-9181-582a305dfbcf",
   "metadata": {
    "tags": []
   },
   "outputs": [
    {
     "data": {
      "text/plain": [
       "14732"
      ]
     },
     "execution_count": 167,
     "metadata": {},
     "output_type": "execute_result"
    }
   ],
   "source": [
    "20161324%20642"
   ]
  },
  {
   "cell_type": "code",
   "execution_count": 169,
   "id": "4e39d2a8-fdf9-4e01-baff-234d8bb3e015",
   "metadata": {
    "tags": []
   },
   "outputs": [
    {
     "data": {
      "text/plain": [
       "9774"
      ]
     },
     "execution_count": 169,
     "metadata": {},
     "output_type": "execute_result"
    }
   ],
   "source": [
    "10083070%20642"
   ]
  },
  {
   "cell_type": "code",
   "execution_count": 170,
   "id": "a6e5090c-e6db-4274-961a-61fcd82a875e",
   "metadata": {
    "tags": []
   },
   "outputs": [
    {
     "data": {
      "text/plain": [
       "488.4735006297839"
      ]
     },
     "execution_count": 170,
     "metadata": {},
     "output_type": "execute_result"
    }
   ],
   "source": [
    "10083070/20642"
   ]
  },
  {
   "cell_type": "code",
   "execution_count": 172,
   "id": "7270442d-fb73-44ee-a7ca-d85edb6a27cd",
   "metadata": {
    "tags": []
   },
   "outputs": [
    {
     "data": {
      "text/plain": [
       "772"
      ]
     },
     "execution_count": 172,
     "metadata": {},
     "output_type": "execute_result"
    }
   ],
   "source": [
    "16122174%20642"
   ]
  }
 ],
 "metadata": {
  "kernelspec": {
   "display_name": "Python 3 (ipykernel)",
   "language": "python",
   "name": "python3"
  },
  "language_info": {
   "codemirror_mode": {
    "name": "ipython",
    "version": 3
   },
   "file_extension": ".py",
   "mimetype": "text/x-python",
   "name": "python",
   "nbconvert_exporter": "python",
   "pygments_lexer": "ipython3",
   "version": "3.8.17"
  }
 },
 "nbformat": 4,
 "nbformat_minor": 5
}
