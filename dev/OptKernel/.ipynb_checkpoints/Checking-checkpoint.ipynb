{
 "cells": [
  {
   "cell_type": "code",
   "execution_count": 1,
   "id": "17e2fdb3-3a84-4d10-86e2-c963bcb77495",
   "metadata": {
    "tags": []
   },
   "outputs": [],
   "source": [
    "import numpy as np"
   ]
  },
  {
   "cell_type": "markdown",
   "id": "23a3b03f-388a-42c6-b55d-a6136932b51f",
   "metadata": {},
   "source": [
    "Here we see that if we group together we get  different amount of elements per group:"
   ]
  },
  {
   "cell_type": "code",
   "execution_count": 4,
   "id": "2aac2016-aca0-4f13-9eaf-e32f935686cd",
   "metadata": {
    "collapsed": true,
    "jupyter": {
     "outputs_hidden": true
    },
    "tags": []
   },
   "outputs": [
    {
     "name": "stdout",
     "output_type": "stream",
     "text": [
      "n_proteins_per_block = 150, max sum = 4979\n",
      "n_proteins_per_block = 151, max sum = 4916\n",
      "n_proteins_per_block = 152, max sum = 4929\n",
      "n_proteins_per_block = 153, max sum = 5116\n",
      "n_proteins_per_block = 154, max sum = 5116\n",
      "n_proteins_per_block = 155, max sum = 5200\n",
      "n_proteins_per_block = 156, max sum = 5152\n",
      "n_proteins_per_block = 157, max sum = 5221\n",
      "n_proteins_per_block = 158, max sum = 5186\n",
      "n_proteins_per_block = 159, max sum = 5184\n",
      "n_proteins_per_block = 160, max sum = 5184\n",
      "n_proteins_per_block = 161, max sum = 5241\n",
      "n_proteins_per_block = 162, max sum = 5237\n",
      "n_proteins_per_block = 163, max sum = 5161\n",
      "n_proteins_per_block = 164, max sum = 5274\n",
      "n_proteins_per_block = 165, max sum = 5274\n",
      "n_proteins_per_block = 166, max sum = 5545\n",
      "n_proteins_per_block = 167, max sum = 5452\n",
      "n_proteins_per_block = 168, max sum = 5442\n",
      "n_proteins_per_block = 169, max sum = 5442\n",
      "n_proteins_per_block = 170, max sum = 5583\n",
      "n_proteins_per_block = 171, max sum = 5625\n",
      "n_proteins_per_block = 172, max sum = 5625\n",
      "n_proteins_per_block = 173, max sum = 5567\n",
      "n_proteins_per_block = 174, max sum = 5659\n",
      "n_proteins_per_block = 175, max sum = 5598\n",
      "n_proteins_per_block = 176, max sum = 5598\n",
      "n_proteins_per_block = 177, max sum = 5580\n",
      "n_proteins_per_block = 178, max sum = 5701\n",
      "n_proteins_per_block = 179, max sum = 5701\n",
      "n_proteins_per_block = 180, max sum = 5932\n",
      "n_proteins_per_block = 181, max sum = 5932\n",
      "n_proteins_per_block = 182, max sum = 5814\n",
      "n_proteins_per_block = 183, max sum = 5989\n",
      "n_proteins_per_block = 184, max sum = 5989\n",
      "n_proteins_per_block = 185, max sum = 6076\n",
      "n_proteins_per_block = 186, max sum = 5928\n",
      "n_proteins_per_block = 187, max sum = 5928\n",
      "n_proteins_per_block = 188, max sum = 5937\n",
      "n_proteins_per_block = 189, max sum = 5937\n",
      "n_proteins_per_block = 190, max sum = 5965\n",
      "n_proteins_per_block = 191, max sum = 5965\n",
      "n_proteins_per_block = 192, max sum = 6063\n",
      "n_proteins_per_block = 193, max sum = 5994\n",
      "n_proteins_per_block = 194, max sum = 5994\n",
      "n_proteins_per_block = 195, max sum = 6432\n",
      "n_proteins_per_block = 196, max sum = 6432\n",
      "n_proteins_per_block = 197, max sum = 6555\n",
      "n_proteins_per_block = 198, max sum = 6555\n",
      "n_proteins_per_block = 199, max sum = 6393\n"
     ]
    }
   ],
   "source": [
    "nFluExpForI=np.fromfile(\"/home/jkipen/ProtInfGPU/dev/OptKernel/data/nFluExpForI.bin\", dtype=np.uint32)\n",
    "nProt=len(nFluExpForI);\n",
    "list_n_proteins_per_block=np.arange(150,200);\n",
    "for n_proteins_per_block in list_n_proteins_per_block:\n",
    "    n_chunks = int(np.ceil(len(nFluExpForI) / n_proteins_per_block))  \n",
    "    list_sub_groups=np.array_split(nFluExpForI, n_chunks)\n",
    "    max_value=np.max([np.sum(i) for i in list_sub_groups])\n",
    "    print(f\"n_proteins_per_block = {n_proteins_per_block}, max sum = {max_value}\")"
   ]
  },
  {
   "cell_type": "code",
   "execution_count": 21,
   "id": "49c4fe3d-b0a2-4077-8fec-32d1260b7f03",
   "metadata": {
    "tags": []
   },
   "outputs": [],
   "source": [
    "def loadSubMat(path,nProt,nSubRowsToLoad= (-1) ):\n",
    "    if nSubRowsToLoad == -1:\n",
    "        retVal=np.fromfile(path, dtype=np.float32);\n",
    "    else:\n",
    "        retVal=np.fromfile(path, dtype=np.float32,count=nProt*nSubRowsToLoad);\n",
    "    retVal=retVal.reshape(-1, nProt)\n",
    "    return retVal\n",
    "def checkMatrixSanity(mat):\n",
    "    if np.isnan(np.sum(mat)):\n",
    "        print(\"There is a NaN!\");\n",
    "    if np.sum(np.sum(mat,axis=1)==0) > 0:\n",
    "        print(\"There is a row that is zero!\");"
   ]
  },
  {
   "cell_type": "code",
   "execution_count": 30,
   "id": "38643a5d-3a3e-4c42-a2e0-b16f0aaa2606",
   "metadata": {
    "tags": []
   },
   "outputs": [
    {
     "name": "stdout",
     "output_type": "stream",
     "text": [
      "98.92179\n",
      "93.2185\n",
      "0\n"
     ]
    }
   ],
   "source": [
    "trueSubMat=loadSubMat(\"/home/jkipen/raid_storage/ProtInfGPU/data/PXgIrelTrue.bin\",nProt,nSubRowsToLoad= 1000)\n",
    "estSubMat=loadSubMat(\"/home/jkipen/raid_storage/ProtInfGPU/data/PXgIrelToCheck.bin\",nProt,nSubRowsToLoad= 1000)\n",
    "print(np.sum(trueSubMat))\n",
    "print(np.sum(estSubMat))\n",
    "print(np.sum(np.sum(estSubMat,axis=1)==0))"
   ]
  },
  {
   "cell_type": "code",
   "execution_count": 31,
   "id": "40227779-96f9-4bf4-89c7-67c7fba2ce7c",
   "metadata": {
    "tags": []
   },
   "outputs": [
    {
     "name": "stdout",
     "output_type": "stream",
     "text": [
      "[[6.566413e-08 6.566413e-08 6.566413e-08 ... 6.566413e-08 6.566413e-08\n",
      "  6.566413e-08]\n",
      " [6.566413e-08 6.566413e-08 6.566413e-08 ... 6.566413e-08 6.566413e-08\n",
      "  6.566413e-08]\n",
      " [6.566413e-08 6.566413e-08 6.566413e-08 ... 6.566413e-08 6.566413e-08\n",
      "  6.566413e-08]\n",
      " ...\n",
      " [6.566413e-08 6.566413e-08 0.000000e+00 ... 0.000000e+00 0.000000e+00\n",
      "  0.000000e+00]\n",
      " [6.566413e-08 6.566413e-08 0.000000e+00 ... 6.566413e-08 6.566413e-08\n",
      "  0.000000e+00]\n",
      " [6.566413e-08 0.000000e+00 6.566413e-08 ... 0.000000e+00 6.566413e-08\n",
      "  6.566413e-08]]\n",
      "[[6.566413e-08 6.566413e-08 6.566413e-08 ... 6.566413e-08 6.566413e-08\n",
      "  6.566413e-08]\n",
      " [6.566413e-08 6.566413e-08 6.566413e-08 ... 6.566413e-08 6.566413e-08\n",
      "  6.566413e-08]\n",
      " [6.566413e-08 6.566413e-08 6.566413e-08 ... 6.566413e-08 6.566413e-08\n",
      "  6.566413e-08]\n",
      " ...\n",
      " [6.566413e-08 6.566413e-08 6.566413e-08 ... 6.566413e-08 6.566413e-08\n",
      "  6.566413e-08]\n",
      " [6.566413e-08 6.566413e-08 6.566413e-08 ... 6.566413e-08 6.566413e-08\n",
      "  6.566413e-08]\n",
      " [6.566413e-08 6.566413e-08 6.566413e-08 ... 6.566413e-08 6.566413e-08\n",
      "  6.566413e-08]]\n"
     ]
    }
   ],
   "source": [
    "print(estSubMat)\n",
    "print(trueSubMat)"
   ]
  },
  {
   "cell_type": "code",
   "execution_count": 23,
   "id": "8eb8b286-290e-45f7-82f6-3da3ff08ecd0",
   "metadata": {
    "tags": []
   },
   "outputs": [],
   "source": [
    "trueSubMat=loadSubMat(\"/home/jkipen/raid_storage/ProtInfGPU/data/PXgIrelTrue.bin\",nProt)\n"
   ]
  },
  {
   "cell_type": "code",
   "execution_count": 24,
   "id": "5129776e-a651-4a32-9cec-a40b6a89de12",
   "metadata": {
    "tags": []
   },
   "outputs": [],
   "source": [
    "checkMatrixSanity(trueSubMat)"
   ]
  },
  {
   "cell_type": "code",
   "execution_count": 25,
   "id": "6afee996-5a04-4f0c-bcc8-17c17c5d90fc",
   "metadata": {
    "tags": []
   },
   "outputs": [
    {
     "data": {
      "text/plain": [
       "51298.164"
      ]
     },
     "execution_count": 25,
     "metadata": {},
     "output_type": "execute_result"
    }
   ],
   "source": [
    "np.sum(trueSubMat)"
   ]
  },
  {
   "cell_type": "code",
   "execution_count": null,
   "id": "2f69cf4a-493e-40bb-af99-c16b6614748a",
   "metadata": {},
   "outputs": [],
   "source": [
    "estSubMat=loadSubMat(\"/home/jkipen/raid_storage/ProtInfGPU/data/PXgIrelToCheck.bin\",nProt)"
   ]
  },
  {
   "cell_type": "code",
   "execution_count": null,
   "id": "bb985db2-dc9e-4b29-89a0-5f44fd2dcb65",
   "metadata": {},
   "outputs": [],
   "source": [
    "checkMatrixSanity(trueSubMat)"
   ]
  },
  {
   "cell_type": "code",
   "execution_count": null,
   "id": "186a8fc2-97ba-42a2-ba2d-1966e9d4cd14",
   "metadata": {},
   "outputs": [],
   "source": []
  },
  {
   "cell_type": "code",
   "execution_count": null,
   "id": "254fd021-44f8-44fa-80f3-1706f3069ba2",
   "metadata": {},
   "outputs": [],
   "source": [
    "def comparingMats(true"
   ]
  },
  {
   "cell_type": "code",
   "execution_count": null,
   "id": "353ac890-e2ff-4000-bb91-f8ef896e08cc",
   "metadata": {},
   "outputs": [],
   "source": []
  }
 ],
 "metadata": {
  "kernelspec": {
   "display_name": "Python 3 (ipykernel)",
   "language": "python",
   "name": "python3"
  },
  "language_info": {
   "codemirror_mode": {
    "name": "ipython",
    "version": 3
   },
   "file_extension": ".py",
   "mimetype": "text/x-python",
   "name": "python",
   "nbconvert_exporter": "python",
   "pygments_lexer": "ipython3",
   "version": "3.8.17"
  }
 },
 "nbformat": 4,
 "nbformat_minor": 5
}
