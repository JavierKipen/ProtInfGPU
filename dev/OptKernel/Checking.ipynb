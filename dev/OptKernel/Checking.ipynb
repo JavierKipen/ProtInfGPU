{
 "cells": [
  {
   "cell_type": "code",
   "execution_count": 7,
   "id": "17e2fdb3-3a84-4d10-86e2-c963bcb77495",
   "metadata": {
    "tags": []
   },
   "outputs": [],
   "source": [
    "import numpy as np"
   ]
  },
  {
   "cell_type": "markdown",
   "id": "23a3b03f-388a-42c6-b55d-a6136932b51f",
   "metadata": {},
   "source": [
    "Here we see that if we group together we get  different amount of elements per group:"
   ]
  },
  {
   "cell_type": "code",
   "execution_count": 10,
   "id": "2aac2016-aca0-4f13-9eaf-e32f935686cd",
   "metadata": {
    "collapsed": true,
    "jupyter": {
     "outputs_hidden": true
    },
    "tags": []
   },
   "outputs": [
    {
     "name": "stdout",
     "output_type": "stream",
     "text": [
      "n_proteins_per_block = 150, max sum = 4979\n",
      "n_proteins_per_block = 151, max sum = 4916\n",
      "n_proteins_per_block = 152, max sum = 4929\n",
      "n_proteins_per_block = 153, max sum = 5116\n",
      "n_proteins_per_block = 154, max sum = 5116\n",
      "n_proteins_per_block = 155, max sum = 5200\n",
      "n_proteins_per_block = 156, max sum = 5152\n",
      "n_proteins_per_block = 157, max sum = 5221\n",
      "n_proteins_per_block = 158, max sum = 5186\n",
      "n_proteins_per_block = 159, max sum = 5184\n",
      "n_proteins_per_block = 160, max sum = 5184\n",
      "n_proteins_per_block = 161, max sum = 5241\n",
      "n_proteins_per_block = 162, max sum = 5237\n",
      "n_proteins_per_block = 163, max sum = 5161\n",
      "n_proteins_per_block = 164, max sum = 5274\n",
      "n_proteins_per_block = 165, max sum = 5274\n",
      "n_proteins_per_block = 166, max sum = 5545\n",
      "n_proteins_per_block = 167, max sum = 5452\n",
      "n_proteins_per_block = 168, max sum = 5442\n",
      "n_proteins_per_block = 169, max sum = 5442\n",
      "n_proteins_per_block = 170, max sum = 5583\n",
      "n_proteins_per_block = 171, max sum = 5625\n",
      "n_proteins_per_block = 172, max sum = 5625\n",
      "n_proteins_per_block = 173, max sum = 5567\n",
      "n_proteins_per_block = 174, max sum = 5659\n",
      "n_proteins_per_block = 175, max sum = 5598\n",
      "n_proteins_per_block = 176, max sum = 5598\n",
      "n_proteins_per_block = 177, max sum = 5580\n",
      "n_proteins_per_block = 178, max sum = 5701\n",
      "n_proteins_per_block = 179, max sum = 5701\n",
      "n_proteins_per_block = 180, max sum = 5932\n",
      "n_proteins_per_block = 181, max sum = 5932\n",
      "n_proteins_per_block = 182, max sum = 5814\n",
      "n_proteins_per_block = 183, max sum = 5989\n",
      "n_proteins_per_block = 184, max sum = 5989\n",
      "n_proteins_per_block = 185, max sum = 6076\n",
      "n_proteins_per_block = 186, max sum = 5928\n",
      "n_proteins_per_block = 187, max sum = 5928\n",
      "n_proteins_per_block = 188, max sum = 5937\n",
      "n_proteins_per_block = 189, max sum = 5937\n",
      "n_proteins_per_block = 190, max sum = 5965\n",
      "n_proteins_per_block = 191, max sum = 5965\n",
      "n_proteins_per_block = 192, max sum = 6063\n",
      "n_proteins_per_block = 193, max sum = 5994\n",
      "n_proteins_per_block = 194, max sum = 5994\n",
      "n_proteins_per_block = 195, max sum = 6432\n",
      "n_proteins_per_block = 196, max sum = 6432\n",
      "n_proteins_per_block = 197, max sum = 6555\n",
      "n_proteins_per_block = 198, max sum = 6555\n",
      "n_proteins_per_block = 199, max sum = 6393\n"
     ]
    }
   ],
   "source": [
    "nFluExpForI=np.fromfile(\"/home/jkipen/ProtInfGPU/dev/OptKernel/data/nFluExpForI.bin\", dtype=np.uint32)\n",
    "nProt=len(nFluExpForI);\n",
    "list_n_proteins_per_block=np.arange(150,200);\n",
    "for n_proteins_per_block in list_n_proteins_per_block:\n",
    "    n_chunks = int(np.ceil(len(nFluExpForI) / n_proteins_per_block))  \n",
    "    list_sub_groups=np.array_split(nFluExpForI, n_chunks)\n",
    "    max_value=np.max([np.sum(i) for i in list_sub_groups])\n",
    "    print(f\"n_proteins_per_block = {n_proteins_per_block}, max sum = {max_value}\")"
   ]
  },
  {
   "cell_type": "code",
   "execution_count": 8,
   "id": "49c4fe3d-b0a2-4077-8fec-32d1260b7f03",
   "metadata": {
    "tags": []
   },
   "outputs": [],
   "source": [
    "def loadSubMat(path,nProt,nSubRowsToLoad= (-1) ):\n",
    "    if nSubRowsToLoad == -1:\n",
    "        retVal=np.fromfile(path, dtype=np.float32);\n",
    "    else:\n",
    "        retVal=np.fromfile(path, dtype=np.float32,count=nProt*nSubRowsToLoad);\n",
    "    retVal=retVal.reshape(-1, nProt)\n",
    "    return retVal\n",
    "def checkMatrixSanity(mat):\n",
    "    if np.isnan(np.sum(mat)):\n",
    "        print(\"There is a NaN!\");\n",
    "    if np.sum(np.sum(mat,axis=1)==0) > 0:\n",
    "        print(\"There is a row that is zero!\");"
   ]
  },
  {
   "cell_type": "code",
   "execution_count": 56,
   "id": "38643a5d-3a3e-4c42-a2e0-b16f0aaa2606",
   "metadata": {
    "tags": []
   },
   "outputs": [
    {
     "name": "stdout",
     "output_type": "stream",
     "text": [
      "18781.352\n",
      "18781.352\n",
      "0\n"
     ]
    }
   ],
   "source": [
    "trueSubMat=loadSubMat(\"/home/jkipen/raid_storage/ProtInfGPU/data/PXgIrelTrue.bin\",nProt,nSubRowsToLoad= 100000)\n",
    "estSubMat=loadSubMat(\"/home/jkipen/raid_storage/ProtInfGPU/data/PXgIrelToCheck.bin\",nProt,nSubRowsToLoad= 100000)\n",
    "print(np.sum(trueSubMat))\n",
    "print(np.sum(estSubMat))\n",
    "print(np.sum(np.sum(estSubMat,axis=1)==0))"
   ]
  },
  {
   "cell_type": "code",
   "execution_count": 145,
   "id": "40227779-96f9-4bf4-89c7-67c7fba2ce7c",
   "metadata": {
    "tags": []
   },
   "outputs": [
    {
     "name": "stdout",
     "output_type": "stream",
     "text": [
      "[[6.566413e-08 6.566413e-08 6.566413e-08 ... 6.566413e-08 6.566413e-08\n",
      "  6.566413e-08]\n",
      " [6.566413e-08 6.566413e-08 6.566413e-08 ... 6.566413e-08 6.566413e-08\n",
      "  6.566413e-08]\n",
      " [6.566413e-08 6.566413e-08 6.566413e-08 ... 6.566413e-08 6.566413e-08\n",
      "  6.566413e-08]\n",
      " ...\n",
      " [6.566413e-08 6.566413e-08 6.566413e-08 ... 6.566413e-08 6.566413e-08\n",
      "  6.566413e-08]\n",
      " [6.566413e-08 6.566413e-08 6.566413e-08 ... 6.566413e-08 6.566413e-08\n",
      "  6.566413e-08]\n",
      " [6.566413e-08 6.566413e-08 6.566413e-08 ... 6.566413e-08 6.566413e-08\n",
      "  6.566413e-08]]\n",
      "[[6.566413e-08 6.566413e-08 6.566413e-08 ... 6.566413e-08 6.566413e-08\n",
      "  6.566413e-08]\n",
      " [6.566413e-08 6.566413e-08 6.566413e-08 ... 6.566413e-08 6.566413e-08\n",
      "  6.566413e-08]\n",
      " [6.566413e-08 6.566413e-08 6.566413e-08 ... 6.566413e-08 6.566413e-08\n",
      "  6.566413e-08]\n",
      " ...\n",
      " [6.566413e-08 6.566413e-08 6.566413e-08 ... 6.566413e-08 6.566413e-08\n",
      "  6.566413e-08]\n",
      " [6.566413e-08 6.566413e-08 6.566413e-08 ... 6.566413e-08 6.566413e-08\n",
      "  6.566413e-08]\n",
      " [6.566413e-08 6.566413e-08 6.566413e-08 ... 6.566413e-08 6.566413e-08\n",
      "  6.566413e-08]]\n"
     ]
    }
   ],
   "source": [
    "print(estSubMat)\n",
    "print(trueSubMat)"
   ]
  },
  {
   "cell_type": "code",
   "execution_count": 50,
   "id": "8eb8b286-290e-45f7-82f6-3da3ff08ecd0",
   "metadata": {
    "tags": []
   },
   "outputs": [
    {
     "ename": "KeyboardInterrupt",
     "evalue": "",
     "output_type": "error",
     "traceback": [
      "\u001b[0;31m---------------------------------------------------------------------------\u001b[0m",
      "\u001b[0;31mKeyboardInterrupt\u001b[0m                         Traceback (most recent call last)",
      "Cell \u001b[0;32mIn[50], line 1\u001b[0m\n\u001b[0;32m----> 1\u001b[0m trueSubMat\u001b[38;5;241m=\u001b[39m\u001b[43mloadSubMat\u001b[49m\u001b[43m(\u001b[49m\u001b[38;5;124;43m\"\u001b[39;49m\u001b[38;5;124;43m/home/jkipen/raid_storage/ProtInfGPU/data/PXgIrelTrue.bin\u001b[39;49m\u001b[38;5;124;43m\"\u001b[39;49m\u001b[43m,\u001b[49m\u001b[43mnProt\u001b[49m\u001b[43m)\u001b[49m\n",
      "Cell \u001b[0;32mIn[8], line 3\u001b[0m, in \u001b[0;36mloadSubMat\u001b[0;34m(path, nProt, nSubRowsToLoad)\u001b[0m\n\u001b[1;32m      1\u001b[0m \u001b[38;5;28;01mdef\u001b[39;00m \u001b[38;5;21mloadSubMat\u001b[39m(path,nProt,nSubRowsToLoad\u001b[38;5;241m=\u001b[39m (\u001b[38;5;241m-\u001b[39m\u001b[38;5;241m1\u001b[39m) ):\n\u001b[1;32m      2\u001b[0m     \u001b[38;5;28;01mif\u001b[39;00m nSubRowsToLoad \u001b[38;5;241m==\u001b[39m \u001b[38;5;241m-\u001b[39m\u001b[38;5;241m1\u001b[39m:\n\u001b[0;32m----> 3\u001b[0m         retVal\u001b[38;5;241m=\u001b[39m\u001b[43mnp\u001b[49m\u001b[38;5;241;43m.\u001b[39;49m\u001b[43mfromfile\u001b[49m\u001b[43m(\u001b[49m\u001b[43mpath\u001b[49m\u001b[43m,\u001b[49m\u001b[43m \u001b[49m\u001b[43mdtype\u001b[49m\u001b[38;5;241;43m=\u001b[39;49m\u001b[43mnp\u001b[49m\u001b[38;5;241;43m.\u001b[39;49m\u001b[43mfloat32\u001b[49m\u001b[43m)\u001b[49m;\n\u001b[1;32m      4\u001b[0m     \u001b[38;5;28;01melse\u001b[39;00m:\n\u001b[1;32m      5\u001b[0m         retVal\u001b[38;5;241m=\u001b[39mnp\u001b[38;5;241m.\u001b[39mfromfile(path, dtype\u001b[38;5;241m=\u001b[39mnp\u001b[38;5;241m.\u001b[39mfloat32,count\u001b[38;5;241m=\u001b[39mnProt\u001b[38;5;241m*\u001b[39mnSubRowsToLoad);\n",
      "\u001b[0;31mKeyboardInterrupt\u001b[0m: "
     ]
    }
   ],
   "source": [
    "trueSubMat=loadSubMat(\"/home/jkipen/raid_storage/ProtInfGPU/data/PXgIrelTrue.bin\",nProt)\n"
   ]
  },
  {
   "cell_type": "code",
   "execution_count": 13,
   "id": "5129776e-a651-4a32-9cec-a40b6a89de12",
   "metadata": {
    "tags": []
   },
   "outputs": [],
   "source": [
    "checkMatrixSanity(trueSubMat)"
   ]
  },
  {
   "cell_type": "code",
   "execution_count": 14,
   "id": "6afee996-5a04-4f0c-bcc8-17c17c5d90fc",
   "metadata": {
    "tags": []
   },
   "outputs": [
    {
     "data": {
      "text/plain": [
       "51298.156"
      ]
     },
     "execution_count": 14,
     "metadata": {},
     "output_type": "execute_result"
    }
   ],
   "source": [
    "np.sum(trueSubMat)"
   ]
  },
  {
   "cell_type": "code",
   "execution_count": null,
   "id": "2f69cf4a-493e-40bb-af99-c16b6614748a",
   "metadata": {
    "tags": []
   },
   "outputs": [],
   "source": [
    "estSubMat=loadSubMat(\"/home/jkipen/raid_storage/ProtInfGPU/data/PXgIrelToCheck.bin\",nProt)"
   ]
  },
  {
   "cell_type": "code",
   "execution_count": 48,
   "id": "bb985db2-dc9e-4b29-89a0-5f44fd2dcb65",
   "metadata": {
    "tags": []
   },
   "outputs": [],
   "source": [
    "checkMatrixSanity(estSubMat)"
   ]
  },
  {
   "cell_type": "code",
   "execution_count": 49,
   "id": "0da917af-1625-4d1c-b5c2-213f6ae97d17",
   "metadata": {
    "tags": []
   },
   "outputs": [
    {
     "data": {
      "text/plain": [
       "66754.125"
      ]
     },
     "execution_count": 49,
     "metadata": {},
     "output_type": "execute_result"
    }
   ],
   "source": [
    "np.sum(estSubMat)"
   ]
  },
  {
   "cell_type": "code",
   "execution_count": 36,
   "id": "229f0bb7-2a25-4897-a2b1-59d183707c92",
   "metadata": {
    "collapsed": true,
    "jupyter": {
     "outputs_hidden": true
    },
    "tags": []
   },
   "outputs": [
    {
     "data": {
      "text/plain": [
       "array([[ 5794],\n",
       "       [ 5795],\n",
       "       [ 5796],\n",
       "       [ 5797],\n",
       "       [ 5798],\n",
       "       [ 5799],\n",
       "       [ 5800],\n",
       "       [ 5801],\n",
       "       [ 5802],\n",
       "       [ 5803],\n",
       "       [ 5804],\n",
       "       [ 5805],\n",
       "       [ 5806],\n",
       "       [ 5807],\n",
       "       [ 5808],\n",
       "       [ 5809],\n",
       "       [ 5810],\n",
       "       [ 5811],\n",
       "       [ 5812],\n",
       "       [ 5813],\n",
       "       [ 5814],\n",
       "       [ 5815],\n",
       "       [ 5816],\n",
       "       [ 5817],\n",
       "       [ 5818],\n",
       "       [ 5819],\n",
       "       [ 5820],\n",
       "       [ 5821],\n",
       "       [ 5822],\n",
       "       [ 5823],\n",
       "       [ 5824],\n",
       "       [ 5825],\n",
       "       [ 5826],\n",
       "       [ 5827],\n",
       "       [ 5828],\n",
       "       [ 5829],\n",
       "       [ 5830],\n",
       "       [ 5831],\n",
       "       [ 5832],\n",
       "       [ 5833],\n",
       "       [ 5834],\n",
       "       [ 5835],\n",
       "       [ 5836],\n",
       "       [ 5837],\n",
       "       [ 5838],\n",
       "       [ 5839],\n",
       "       [ 5840],\n",
       "       [ 5841],\n",
       "       [ 5842],\n",
       "       [ 5843],\n",
       "       [ 5844],\n",
       "       [ 5845],\n",
       "       [ 5846],\n",
       "       [ 5847],\n",
       "       [ 5848],\n",
       "       [ 5849],\n",
       "       [ 5850],\n",
       "       [ 5851],\n",
       "       [ 5852],\n",
       "       [ 5853],\n",
       "       [ 5854],\n",
       "       [ 5855],\n",
       "       [ 5856],\n",
       "       [ 5857],\n",
       "       [ 5858],\n",
       "       [ 5860],\n",
       "       [ 5861],\n",
       "       [ 5862],\n",
       "       [ 5863],\n",
       "       [ 5864],\n",
       "       [ 5865],\n",
       "       [ 5866],\n",
       "       [ 5867],\n",
       "       [ 5868],\n",
       "       [ 5869],\n",
       "       [ 5870],\n",
       "       [ 5871],\n",
       "       [ 5872],\n",
       "       [ 5873],\n",
       "       [ 5874],\n",
       "       [ 5875],\n",
       "       [ 5876],\n",
       "       [ 5877],\n",
       "       [ 5878],\n",
       "       [ 5879],\n",
       "       [ 5880],\n",
       "       [ 5881],\n",
       "       [ 5882],\n",
       "       [ 5883],\n",
       "       [ 5884],\n",
       "       [ 5885],\n",
       "       [ 5886],\n",
       "       [ 5887],\n",
       "       [ 5888],\n",
       "       [ 5889],\n",
       "       [ 5890],\n",
       "       [ 5891],\n",
       "       [ 5892],\n",
       "       [ 5893],\n",
       "       [ 5894],\n",
       "       [ 5895],\n",
       "       [ 5896],\n",
       "       [ 5897],\n",
       "       [ 5898],\n",
       "       [ 5899],\n",
       "       [ 5900],\n",
       "       [ 5901],\n",
       "       [ 5902],\n",
       "       [ 5903],\n",
       "       [ 5904],\n",
       "       [ 5905],\n",
       "       [ 5906],\n",
       "       [ 5907],\n",
       "       [ 5908],\n",
       "       [ 5909],\n",
       "       [ 5910],\n",
       "       [ 5911],\n",
       "       [ 5913],\n",
       "       [ 5914],\n",
       "       [ 5915],\n",
       "       [ 5916],\n",
       "       [ 5917],\n",
       "       [ 5918],\n",
       "       [ 5919],\n",
       "       [ 5920],\n",
       "       [ 5921],\n",
       "       [ 5922],\n",
       "       [ 5923],\n",
       "       [ 5924],\n",
       "       [ 5925],\n",
       "       [ 5926],\n",
       "       [ 5927],\n",
       "       [ 5928],\n",
       "       [ 5929],\n",
       "       [ 5930],\n",
       "       [ 5931],\n",
       "       [ 5932],\n",
       "       [ 5933],\n",
       "       [ 5934],\n",
       "       [ 5935],\n",
       "       [ 5936],\n",
       "       [ 5972],\n",
       "       [ 5977],\n",
       "       [ 6045],\n",
       "       [ 6050],\n",
       "       [ 6122],\n",
       "       [ 6200],\n",
       "       [ 6217],\n",
       "       [ 6276],\n",
       "       [ 6301],\n",
       "       [ 6357],\n",
       "       [ 6379],\n",
       "       [ 6454],\n",
       "       [ 6467],\n",
       "       [ 6555],\n",
       "       [ 6562],\n",
       "       [ 6566],\n",
       "       [ 6570],\n",
       "       [ 6578],\n",
       "       [ 6587],\n",
       "       [ 6631],\n",
       "       [ 6678],\n",
       "       [ 6688],\n",
       "       [ 6697],\n",
       "       [ 6703],\n",
       "       [ 6710],\n",
       "       [ 6758],\n",
       "       [ 6776],\n",
       "       [ 6832],\n",
       "       [ 6835],\n",
       "       [ 6850],\n",
       "       [ 6859],\n",
       "       [ 6866],\n",
       "       [ 6922],\n",
       "       [ 6963],\n",
       "       [ 6966],\n",
       "       [ 6999],\n",
       "       [ 7108],\n",
       "       [ 7125],\n",
       "       [ 7155],\n",
       "       [ 7164],\n",
       "       [ 7268],\n",
       "       [ 7300],\n",
       "       [ 7318],\n",
       "       [ 7377],\n",
       "       [ 7393],\n",
       "       [ 7444],\n",
       "       [ 7450],\n",
       "       [ 7458],\n",
       "       [ 7459],\n",
       "       [ 7461],\n",
       "       [ 7474],\n",
       "       [ 7508],\n",
       "       [ 7528],\n",
       "       [ 7542],\n",
       "       [ 7655],\n",
       "       [ 7685],\n",
       "       [ 7706],\n",
       "       [ 7748],\n",
       "       [ 7756],\n",
       "       [ 7761],\n",
       "       [ 7799],\n",
       "       [ 7896],\n",
       "       [ 7903],\n",
       "       [ 7917],\n",
       "       [ 7932],\n",
       "       [ 8121],\n",
       "       [ 8123],\n",
       "       [ 8262],\n",
       "       [ 8298],\n",
       "       [ 8322],\n",
       "       [ 8337],\n",
       "       [ 8374],\n",
       "       [ 8411],\n",
       "       [ 8432],\n",
       "       [ 8446],\n",
       "       [ 8453],\n",
       "       [ 8458],\n",
       "       [ 8527],\n",
       "       [ 8532],\n",
       "       [ 8539],\n",
       "       [ 8540],\n",
       "       [ 8556],\n",
       "       [ 8592],\n",
       "       [ 8599],\n",
       "       [ 8639],\n",
       "       [ 8723],\n",
       "       [ 8738],\n",
       "       [ 8742],\n",
       "       [ 8866],\n",
       "       [ 8935],\n",
       "       [ 8953],\n",
       "       [ 8960],\n",
       "       [ 8993],\n",
       "       [ 9016],\n",
       "       [ 9039],\n",
       "       [ 9152],\n",
       "       [ 9344],\n",
       "       [ 9396],\n",
       "       [ 9426],\n",
       "       [ 9427],\n",
       "       [ 9433],\n",
       "       [ 9498],\n",
       "       [ 9543],\n",
       "       [ 9545],\n",
       "       [ 9564],\n",
       "       [ 9566],\n",
       "       [ 9575],\n",
       "       [ 9584],\n",
       "       [ 9586],\n",
       "       [ 9610],\n",
       "       [ 9619],\n",
       "       [ 9636],\n",
       "       [ 9712],\n",
       "       [ 9748],\n",
       "       [ 9751],\n",
       "       [ 9770],\n",
       "       [ 9779],\n",
       "       [ 9804],\n",
       "       [ 9837],\n",
       "       [ 9854],\n",
       "       [ 9865],\n",
       "       [ 9926],\n",
       "       [ 9954],\n",
       "       [ 9977],\n",
       "       [10143],\n",
       "       [10154],\n",
       "       [10155],\n",
       "       [10185],\n",
       "       [10228],\n",
       "       [10230],\n",
       "       [10233],\n",
       "       [10375],\n",
       "       [10392],\n",
       "       [10414],\n",
       "       [10430],\n",
       "       [10514],\n",
       "       [10574],\n",
       "       [10581],\n",
       "       [10598],\n",
       "       [10610],\n",
       "       [10642],\n",
       "       [10645],\n",
       "       [10682],\n",
       "       [10723],\n",
       "       [10743],\n",
       "       [10828],\n",
       "       [10833],\n",
       "       [10875],\n",
       "       [10888],\n",
       "       [10930],\n",
       "       [10938],\n",
       "       [10941],\n",
       "       [10950],\n",
       "       [10976],\n",
       "       [10999],\n",
       "       [11090],\n",
       "       [11122],\n",
       "       [11150],\n",
       "       [11155],\n",
       "       [11257],\n",
       "       [11317],\n",
       "       [11323],\n",
       "       [11341],\n",
       "       [11398],\n",
       "       [11401],\n",
       "       [11427],\n",
       "       [11432],\n",
       "       [11451],\n",
       "       [11477],\n",
       "       [11536],\n",
       "       [11547],\n",
       "       [11574],\n",
       "       [11621],\n",
       "       [11644],\n",
       "       [11671],\n",
       "       [11738],\n",
       "       [11747],\n",
       "       [11755],\n",
       "       [11767],\n",
       "       [11793],\n",
       "       [11831],\n",
       "       [11833],\n",
       "       [11836],\n",
       "       [11847],\n",
       "       [11884],\n",
       "       [11896],\n",
       "       [11933],\n",
       "       [12031],\n",
       "       [12038],\n",
       "       [12109],\n",
       "       [12111],\n",
       "       [12137],\n",
       "       [12171],\n",
       "       [12178],\n",
       "       [12184],\n",
       "       [12186],\n",
       "       [12196],\n",
       "       [12197],\n",
       "       [12232],\n",
       "       [12314],\n",
       "       [12326],\n",
       "       [12359],\n",
       "       [12403],\n",
       "       [12407],\n",
       "       [12473],\n",
       "       [12544],\n",
       "       [12635],\n",
       "       [12637],\n",
       "       [12676],\n",
       "       [12686],\n",
       "       [12722],\n",
       "       [12723],\n",
       "       [12739],\n",
       "       [12771],\n",
       "       [12901],\n",
       "       [12963],\n",
       "       [12980],\n",
       "       [12985],\n",
       "       [12991],\n",
       "       [13021],\n",
       "       [13102],\n",
       "       [13127],\n",
       "       [13135],\n",
       "       [13140],\n",
       "       [13147],\n",
       "       [13153],\n",
       "       [13156],\n",
       "       [13158],\n",
       "       [13195],\n",
       "       [13213],\n",
       "       [13232],\n",
       "       [13268],\n",
       "       [13285],\n",
       "       [13314],\n",
       "       [13338],\n",
       "       [13349],\n",
       "       [13360],\n",
       "       [13406],\n",
       "       [13430],\n",
       "       [13449],\n",
       "       [13538],\n",
       "       [13541],\n",
       "       [13601],\n",
       "       [13627],\n",
       "       [13702],\n",
       "       [13758],\n",
       "       [13834],\n",
       "       [13850],\n",
       "       [13858],\n",
       "       [13921],\n",
       "       [13931],\n",
       "       [14023],\n",
       "       [14071],\n",
       "       [14085],\n",
       "       [14118],\n",
       "       [14151],\n",
       "       [14172],\n",
       "       [14189],\n",
       "       [14216],\n",
       "       [14233],\n",
       "       [14263],\n",
       "       [14287],\n",
       "       [14400],\n",
       "       [14417],\n",
       "       [14424],\n",
       "       [14434],\n",
       "       [14453],\n",
       "       [14455],\n",
       "       [14468],\n",
       "       [14475],\n",
       "       [14538],\n",
       "       [14560],\n",
       "       [14599],\n",
       "       [14632],\n",
       "       [14662],\n",
       "       [14668],\n",
       "       [14718],\n",
       "       [14721],\n",
       "       [14742],\n",
       "       [14770],\n",
       "       [14810],\n",
       "       [14821],\n",
       "       [14826],\n",
       "       [14828],\n",
       "       [14829],\n",
       "       [14850],\n",
       "       [14873],\n",
       "       [14881],\n",
       "       [14888],\n",
       "       [14936],\n",
       "       [14946],\n",
       "       [14962],\n",
       "       [15002],\n",
       "       [15041],\n",
       "       [15087],\n",
       "       [15139],\n",
       "       [15146],\n",
       "       [15169],\n",
       "       [15174],\n",
       "       [15182],\n",
       "       [15212],\n",
       "       [15223],\n",
       "       [15243],\n",
       "       [15281],\n",
       "       [15402],\n",
       "       [15413],\n",
       "       [15474],\n",
       "       [15531],\n",
       "       [15567],\n",
       "       [15577],\n",
       "       [15583],\n",
       "       [15600],\n",
       "       [15676],\n",
       "       [15694],\n",
       "       [15717],\n",
       "       [15722],\n",
       "       [15727],\n",
       "       [15737],\n",
       "       [15750],\n",
       "       [15767],\n",
       "       [15775],\n",
       "       [15820],\n",
       "       [15822],\n",
       "       [15876],\n",
       "       [15893],\n",
       "       [15921],\n",
       "       [15978],\n",
       "       [15990],\n",
       "       [15993],\n",
       "       [16022],\n",
       "       [16029],\n",
       "       [16125],\n",
       "       [16126],\n",
       "       [16182],\n",
       "       [16185],\n",
       "       [16235],\n",
       "       [16256],\n",
       "       [16348],\n",
       "       [16367],\n",
       "       [16418],\n",
       "       [16454],\n",
       "       [16523],\n",
       "       [16585],\n",
       "       [16594],\n",
       "       [16595],\n",
       "       [16617],\n",
       "       [16744],\n",
       "       [16753],\n",
       "       [16769],\n",
       "       [16818],\n",
       "       [16825],\n",
       "       [17066],\n",
       "       [17099],\n",
       "       [17100],\n",
       "       [17119],\n",
       "       [17125],\n",
       "       [17160],\n",
       "       [17184],\n",
       "       [17186],\n",
       "       [17218],\n",
       "       [17249],\n",
       "       [17344],\n",
       "       [17393],\n",
       "       [17394],\n",
       "       [17456],\n",
       "       [17458],\n",
       "       [17466],\n",
       "       [17505],\n",
       "       [17578],\n",
       "       [17588],\n",
       "       [17651],\n",
       "       [17694],\n",
       "       [17740],\n",
       "       [17761],\n",
       "       [17793],\n",
       "       [17797],\n",
       "       [17926],\n",
       "       [17934],\n",
       "       [17949],\n",
       "       [17958],\n",
       "       [17987],\n",
       "       [18018],\n",
       "       [18089],\n",
       "       [18182],\n",
       "       [18210],\n",
       "       [18271],\n",
       "       [18284],\n",
       "       [18393],\n",
       "       [18500],\n",
       "       [18522],\n",
       "       [18644],\n",
       "       [18686],\n",
       "       [18783],\n",
       "       [18795],\n",
       "       [18877],\n",
       "       [18922],\n",
       "       [18924],\n",
       "       [18937],\n",
       "       [18946],\n",
       "       [18985],\n",
       "       [19006],\n",
       "       [19035],\n",
       "       [19060],\n",
       "       [19144],\n",
       "       [19145],\n",
       "       [19189],\n",
       "       [19205],\n",
       "       [19211],\n",
       "       [19239],\n",
       "       [19249],\n",
       "       [19284],\n",
       "       [19328],\n",
       "       [19371],\n",
       "       [19383],\n",
       "       [19439],\n",
       "       [19632],\n",
       "       [19648],\n",
       "       [19662],\n",
       "       [19733],\n",
       "       [19756],\n",
       "       [19764],\n",
       "       [19818],\n",
       "       [19848],\n",
       "       [19924],\n",
       "       [19966],\n",
       "       [19975],\n",
       "       [20073],\n",
       "       [20217],\n",
       "       [20251],\n",
       "       [20309],\n",
       "       [20335],\n",
       "       [20353],\n",
       "       [20354],\n",
       "       [20403],\n",
       "       [20416],\n",
       "       [20419],\n",
       "       [20627]])"
      ]
     },
     "execution_count": 36,
     "metadata": {},
     "output_type": "execute_result"
    }
   ],
   "source": [
    "np.argwhere(estSubMat[11000,:]!=estSubMat[0,0])"
   ]
  },
  {
   "cell_type": "code",
   "execution_count": 46,
   "id": "624ed48a-e719-4252-b468-7126153a138a",
   "metadata": {
    "tags": []
   },
   "outputs": [
    {
     "data": {
      "text/plain": [
       "0.05860775"
      ]
     },
     "execution_count": 46,
     "metadata": {},
     "output_type": "execute_result"
    }
   ],
   "source": [
    "np.sum(estSubMat[50000,:])"
   ]
  },
  {
   "cell_type": "markdown",
   "id": "9b564de9-51f9-4b6d-a293-1aa9f12809fa",
   "metadata": {},
   "source": [
    "Now lets compare the matrixes element-wise:"
   ]
  },
  {
   "cell_type": "code",
   "execution_count": 53,
   "id": "15426534-9176-49cd-b36b-98290393b253",
   "metadata": {
    "tags": []
   },
   "outputs": [],
   "source": [
    "def compMats(matA,matB):\n",
    "    den=np.maximum(matA,matB)\n",
    "    den[den==0]=1e-6;\n",
    "    num=np.abs(matA-matB)\n",
    "    rel_dif=np.divide(num,den)\n",
    "    print(\"The maximum relative difference was \" + str(np.max(rel_dif)))"
   ]
  },
  {
   "cell_type": "code",
   "execution_count": 57,
   "id": "50905361-1997-4774-aab7-9092ac710bf0",
   "metadata": {
    "tags": []
   },
   "outputs": [
    {
     "name": "stdout",
     "output_type": "stream",
     "text": [
      "The maximum relative difference was 0.0\n"
     ]
    }
   ],
   "source": [
    "compMats(estSubMat,trueSubMat)"
   ]
  },
  {
   "cell_type": "code",
   "execution_count": 80,
   "id": "4457f4e9-2a26-42ca-9bc1-c9a64c25e440",
   "metadata": {
    "tags": []
   },
   "outputs": [],
   "source": [
    "estSubMat=estSubMat[-50000:,:];"
   ]
  },
  {
   "cell_type": "code",
   "execution_count": 82,
   "id": "42a434a9-1a84-482a-805a-e4c7ffdb86ca",
   "metadata": {
    "tags": []
   },
   "outputs": [],
   "source": [
    "trueSubMat=trueSubMat[-50000:,:];"
   ]
  },
  {
   "cell_type": "code",
   "execution_count": 83,
   "id": "0cd567b7-1f29-4202-9afa-8228187d8341",
   "metadata": {
    "tags": []
   },
   "outputs": [
    {
     "name": "stdout",
     "output_type": "stream",
     "text": [
      "The maximum relative difference was 1.19206874e-07\n"
     ]
    }
   ],
   "source": [
    "compMats(estSubMat,trueSubMat)"
   ]
  },
  {
   "cell_type": "code",
   "execution_count": 149,
   "id": "b1b4fd07-5966-4826-b0fd-4e345a50ed5d",
   "metadata": {
    "tags": []
   },
   "outputs": [
    {
     "name": "stdout",
     "output_type": "stream",
     "text": [
      "20161324\n",
      "0.067087054\n",
      "0.13417405\n"
     ]
    }
   ],
   "source": [
    "den=np.maximum(trueSubMat,estSubMat)\n",
    "num=np.abs(trueSubMat-estSubMat)\n",
    "rel_dif=np.divide(num,den)\n",
    "argmaxi=np.argmax(rel_dif)\n",
    "print(argmaxi)\n",
    "print(trueSubMat[int(argmaxi/nProt),int(argmaxi%nProt)])\n",
    "print(estSubMat[int(argmaxi/nProt),int(argmaxi%nProt)])"
   ]
  },
  {
   "cell_type": "code",
   "execution_count": 173,
   "id": "ea819616-ec1a-47a9-87cd-531dfd261bf6",
   "metadata": {
    "tags": []
   },
   "outputs": [
    {
     "name": "stdout",
     "output_type": "stream",
     "text": [
      "[ 6880666  6880665  6880664  6880662  6880668 16122174  6880667  6880663\n",
      " 10083070 20161324]\n"
     ]
    },
    {
     "data": {
      "text/plain": [
       "array([0.        , 0.        , 0.        , 0.        , 0.        ,\n",
       "       0.49999878, 0.        , 0.        , 0.4999991 , 0.4999998 ],\n",
       "      dtype=float32)"
      ]
     },
     "execution_count": 173,
     "metadata": {},
     "output_type": "execute_result"
    }
   ],
   "source": [
    "print(np.argpartition(rel_dif.flatten(), -10)[-10:])\n",
    "a=np.argpartition(rel_dif.flatten(), -10)[-10:];\n",
    "rel_dif.flatten()[a]"
   ]
  },
  {
   "cell_type": "code",
   "execution_count": 171,
   "id": "20005ee4-f57a-4710-ba1c-a8ea26bc5428",
   "metadata": {
    "tags": []
   },
   "outputs": [
    {
     "name": "stdout",
     "output_type": "stream",
     "text": [
      "0.013812063\n",
      "0.02762406\n"
     ]
    }
   ],
   "source": [
    "argmaxi=16122174;\n",
    "print(trueSubMat[int(argmaxi/nProt),int(argmaxi%nProt)])\n",
    "print(estSubMat[int(argmaxi/nProt),int(argmaxi%nProt)])"
   ]
  },
  {
   "cell_type": "code",
   "execution_count": 148,
   "id": "b3bed9c8-c686-4dab-a370-9f4d30b541ea",
   "metadata": {
    "tags": []
   },
   "outputs": [
    {
     "name": "stdout",
     "output_type": "stream",
     "text": [
      "The maximum relative difference was 0.4999998\n"
     ]
    }
   ],
   "source": [
    "compMats(estSubMat,trueSubMat)"
   ]
  },
  {
   "cell_type": "code",
   "execution_count": 166,
   "id": "55859935-2500-46d5-97cd-bf6fba4b9f12",
   "metadata": {
    "tags": []
   },
   "outputs": [
    {
     "data": {
      "text/plain": [
       "array([0.13417405], dtype=float32)"
      ]
     },
     "execution_count": 166,
     "metadata": {},
     "output_type": "execute_result"
    }
   ],
   "source": [
    "estSubMat[976,(estSubMat[976,:]!=estSubMat[0,0])]"
   ]
  },
  {
   "cell_type": "code",
   "execution_count": 164,
   "id": "44fc26ba-875d-4d36-90fd-3fd3acbacb04",
   "metadata": {
    "tags": []
   },
   "outputs": [
    {
     "data": {
      "text/plain": [
       "array([0.06708705], dtype=float32)"
      ]
     },
     "execution_count": 164,
     "metadata": {},
     "output_type": "execute_result"
    }
   ],
   "source": [
    "trueSubMat[976,(trueSubMat[976,:]!=trueSubMat[0,0])]"
   ]
  },
  {
   "cell_type": "code",
   "execution_count": 167,
   "id": "56985923-fec0-4235-9181-582a305dfbcf",
   "metadata": {
    "tags": []
   },
   "outputs": [
    {
     "data": {
      "text/plain": [
       "14732"
      ]
     },
     "execution_count": 167,
     "metadata": {},
     "output_type": "execute_result"
    }
   ],
   "source": [
    "20161324%20642"
   ]
  },
  {
   "cell_type": "code",
   "execution_count": 169,
   "id": "4e39d2a8-fdf9-4e01-baff-234d8bb3e015",
   "metadata": {
    "tags": []
   },
   "outputs": [
    {
     "data": {
      "text/plain": [
       "9774"
      ]
     },
     "execution_count": 169,
     "metadata": {},
     "output_type": "execute_result"
    }
   ],
   "source": [
    "10083070%20642"
   ]
  },
  {
   "cell_type": "code",
   "execution_count": 170,
   "id": "a6e5090c-e6db-4274-961a-61fcd82a875e",
   "metadata": {
    "tags": []
   },
   "outputs": [
    {
     "data": {
      "text/plain": [
       "488.4735006297839"
      ]
     },
     "execution_count": 170,
     "metadata": {},
     "output_type": "execute_result"
    }
   ],
   "source": [
    "10083070/20642"
   ]
  },
  {
   "cell_type": "code",
   "execution_count": 38,
   "id": "7270442d-fb73-44ee-a7ca-d85edb6a27cd",
   "metadata": {
    "tags": []
   },
   "outputs": [],
   "source": [
    "a=np.fromfile(\"/home/jkipen/raid_storage/ProtInfGPU/data/TopNScoresIdNonOracle.bin\", dtype=np.uint32)"
   ]
  },
  {
   "cell_type": "code",
   "execution_count": 39,
   "id": "96f8ec3e-7052-43a8-8719-1af89dfa656e",
   "metadata": {
    "tags": []
   },
   "outputs": [
    {
     "name": "stdout",
     "output_type": "stream",
     "text": [
      "[51731 51732 51733 ... 64578 64579 64580]\n"
     ]
    }
   ],
   "source": [
    "print(a)"
   ]
  },
  {
   "cell_type": "code",
   "execution_count": 23,
   "id": "c98bf6f9-267c-46a2-96b9-117cc1fe0ede",
   "metadata": {
    "tags": []
   },
   "outputs": [
    {
     "ename": "TypeError",
     "evalue": "'int' object is not subscriptable",
     "output_type": "error",
     "traceback": [
      "\u001b[0;31m---------------------------------------------------------------------------\u001b[0m",
      "\u001b[0;31mTypeError\u001b[0m                                 Traceback (most recent call last)",
      "Cell \u001b[0;32mIn[23], line 1\u001b[0m\n\u001b[0;32m----> 1\u001b[0m \u001b[43mestSubMat\u001b[49m\u001b[43m[\u001b[49m\u001b[38;5;241;43m0\u001b[39;49m\u001b[43m,\u001b[49m\u001b[38;5;241;43m0\u001b[39;49m\u001b[43m]\u001b[49m\n",
      "\u001b[0;31mTypeError\u001b[0m: 'int' object is not subscriptable"
     ]
    }
   ],
   "source": [
    "estSubMat[0,0]"
   ]
  }
 ],
 "metadata": {
  "kernelspec": {
   "display_name": "Python 3 (ipykernel)",
   "language": "python",
   "name": "python3"
  },
  "language_info": {
   "codemirror_mode": {
    "name": "ipython",
    "version": 3
   },
   "file_extension": ".py",
   "mimetype": "text/x-python",
   "name": "python",
   "nbconvert_exporter": "python",
   "pygments_lexer": "ipython3",
   "version": "3.8.17"
  }
 },
 "nbformat": 4,
 "nbformat_minor": 5
}
