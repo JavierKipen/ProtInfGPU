{
 "cells": [
  {
   "cell_type": "code",
   "execution_count": 3,
   "id": "447a5451-532d-4497-a3d6-28a1da6b0bdd",
   "metadata": {
    "tags": []
   },
   "outputs": [],
   "source": [
    "import numpy as np\n",
    "import pandas as pd\n",
    "import os\n",
    "import shutil\n",
    "import matplotlib.pyplot as plt"
   ]
  },
  {
   "cell_type": "markdown",
   "id": "95cf4afc-690e-47c4-8ad2-d5031e873cc7",
   "metadata": {},
   "source": [
    "# Test EM with sparsity\n",
    "\n",
    "In this part we generate a fake classifier that gets oracle results but outputs a 1000 sparsity signal. We will use it with the algorithm to check that our code works correctly."
   ]
  },
  {
   "cell_type": "code",
   "execution_count": 2,
   "id": "dd6ab0a4-0b88-43e1-a608-914059731eed",
   "metadata": {
    "jupyter": {
     "source_hidden": true
    },
    "tags": []
   },
   "outputs": [],
   "source": [
    "dataset_path=\"/home/jkipen/raid_storage/ProtInfGPU/data/20642_Prot/binary/\";\n",
    "classifier_name=\"SparsityTest\";"
   ]
  },
  {
   "cell_type": "code",
   "execution_count": 3,
   "id": "c957d32e-44e1-44ff-93bf-fd66d38cff0e",
   "metadata": {
    "jupyter": {
     "source_hidden": true
    },
    "tags": []
   },
   "outputs": [],
   "source": [
    "#Some functions to simplify \n",
    "def create_folder(folder_path):\n",
    "    if not os.path.exists(folder_path):  \n",
    "        os.makedirs(folder_path)\n",
    "def create_classifier_folders(ds_path,classifier_name):\n",
    "    classifier_path=ds_path+\"/\"+classifier_name;\n",
    "    create_folder(classifier_path);\n",
    "    create_folder(classifier_path+\"/CrossVal\"); #Create subfolders\n",
    "    create_folder(classifier_path+\"/Common\");\n",
    "def copy_all_files(src_folder, dst_folder):\n",
    "    \"\"\"Copies all files from src_folder to dst_folder, creating dst_folder if it doesn't exist.\"\"\"\n",
    "    #os.makedirs(dst_folder, exist_ok=True)  # Ensure the destination folder exists\n",
    "    for file_name in os.listdir(src_folder):\n",
    "        src_file = os.path.join(src_folder, file_name)\n",
    "        dst_file = os.path.join(dst_folder, file_name)\n",
    "        if os.path.isfile(src_file):  # Ensure it's a file before copying\n",
    "            shutil.copy2(src_file, dst_file)\n",
    "def copy_oracle_info_to_classifier(ds_path,classifier_name):\n",
    "    #copy_all_files(os.path.join(ds_path, \"Oracle\", \"Common\"),\n",
    "    #               os.path.join(ds_path, classifier_name, \"Common\"))\n",
    "    copy_all_files(os.path.join(ds_path, \"Oracle\", \"CrossVal\"),\n",
    "                   os.path.join(ds_path, classifier_name, \"Crossval\"));\n",
    "    "
   ]
  },
  {
   "cell_type": "code",
   "execution_count": 13,
   "id": "4701d30b-bc9a-4240-a0ad-595eb4386a8e",
   "metadata": {
    "jupyter": {
     "source_hidden": true
    },
    "tags": []
   },
   "outputs": [],
   "source": [
    "create_classifier_folders(dataset_path,classifier_name);\n",
    "copy_oracle_info_to_classifier(dataset_path,classifier_name);"
   ]
  },
  {
   "cell_type": "code",
   "execution_count": 6,
   "id": "aebbd226-3386-4c01-ae2b-9b0413340395",
   "metadata": {
    "collapsed": true,
    "jupyter": {
     "outputs_hidden": true,
     "source_hidden": true
    },
    "tags": []
   },
   "outputs": [
    {
     "data": {
      "text/plain": [
       "array([     0,      0,      0, ..., 152290, 152290, 152290], dtype=uint32)"
      ]
     },
     "execution_count": 6,
     "metadata": {},
     "output_type": "execute_result"
    }
   ],
   "source": [
    "trueIds=np.fromfile(dataset_path+\"Common/trueIds.bin\",dtype=np.uint32)\n",
    "trueIds"
   ]
  },
  {
   "cell_type": "code",
   "execution_count": 7,
   "id": "a63bcf08-8656-46ac-b290-b1a83dd0b4c2",
   "metadata": {
    "jupyter": {
     "source_hidden": true
    },
    "tags": []
   },
   "outputs": [],
   "source": [
    "nSparsity=10;\n",
    "TopNScoresAux=np.zeros((len(trueIds),nSparsity),dtype=np.float32);\n",
    "TopNScoresIdAux=np.zeros((len(trueIds),nSparsity),dtype=np.uint32);"
   ]
  },
  {
   "cell_type": "code",
   "execution_count": 8,
   "id": "acdb9a19-58f4-4773-abfc-fd497eb2806f",
   "metadata": {
    "jupyter": {
     "source_hidden": true
    },
    "tags": []
   },
   "outputs": [],
   "source": [
    "TopNScoresIdAux[:,0]=trueIds; #These top scores dont have other idxs for sparsity values and are not ordered\n",
    "TopNScoresAux[:,0]=1;\n",
    "auxMat=np.tile(np.arange(nSparsity), (len(trueIds), 1));\n",
    "TopNScoresIdAux= (trueIds.reshape(-1, 1)+auxMat)%(np.max(trueIds)+1) # here we create\n",
    "sort_indices = np.argsort(TopNScoresIdAux, axis=1)\n",
    "rows = np.arange(TopNScoresIdAux.shape[0])[:, None]  # Row indices for broadcasting\n",
    "TopNScoresAux[:] = TopNScoresAux[rows, sort_indices]\n",
    "TopNScoresIdAux[:] = TopNScoresIdAux[rows, sort_indices]"
   ]
  },
  {
   "cell_type": "code",
   "execution_count": 13,
   "id": "ae53b0e7-db83-4120-bc31-c0c78c2970c2",
   "metadata": {
    "jupyter": {
     "source_hidden": true
    },
    "tags": []
   },
   "outputs": [],
   "source": [
    "TopNScoresAuxF=TopNScoresAux.flatten();\n",
    "TopNScoresIdAuxF=TopNScoresIdAux.flatten();"
   ]
  },
  {
   "cell_type": "code",
   "execution_count": 24,
   "id": "88af304b-b0eb-42b3-b935-72c0f01d9b7f",
   "metadata": {
    "jupyter": {
     "source_hidden": true
    },
    "tags": []
   },
   "outputs": [],
   "source": [
    "TopNScoresAuxF.astype(np.float32).tofile(dataset_path+classifier_name+\"/Common/TopNScores.bin\")\n",
    "TopNScoresIdAuxF.astype(np.uint32).tofile(dataset_path+classifier_name+\"/Common/TopNScoresId.bin\")"
   ]
  },
  {
   "cell_type": "code",
   "execution_count": 49,
   "id": "3d3de362-9a0d-4161-8a79-269b4675619c",
   "metadata": {
    "jupyter": {
     "source_hidden": true
    },
    "tags": []
   },
   "outputs": [],
   "source": [
    "nSpar=np.array([10],dtype=np.uint32 )\n",
    "nSpar.tofile(dataset_path+classifier_name+\"/Common/nSparsity.bin\")"
   ]
  },
  {
   "cell_type": "code",
   "execution_count": 28,
   "id": "a5f7b996-02bd-4448-8a4d-d724af2f42f6",
   "metadata": {
    "collapsed": true,
    "jupyter": {
     "outputs_hidden": true,
     "source_hidden": true
    },
    "tags": []
   },
   "outputs": [
    {
     "data": {
      "text/plain": [
       "array([     0,      1,      2,      3,      4,      5,      6,      7,\n",
       "            8, 152290,      0,      1,      2,      3,      4,      5,\n",
       "            6,      7,      8, 152290])"
      ]
     },
     "execution_count": 28,
     "metadata": {},
     "output_type": "execute_result"
    }
   ],
   "source": [
    "TopNScoresIdAuxF[-20:]\n",
    "#TopNScoresIdAux[152289000,:]"
   ]
  },
  {
   "cell_type": "code",
   "execution_count": 26,
   "id": "087ee530-a033-4167-8af8-a9b135d6e6c7",
   "metadata": {
    "jupyter": {
     "source_hidden": true
    },
    "tags": []
   },
   "outputs": [],
   "source": [
    "aux=np.fromfile(dataset_path+classifier_name+\"/Common/TopNScoresId.bin\",dtype=np.uint32)"
   ]
  },
  {
   "cell_type": "code",
   "execution_count": 29,
   "id": "324a2c39-824d-48e8-bd5a-e93890030753",
   "metadata": {
    "collapsed": true,
    "jupyter": {
     "outputs_hidden": true,
     "source_hidden": true
    },
    "tags": []
   },
   "outputs": [
    {
     "data": {
      "text/plain": [
       "array([     0,      1,      2,      3,      4,      5,      6,      7,\n",
       "            8, 152290,      0,      1,      2,      3,      4,      5,\n",
       "            6,      7,      8, 152290], dtype=uint32)"
      ]
     },
     "execution_count": 29,
     "metadata": {},
     "output_type": "execute_result"
    }
   ],
   "source": [
    "aux[-20:]"
   ]
  },
  {
   "cell_type": "code",
   "execution_count": 9,
   "id": "42cb5db2-eac4-41b8-8eb2-2caee32ccc69",
   "metadata": {
    "collapsed": true,
    "jupyter": {
     "outputs_hidden": true,
     "source_hidden": true
    },
    "tags": []
   },
   "outputs": [
    {
     "data": {
      "text/plain": [
       "array([[     0,      1,      2, ...,      7,      8,      9],\n",
       "       [     0,      1,      2, ...,      7,      8,      9],\n",
       "       [     0,      1,      2, ...,      7,      8,      9],\n",
       "       ...,\n",
       "       [     0,      1,      2, ...,      7,      8, 152290],\n",
       "       [     0,      1,      2, ...,      7,      8, 152290],\n",
       "       [     0,      1,      2, ...,      7,      8, 152290]])"
      ]
     },
     "execution_count": 9,
     "metadata": {},
     "output_type": "execute_result"
    }
   ],
   "source": [
    "TopNScoresIdAux"
   ]
  },
  {
   "cell_type": "markdown",
   "id": "75b43f65-a264-4965-923c-248450b06219",
   "metadata": {},
   "source": [
    "# Generating Whatprot format datasets"
   ]
  },
  {
   "cell_type": "code",
   "execution_count": 11,
   "id": "33d4484d-116f-464a-bdd4-d7ccf01d0afd",
   "metadata": {
    "tags": []
   },
   "outputs": [],
   "source": [
    "whatprot_path= \"/../ext/whatprot/cc_code/bin/release/whatprot\"\n",
    "common_path_datasets= \"/raid/jkipen/ProtInfGPU/data/WhatprotGen/WholeProteomeTests/ProbeamPaperParams/\"\n",
    "dye_seqs_path=common_path_datasets + \"dye-seqs.tsv\"\n",
    "params_path = common_path_datasets + \"seqparams_atto647n_x3.json\"\n",
    "n_samples_per_dataset=10000000; "
   ]
  },
  {
   "cell_type": "code",
   "execution_count": 8,
   "id": "852dc0d8-471d-41fb-9217-104d8b076185",
   "metadata": {
    "tags": []
   },
   "outputs": [
    {
     "name": "stdout",
     "output_type": "stream",
     "text": [
      "./../ext/whatprot/cc_code/bin/release/whatprot simulate rad -t 40 -g 10000000 -P /raid/jkipen/ProtInfGPU/data/WhatprotGen/WholeProteomeTests/ProbeamPaperParams/seqparams_atto647n_x3.json -S /raid/jkipen/ProtInfGPU/data/WhatprotGen/WholeProteomeTests/ProbeamPaperParams/dye-seqs.tsv -R /raid/jkipen/ProtInfGPU/data/WhatprotGen/WholeProteomeTests/ProbeamPaperParams/MultiDatasets/radiometries_0.tsv -Y /raid/jkipen/ProtInfGPU/data/WhatprotGen/WholeProteomeTests/ProbeamPaperParams/MultiDatasets/true-ids_0.tsv\n",
      "Finished basic setup (0.000113897 seconds).\n",
      "Read 152291 dye seqs (0.0996284 seconds).\n",
      "Finished generating 9498826 radiometries (191.627seconds).\n",
      "Finished saving results (1256.79 seconds).\n",
      "Total run time: 1448.51 seconds.\n",
      "./../ext/whatprot/cc_code/bin/release/whatprot simulate rad -t 40 -g 10000000 -P /raid/jkipen/ProtInfGPU/data/WhatprotGen/WholeProteomeTests/ProbeamPaperParams/seqparams_atto647n_x3.json -S /raid/jkipen/ProtInfGPU/data/WhatprotGen/WholeProteomeTests/ProbeamPaperParams/dye-seqs.tsv -R /raid/jkipen/ProtInfGPU/data/WhatprotGen/WholeProteomeTests/ProbeamPaperParams/MultiDatasets/radiometries_1.tsv -Y /raid/jkipen/ProtInfGPU/data/WhatprotGen/WholeProteomeTests/ProbeamPaperParams/MultiDatasets/true-ids_1.tsv\n",
      "Finished basic setup (0.000135534 seconds).\n",
      "Read 152291 dye seqs (0.111679 seconds).\n",
      "Finished generating 9499144 radiometries (191.377seconds).\n",
      "Finished saving results (1254.9 seconds).\n",
      "Total run time: 1446.39 seconds.\n",
      "./../ext/whatprot/cc_code/bin/release/whatprot simulate rad -t 40 -g 10000000 -P /raid/jkipen/ProtInfGPU/data/WhatprotGen/WholeProteomeTests/ProbeamPaperParams/seqparams_atto647n_x3.json -S /raid/jkipen/ProtInfGPU/data/WhatprotGen/WholeProteomeTests/ProbeamPaperParams/dye-seqs.tsv -R /raid/jkipen/ProtInfGPU/data/WhatprotGen/WholeProteomeTests/ProbeamPaperParams/MultiDatasets/radiometries_2.tsv -Y /raid/jkipen/ProtInfGPU/data/WhatprotGen/WholeProteomeTests/ProbeamPaperParams/MultiDatasets/true-ids_2.tsv\n",
      "Finished basic setup (0.000137143 seconds).\n",
      "Read 152291 dye seqs (0.111468 seconds).\n",
      "Finished generating 9498772 radiometries (192.11seconds).\n",
      "Finished saving results (1253.83 seconds).\n",
      "Total run time: 1446.05 seconds.\n",
      "./../ext/whatprot/cc_code/bin/release/whatprot simulate rad -t 40 -g 10000000 -P /raid/jkipen/ProtInfGPU/data/WhatprotGen/WholeProteomeTests/ProbeamPaperParams/seqparams_atto647n_x3.json -S /raid/jkipen/ProtInfGPU/data/WhatprotGen/WholeProteomeTests/ProbeamPaperParams/dye-seqs.tsv -R /raid/jkipen/ProtInfGPU/data/WhatprotGen/WholeProteomeTests/ProbeamPaperParams/MultiDatasets/radiometries_3.tsv -Y /raid/jkipen/ProtInfGPU/data/WhatprotGen/WholeProteomeTests/ProbeamPaperParams/MultiDatasets/true-ids_3.tsv\n",
      "Finished basic setup (8.0727e-05 seconds).\n",
      "Read 152291 dye seqs (0.0916295 seconds).\n",
      "Finished generating 9499470 radiometries (191.459seconds).\n",
      "Finished saving results (1291.83 seconds).\n",
      "Total run time: 1483.38 seconds.\n",
      "./../ext/whatprot/cc_code/bin/release/whatprot simulate rad -t 40 -g 10000000 -P /raid/jkipen/ProtInfGPU/data/WhatprotGen/WholeProteomeTests/ProbeamPaperParams/seqparams_atto647n_x3.json -S /raid/jkipen/ProtInfGPU/data/WhatprotGen/WholeProteomeTests/ProbeamPaperParams/dye-seqs.tsv -R /raid/jkipen/ProtInfGPU/data/WhatprotGen/WholeProteomeTests/ProbeamPaperParams/MultiDatasets/radiometries_4.tsv -Y /raid/jkipen/ProtInfGPU/data/WhatprotGen/WholeProteomeTests/ProbeamPaperParams/MultiDatasets/true-ids_4.tsv\n",
      "Finished basic setup (0.000133961 seconds).\n",
      "Read 152291 dye seqs (0.111424 seconds).\n",
      "Finished generating 9498806 radiometries (191.522seconds).\n",
      "Finished saving results (1254.33 seconds).\n",
      "Total run time: 1445.96 seconds.\n",
      "./../ext/whatprot/cc_code/bin/release/whatprot simulate rad -t 40 -g 10000000 -P /raid/jkipen/ProtInfGPU/data/WhatprotGen/WholeProteomeTests/ProbeamPaperParams/seqparams_atto647n_x3.json -S /raid/jkipen/ProtInfGPU/data/WhatprotGen/WholeProteomeTests/ProbeamPaperParams/dye-seqs.tsv -R /raid/jkipen/ProtInfGPU/data/WhatprotGen/WholeProteomeTests/ProbeamPaperParams/MultiDatasets/radiometries_5.tsv -Y /raid/jkipen/ProtInfGPU/data/WhatprotGen/WholeProteomeTests/ProbeamPaperParams/MultiDatasets/true-ids_5.tsv\n",
      "Finished basic setup (0.000112832 seconds).\n",
      "Read 152291 dye seqs (0.122986 seconds).\n",
      "Finished generating 9499503 radiometries (192.789seconds).\n",
      "Finished saving results (1255.59 seconds).\n",
      "Total run time: 1448.5 seconds.\n",
      "./../ext/whatprot/cc_code/bin/release/whatprot simulate rad -t 40 -g 10000000 -P /raid/jkipen/ProtInfGPU/data/WhatprotGen/WholeProteomeTests/ProbeamPaperParams/seqparams_atto647n_x3.json -S /raid/jkipen/ProtInfGPU/data/WhatprotGen/WholeProteomeTests/ProbeamPaperParams/dye-seqs.tsv -R /raid/jkipen/ProtInfGPU/data/WhatprotGen/WholeProteomeTests/ProbeamPaperParams/MultiDatasets/radiometries_6.tsv -Y /raid/jkipen/ProtInfGPU/data/WhatprotGen/WholeProteomeTests/ProbeamPaperParams/MultiDatasets/true-ids_6.tsv\n",
      "Finished basic setup (0.000136949 seconds).\n",
      "Read 152291 dye seqs (0.108794 seconds).\n",
      "Finished generating 9498847 radiometries (191.426seconds).\n",
      "Finished saving results (1266.15 seconds).\n",
      "Total run time: 1457.69 seconds.\n",
      "./../ext/whatprot/cc_code/bin/release/whatprot simulate rad -t 40 -g 10000000 -P /raid/jkipen/ProtInfGPU/data/WhatprotGen/WholeProteomeTests/ProbeamPaperParams/seqparams_atto647n_x3.json -S /raid/jkipen/ProtInfGPU/data/WhatprotGen/WholeProteomeTests/ProbeamPaperParams/dye-seqs.tsv -R /raid/jkipen/ProtInfGPU/data/WhatprotGen/WholeProteomeTests/ProbeamPaperParams/MultiDatasets/radiometries_7.tsv -Y /raid/jkipen/ProtInfGPU/data/WhatprotGen/WholeProteomeTests/ProbeamPaperParams/MultiDatasets/true-ids_7.tsv\n",
      "Finished basic setup (0.000138611 seconds).\n",
      "Read 152291 dye seqs (0.111537 seconds).\n",
      "Finished generating 9498753 radiometries (191.961seconds).\n",
      "Finished saving results (1269.87 seconds).\n",
      "Total run time: 1461.94 seconds.\n",
      "./../ext/whatprot/cc_code/bin/release/whatprot simulate rad -t 40 -g 10000000 -P /raid/jkipen/ProtInfGPU/data/WhatprotGen/WholeProteomeTests/ProbeamPaperParams/seqparams_atto647n_x3.json -S /raid/jkipen/ProtInfGPU/data/WhatprotGen/WholeProteomeTests/ProbeamPaperParams/dye-seqs.tsv -R /raid/jkipen/ProtInfGPU/data/WhatprotGen/WholeProteomeTests/ProbeamPaperParams/MultiDatasets/radiometries_8.tsv -Y /raid/jkipen/ProtInfGPU/data/WhatprotGen/WholeProteomeTests/ProbeamPaperParams/MultiDatasets/true-ids_8.tsv\n",
      "Finished basic setup (0.000136904 seconds).\n",
      "Read 152291 dye seqs (0.112948 seconds).\n",
      "Finished generating 9498869 radiometries (191.553seconds).\n",
      "Finished saving results (1264.93 seconds).\n",
      "Total run time: 1456.6 seconds.\n",
      "./../ext/whatprot/cc_code/bin/release/whatprot simulate rad -t 40 -g 10000000 -P /raid/jkipen/ProtInfGPU/data/WhatprotGen/WholeProteomeTests/ProbeamPaperParams/seqparams_atto647n_x3.json -S /raid/jkipen/ProtInfGPU/data/WhatprotGen/WholeProteomeTests/ProbeamPaperParams/dye-seqs.tsv -R /raid/jkipen/ProtInfGPU/data/WhatprotGen/WholeProteomeTests/ProbeamPaperParams/MultiDatasets/radiometries_9.tsv -Y /raid/jkipen/ProtInfGPU/data/WhatprotGen/WholeProteomeTests/ProbeamPaperParams/MultiDatasets/true-ids_9.tsv\n",
      "Finished basic setup (0.00011234 seconds).\n",
      "Read 152291 dye seqs (0.092451 seconds).\n",
      "Finished generating 9498766 radiometries (191.385seconds).\n",
      "Finished saving results (1264.09 seconds).\n",
      "Total run time: 1455.57 seconds.\n"
     ]
    }
   ],
   "source": [
    "n_datasets=10;\n",
    "for i in range(n_datasets):\n",
    "    rad_path = common_path_datasets+ \"MultiDatasets/radiometries_\"+str(i)+\".tsv\";\n",
    "    true_ids_path = common_path_datasets+ \"MultiDatasets/true-ids_\"+str(i)+\".tsv\";\n",
    "    command = \".\" +whatprot_path + \" simulate rad -t 40 -g \"+str(n_samples_per_dataset) +\" -P \"+ params_path+\" -S \"+dye_seqs_path+\" -R \"+rad_path+\" -Y \"+true_ids_path;\n",
    "    print(command)\n",
    "    os.system(command)"
   ]
  },
  {
   "cell_type": "code",
   "execution_count": 9,
   "id": "3ab27a00-a032-45ad-8a1b-c970655b7948",
   "metadata": {
    "tags": []
   },
   "outputs": [],
   "source": [
    "all_true_ids=[]\n",
    "for i in range(10):\n",
    "    df = pd.read_csv(common_path_datasets+ \"MultiDatasets/true-ids_\"+str(i)+\".tsv\", sep=\"\\t\");\n",
    "    all_true_ids.append(df.to_numpy().flatten());"
   ]
  },
  {
   "cell_type": "code",
   "execution_count": 10,
   "id": "0a6f64b0-8ed5-4059-8bc6-daba44c7e8e7",
   "metadata": {
    "tags": []
   },
   "outputs": [
    {
     "name": "stdout",
     "output_type": "stream",
     "text": [
      "1199\n",
      "226\n",
      "152291\n"
     ]
    }
   ],
   "source": [
    "all_true_ids=np.concatenate(all_true_ids)\n",
    "u,counts=np.unique(all_true_ids,return_counts=True)\n",
    "print(np.max(counts))\n",
    "print(np.min(counts))\n",
    "print(len(u))"
   ]
  },
  {
   "cell_type": "markdown",
   "id": "7d40adae-d12b-4219-888c-5fe00fd2dd4e",
   "metadata": {
    "tags": []
   },
   "source": [
    "This means that with these datasets we can create an extra dataset with samples up to 390 of each dye seq!. Now lets get those datasets together and pick 100 of them!\n"
   ]
  },
  {
   "cell_type": "code",
   "execution_count": 42,
   "id": "fb1a1195-49bf-4bfc-b4af-d836d18568fc",
   "metadata": {
    "collapsed": true,
    "jupyter": {
     "outputs_hidden": true
    },
    "tags": []
   },
   "outputs": [
    {
     "ename": "MemoryError",
     "evalue": "Unable to allocate 89.4 GiB for an array with shape (120, 99949335) and data type float64",
     "output_type": "error",
     "traceback": [
      "\u001b[0;31m---------------------------------------------------------------------------\u001b[0m",
      "\u001b[0;31mMemoryError\u001b[0m                               Traceback (most recent call last)",
      "Cell \u001b[0;32mIn[42], line 8\u001b[0m\n\u001b[1;32m      5\u001b[0m     dfr[\u001b[38;5;124m'\u001b[39m\u001b[38;5;124mtrue_ids\u001b[39m\u001b[38;5;124m'\u001b[39m] \u001b[38;5;241m=\u001b[39m dft[\u001b[38;5;241m0\u001b[39m]\n\u001b[1;32m      6\u001b[0m     dfs\u001b[38;5;241m.\u001b[39mappend(dfr)\n\u001b[0;32m----> 8\u001b[0m big_df \u001b[38;5;241m=\u001b[39m \u001b[43mpd\u001b[49m\u001b[38;5;241;43m.\u001b[39;49m\u001b[43mconcat\u001b[49m\u001b[43m(\u001b[49m\u001b[43mdfs\u001b[49m\u001b[43m,\u001b[49m\u001b[43m \u001b[49m\u001b[43maxis\u001b[49m\u001b[38;5;241;43m=\u001b[39;49m\u001b[38;5;241;43m0\u001b[39;49m\u001b[43m,\u001b[49m\u001b[43m \u001b[49m\u001b[43mignore_index\u001b[49m\u001b[38;5;241;43m=\u001b[39;49m\u001b[38;5;28;43;01mTrue\u001b[39;49;00m\u001b[43m)\u001b[49m\n\u001b[1;32m      9\u001b[0m result_df \u001b[38;5;241m=\u001b[39m big_df\u001b[38;5;241m.\u001b[39mgroupby(\u001b[38;5;124m'\u001b[39m\u001b[38;5;124mtrue_ids\u001b[39m\u001b[38;5;124m'\u001b[39m, group_keys\u001b[38;5;241m=\u001b[39m\u001b[38;5;28;01mFalse\u001b[39;00m)\u001b[38;5;241m.\u001b[39mapply(\u001b[38;5;28;01mlambda\u001b[39;00m group: group\u001b[38;5;241m.\u001b[39mhead(\u001b[38;5;241m100\u001b[39m))\n",
      "File \u001b[0;32m~/anaconda3/envs/browDataAug/lib/python3.8/site-packages/pandas/core/reshape/concat.py:385\u001b[0m, in \u001b[0;36mconcat\u001b[0;34m(objs, axis, join, ignore_index, keys, levels, names, verify_integrity, sort, copy)\u001b[0m\n\u001b[1;32m    370\u001b[0m     copy \u001b[38;5;241m=\u001b[39m \u001b[38;5;28;01mFalse\u001b[39;00m\n\u001b[1;32m    372\u001b[0m op \u001b[38;5;241m=\u001b[39m _Concatenator(\n\u001b[1;32m    373\u001b[0m     objs,\n\u001b[1;32m    374\u001b[0m     axis\u001b[38;5;241m=\u001b[39maxis,\n\u001b[0;32m   (...)\u001b[0m\n\u001b[1;32m    382\u001b[0m     sort\u001b[38;5;241m=\u001b[39msort,\n\u001b[1;32m    383\u001b[0m )\n\u001b[0;32m--> 385\u001b[0m \u001b[38;5;28;01mreturn\u001b[39;00m \u001b[43mop\u001b[49m\u001b[38;5;241;43m.\u001b[39;49m\u001b[43mget_result\u001b[49m\u001b[43m(\u001b[49m\u001b[43m)\u001b[49m\n",
      "File \u001b[0;32m~/anaconda3/envs/browDataAug/lib/python3.8/site-packages/pandas/core/reshape/concat.py:616\u001b[0m, in \u001b[0;36m_Concatenator.get_result\u001b[0;34m(self)\u001b[0m\n\u001b[1;32m    612\u001b[0m             indexers[ax] \u001b[38;5;241m=\u001b[39m obj_labels\u001b[38;5;241m.\u001b[39mget_indexer(new_labels)\n\u001b[1;32m    614\u001b[0m     mgrs_indexers\u001b[38;5;241m.\u001b[39mappend((obj\u001b[38;5;241m.\u001b[39m_mgr, indexers))\n\u001b[0;32m--> 616\u001b[0m new_data \u001b[38;5;241m=\u001b[39m \u001b[43mconcatenate_managers\u001b[49m\u001b[43m(\u001b[49m\n\u001b[1;32m    617\u001b[0m \u001b[43m    \u001b[49m\u001b[43mmgrs_indexers\u001b[49m\u001b[43m,\u001b[49m\u001b[43m \u001b[49m\u001b[38;5;28;43mself\u001b[39;49m\u001b[38;5;241;43m.\u001b[39;49m\u001b[43mnew_axes\u001b[49m\u001b[43m,\u001b[49m\u001b[43m \u001b[49m\u001b[43mconcat_axis\u001b[49m\u001b[38;5;241;43m=\u001b[39;49m\u001b[38;5;28;43mself\u001b[39;49m\u001b[38;5;241;43m.\u001b[39;49m\u001b[43mbm_axis\u001b[49m\u001b[43m,\u001b[49m\u001b[43m \u001b[49m\u001b[43mcopy\u001b[49m\u001b[38;5;241;43m=\u001b[39;49m\u001b[38;5;28;43mself\u001b[39;49m\u001b[38;5;241;43m.\u001b[39;49m\u001b[43mcopy\u001b[49m\n\u001b[1;32m    618\u001b[0m \u001b[43m\u001b[49m\u001b[43m)\u001b[49m\n\u001b[1;32m    619\u001b[0m \u001b[38;5;28;01mif\u001b[39;00m \u001b[38;5;129;01mnot\u001b[39;00m \u001b[38;5;28mself\u001b[39m\u001b[38;5;241m.\u001b[39mcopy \u001b[38;5;129;01mand\u001b[39;00m \u001b[38;5;129;01mnot\u001b[39;00m using_copy_on_write():\n\u001b[1;32m    620\u001b[0m     new_data\u001b[38;5;241m.\u001b[39m_consolidate_inplace()\n",
      "File \u001b[0;32m~/anaconda3/envs/browDataAug/lib/python3.8/site-packages/pandas/core/internals/concat.py:232\u001b[0m, in \u001b[0;36mconcatenate_managers\u001b[0;34m(mgrs_indexers, axes, concat_axis, copy)\u001b[0m\n\u001b[1;32m    226\u001b[0m vals \u001b[38;5;241m=\u001b[39m [ju\u001b[38;5;241m.\u001b[39mblock\u001b[38;5;241m.\u001b[39mvalues \u001b[38;5;28;01mfor\u001b[39;00m ju \u001b[38;5;129;01min\u001b[39;00m join_units]\n\u001b[1;32m    228\u001b[0m \u001b[38;5;28;01mif\u001b[39;00m \u001b[38;5;129;01mnot\u001b[39;00m blk\u001b[38;5;241m.\u001b[39mis_extension:\n\u001b[1;32m    229\u001b[0m     \u001b[38;5;66;03m# _is_uniform_join_units ensures a single dtype, so\u001b[39;00m\n\u001b[1;32m    230\u001b[0m     \u001b[38;5;66;03m#  we can use np.concatenate, which is more performant\u001b[39;00m\n\u001b[1;32m    231\u001b[0m     \u001b[38;5;66;03m#  than concat_compat\u001b[39;00m\n\u001b[0;32m--> 232\u001b[0m     values \u001b[38;5;241m=\u001b[39m \u001b[43mnp\u001b[49m\u001b[38;5;241;43m.\u001b[39;49m\u001b[43mconcatenate\u001b[49m\u001b[43m(\u001b[49m\u001b[43mvals\u001b[49m\u001b[43m,\u001b[49m\u001b[43m \u001b[49m\u001b[43maxis\u001b[49m\u001b[38;5;241;43m=\u001b[39;49m\u001b[38;5;241;43m1\u001b[39;49m\u001b[43m)\u001b[49m\n\u001b[1;32m    233\u001b[0m \u001b[38;5;28;01melse\u001b[39;00m:\n\u001b[1;32m    234\u001b[0m     \u001b[38;5;66;03m# TODO(EA2D): special-casing not needed with 2D EAs\u001b[39;00m\n\u001b[1;32m    235\u001b[0m     values \u001b[38;5;241m=\u001b[39m concat_compat(vals, axis\u001b[38;5;241m=\u001b[39m\u001b[38;5;241m1\u001b[39m)\n",
      "File \u001b[0;32m<__array_function__ internals>:200\u001b[0m, in \u001b[0;36mconcatenate\u001b[0;34m(*args, **kwargs)\u001b[0m\n",
      "\u001b[0;31mMemoryError\u001b[0m: Unable to allocate 89.4 GiB for an array with shape (120, 99949335) and data type float64"
     ]
    }
   ],
   "source": [
    "dfs = [] #Vibe coding (This one uses a lot of memory, so for big datasets I will do another\n",
    "for i in range(10):\n",
    "    dfr = pd.read_csv(common_path_datasets+ \"MultiDatasets/radiometries_\"+str(i)+\".tsv\", sep=\"\\t\", header=None, skiprows=3); #Skipping metadata rows\n",
    "    dft = pd.read_csv(common_path_datasets+ \"MultiDatasets/true-ids_\"+str(i)+\".tsv\", sep=\"\\t\", header=None, skiprows=1); #Skipping metadata rows\n",
    "    dfr['true_ids'] = dft[0]\n",
    "    dfs.append(dfr)\n",
    "    \n",
    "big_df = pd.concat(dfs, axis=0, ignore_index=True)\n",
    "result_df = big_df.groupby('true_ids', group_keys=False).apply(lambda group: group.head(100))"
   ]
  },
  {
   "cell_type": "code",
   "execution_count": 13,
   "id": "29ec0363-a591-4b3b-a167-71137d59018f",
   "metadata": {
    "tags": []
   },
   "outputs": [],
   "source": [
    "for i in range(10):\n",
    "    dfr = pd.read_csv(common_path_datasets+ \"MultiDatasets/radiometries_\"+str(i)+\".tsv\", sep=\"\\t\", header=None, skiprows=3); #Skipping metadata rows\n",
    "    dft = pd.read_csv(common_path_datasets+ \"MultiDatasets/true-ids_\"+str(i)+\".tsv\", sep=\"\\t\", header=None, skiprows=1); #Skipping metadata rows\n",
    "    dfr['true_ids'] = dft[0]\n",
    "    if i==0:\n",
    "        dfs = dfr.groupby('true_ids', group_keys=False).apply(lambda group: group.head(100))\n",
    "    else:\n",
    "        dfs = pd.concat([dfs, dfr], axis=0, ignore_index=True)\n",
    "        dfs = dfs.groupby('true_ids', group_keys=False).apply(lambda group: group.head(100))\n",
    "result_df=dfs"
   ]
  },
  {
   "cell_type": "code",
   "execution_count": 14,
   "id": "d02d112b-f02a-48fc-b984-ecbf9dcceac2",
   "metadata": {},
   "outputs": [],
   "source": [
    "result_df.to_csv(common_path_datasets+\"aux.csv\", index=False)"
   ]
  },
  {
   "cell_type": "code",
   "execution_count": 15,
   "id": "2ad4cc94-a2c4-431c-b681-a33ad757d348",
   "metadata": {
    "tags": []
   },
   "outputs": [],
   "source": [
    "# Parameters for the header of the output file\n",
    "#Vibe oding\n",
    "radiometries_df = result_df.drop(columns=['true_ids'])\n",
    "true_ids_series = result_df['true_ids']\n",
    "\n",
    "# Get the number of reads (rows) from the filtered data\n",
    "num_reads = len(result_df)\n",
    "\n",
    "# Save the final radiometries file with custom header\n",
    "num_timesteps = 40   # Given constant: number of timesteps\n",
    "num_channels = 3     # Given constant: number of channels\n",
    "\n",
    "\n",
    "\n",
    "# Save the final true IDs file with custom header (only number of reads)\n",
    "true_ids_output_file = common_path_datasets+\"true-ids.tsv\"\n",
    "with open(true_ids_output_file, \"w\") as f:\n",
    "    f.write(f\"{num_reads}\\n\")\n",
    "    true_ids_series.to_csv(f, sep=\"\\t\", index=False, header=False)\n"
   ]
  },
  {
   "cell_type": "code",
   "execution_count": 16,
   "id": "580547a3-f857-4283-9548-4c9d2a67a3c8",
   "metadata": {
    "tags": []
   },
   "outputs": [],
   "source": [
    "radiometries_output_file = common_path_datasets+\"radiometries.tsv\"\n",
    "with open(radiometries_output_file, \"w\") as f:\n",
    "    f.write(f\"{num_timesteps}\\n\")\n",
    "    f.write(f\"{num_channels}\\n\")\n",
    "    f.write(f\"{num_reads}\\n\")\n",
    "    radiometries_df.to_csv(f, sep=\"\\t\", index=False, header=False)"
   ]
  },
  {
   "cell_type": "code",
   "execution_count": null,
   "id": "39e45ddb-0f02-46f2-ae50-f2f06b14a294",
   "metadata": {},
   "outputs": [],
   "source": [
    "# Creating normal whatprot clas"
   ]
  },
  {
   "cell_type": "markdown",
   "id": "bdacb3d3-37b4-4d28-adb9-5fb7c47cb1c0",
   "metadata": {},
   "source": [
    "### Reduced dataset\n",
    "This dataset resulted way too big to analyze before getting results, we try making a reduced version:"
   ]
  },
  {
   "cell_type": "code",
   "execution_count": 17,
   "id": "8e04cb70-e0eb-45b2-a43b-0da14e1851f2",
   "metadata": {
    "tags": []
   },
   "outputs": [],
   "source": [
    "df_big=pd.read_csv(common_path_datasets+\"aux.csv\")\n",
    "df_small = df_big.groupby('true_ids', group_keys=False).apply(lambda group: group.head(2))\n",
    "#df_small.drop(df_small.columns[0], axis=1) #There was the index column, lets remove it!\n",
    "df_small.to_csv(common_path_datasets+\"Reduced/aux.csv\",index=False)\n",
    "#df_small=pd.read_csv(common_path_datasets+\"Reduced/aux.csv\")"
   ]
  },
  {
   "cell_type": "code",
   "execution_count": 18,
   "id": "a37d29fb-536f-4ebe-ac3c-33424ccd814d",
   "metadata": {
    "tags": []
   },
   "outputs": [],
   "source": [
    "common_path_datasets_reduced=common_path_datasets+\"Reduced/\";\n",
    "radiometries_df = df_small.drop(columns=['true_ids'])\n",
    "true_ids_series = df_small['true_ids']\n",
    "\n",
    "# Get the number of reads (rows) from the filtered data\n",
    "num_reads = len(df_small)\n",
    "\n",
    "# Save the final radiometries file with custom header\n",
    "num_timesteps = 40   # Given constant: number of timesteps\n",
    "num_channels = 3     # Given constant: number of channels\n",
    "\n",
    "\n",
    "\n",
    "# Save the final true IDs file with custom header (only number of reads)\n",
    "true_ids_output_file = common_path_datasets_reduced+\"true-ids.tsv\"\n",
    "with open(true_ids_output_file, \"w\") as f:\n",
    "    f.write(f\"{num_reads}\\n\")\n",
    "    true_ids_series.to_csv(f, sep=\"\\t\", index=False, header=False)\n",
    "    \n",
    "radiometries_output_file = common_path_datasets_reduced+\"radiometries.tsv\"\n",
    "with open(radiometries_output_file, \"w\") as f:\n",
    "    f.write(f\"{num_timesteps}\\n\")\n",
    "    f.write(f\"{num_channels}\\n\")\n",
    "    f.write(f\"{num_reads}\\n\")\n",
    "    radiometries_df.to_csv(f, sep=\"\\t\", index=False, header=False)"
   ]
  },
  {
   "cell_type": "markdown",
   "id": "919eac42-bd3a-4c87-81cb-af788fd50566",
   "metadata": {},
   "source": [
    "## Analyzing probeam results\n",
    "\n",
    "Now after generated the dataset, I got the scores when running probeam on it. These results are gonna be analyzed here before running them on the CUDA code of EM:"
   ]
  },
  {
   "cell_type": "code",
   "execution_count": 1,
   "id": "ab99c82f-112b-4618-87dd-bbf8003759a4",
   "metadata": {
    "tags": []
   },
   "outputs": [],
   "source": [
    "def loadScores(folder,n_rows=-1,n_sparsity=1000):\n",
    "    if n_rows== (-1):\n",
    "        allScores=np.fromfile(folder+\"TopNScores.bin\", dtype=np.float32)\n",
    "        allScoresId=np.fromfile(folder+\"TopNScoresId.bin\", dtype=np.uint32)\n",
    "    else:\n",
    "        allScores=np.fromfile(folder+\"TopNScores.bin\", dtype=np.float32,count =n_rows*n_sparsity)\n",
    "        allScoresId=np.fromfile(folder+\"TopNScoresId.bin\", dtype=np.uint32,count =n_rows*n_sparsity)\n",
    "    allScores=allScores.reshape(-1, n_sparsity)\n",
    "    allScoresId=allScoresId.reshape(-1, n_sparsity)\n",
    "    return allScores,allScoresId\n",
    "\n",
    "def sanity_check(allScores,allScoresId):\n",
    "    print(\"Max prob: \" + str(np.max(allScores)))\n",
    "    print(\"Max id: \" + str(np.max(allScoresId)))\n",
    "    print(\"Count of decreasing or same idx in rows: \" + str(np.sum(np.diff(allScoresId,axis=1)<=0)))\n",
    "    \n",
    "def accuracy(allScores,allScoresId,true_labels):\n",
    "    max_indices = np.argmax(allScores, axis=1) \n",
    "    top_ids = allScoresId[np.arange(allScores.shape[0]), max_indices]\n",
    "    accuracy = np.mean(top_ids == true_labels)\n",
    "    print(\"The obtained accuracy was: \"+str(accuracy))\n",
    "\n",
    "def plot_acc_accuracy(allScores):\n",
    "    allScoresSorted=np.sort(allScores,axis=1)[:, ::-1]\n",
    "    allScoresSortedCumsum=np.cumsum(allScoresSorted,axis=1)\n",
    "    mean_acc=np.mean(allScoresSortedCumsum,axis=0)\n",
    "    plt.plot(1-mean_acc)\n",
    "    plt.ylabel(\"Residual probability\")\n",
    "    plt.xlabel(\"N sparsity\")\n",
    "    plt.grid()\n",
    "    plt.show()\n",
    "    print(\"The final residual probability is \" + str(1-mean_acc[-1]))\n",
    "\n",
    "def analyze_whatprot_results(path_results,true_labels):\n",
    "    df=pd.read_csv(path_results)\n",
    "    est_labels=df[\"best_pep_iz\"].to_numpy()\n",
    "    accuracy = np.mean(est_labels == true_labels)\n",
    "    print(\"The obtained whatprot accuracy was: \"+str(accuracy))\n",
    "    "
   ]
  },
  {
   "cell_type": "code",
   "execution_count": 4,
   "id": "2a4eccc3-fbbc-4f6a-b4b7-522049199c23",
   "metadata": {
    "tags": []
   },
   "outputs": [
    {
     "name": "stdout",
     "output_type": "stream",
     "text": [
      "Max prob: 1.0000002\n",
      "Max id: 152290\n",
      "Count of decreasing or same idx in rows: 0\n",
      "The obtained accuracy was: 0.9819785804807901\n"
     ]
    },
    {
     "data": {
      "image/png": "[encoded data removed]",
      "text/plain": [
       "<Figure size 640x480 with 1 Axes>"
      ]
     },
     "metadata": {},
     "output_type": "display_data"
    },
    {
     "name": "stdout",
     "output_type": "stream",
     "text": [
      "The final residual probability is 0.0005360841751098633\n"
     ]
    }
   ],
   "source": [
    "n_sparsity=1000;\n",
    "folder_path=\"/home/jkipen/raid_storage/ProtInfGPU/data/WhatprotGen/WholeProteomeTests/NoBlockageBetterRates/Reduced/\"\n",
    "\n",
    "allScores,allScoresId=loadScores(folder_path)\n",
    "sanity_check(allScores,allScoresId)\n",
    "true_labels=np.repeat(np.arange(len(allScores)/2), 2).astype(int)\n",
    "accuracy(allScores,allScoresId,true_labels)\n",
    "plot_acc_accuracy(allScores)"
   ]
  },
  {
   "cell_type": "code",
   "execution_count": 6,
   "id": "2f4531b4-c0e5-4204-bb26-639873e0259c",
   "metadata": {
    "collapsed": true,
    "jupyter": {
     "outputs_hidden": true
    },
    "tags": []
   },
   "outputs": [
    {
     "name": "stdout",
     "output_type": "stream",
     "text": [
      "Max prob: 0.9560109\n",
      "Max id: 152281\n",
      "Count of decreasing or same idx in rows: 0\n",
      "The obtained accuracy was: 0.982\n"
     ]
    },
    {
     "data": {
      "image/png": "[encoded data removed]",
      "text/plain": [
       "<Figure size 640x480 with 1 Axes>"
      ]
     },
     "metadata": {},
     "output_type": "display_data"
    },
    {
     "name": "stdout",
     "output_type": "stream",
     "text": [
      "The final residual probability is 0.0006156563758850098\n"
     ]
    }
   ],
   "source": [
    "n_sparsity=1000; ##Is there difference between the reduced set or not?\n",
    "n_rows=1000;\n",
    "folder_path=\"/home/jkipen/raid_storage/ProtInfGPU/data/WhatprotGen/WholeProteomeTests/NoBlockageBetterRates/\"\n",
    "\n",
    "allScores,allScoresId=loadScores(folder_path,n_rows=n_rows)\n",
    "sanity_check(allScores,allScoresId)\n",
    "true_labels=np.repeat(np.arange(len(allScores)/100), 100).astype(int)\n",
    "accuracy(allScores,allScoresId,true_labels)\n",
    "plot_acc_accuracy(allScores)"
   ]
  },
  {
   "cell_type": "code",
   "execution_count": 7,
   "id": "a0e98331-565e-4193-a919-04edd4b3887b",
   "metadata": {
    "tags": []
   },
   "outputs": [
    {
     "name": "stdout",
     "output_type": "stream",
     "text": [
      "The obtained accuracy was: 0.9504406038439567\n"
     ]
    },
    {
     "data": {
      "image/png": "[encoded data removed]",
      "text/plain": [
       "<Figure size 640x480 with 1 Axes>"
      ]
     },
     "metadata": {},
     "output_type": "display_data"
    },
    {
     "name": "stdout",
     "output_type": "stream",
     "text": [
      "The final residual probability is 0.0005851387977600098\n"
     ]
    }
   ],
   "source": [
    "true_labels=np.repeat(np.arange(len(allScores)/100), 100).astype(int)\n",
    "accuracy(allScores,allScoresId,true_labels)\n",
    "plot_acc_accuracy(allScores)"
   ]
  },
  {
   "cell_type": "code",
   "execution_count": 8,
   "id": "8ed677f2-5762-400c-bfa6-4687edceee47",
   "metadata": {
    "tags": []
   },
   "outputs": [
    {
     "name": "stdout",
     "output_type": "stream",
     "text": [
      "Max prob: 0.9914874\n",
      "Max id: 152290\n",
      "Count of decreasing or same idx in rows: 0\n",
      "The obtained accuracy was: 0.3094\n"
     ]
    },
    {
     "data": {
      "image/png": "[encoded data removed]",
      "text/plain": [
       "<Figure size 640x480 with 1 Axes>"
      ]
     },
     "metadata": {},
     "output_type": "display_data"
    },
    {
     "name": "stdout",
     "output_type": "stream",
     "text": [
      "The final residual probability is 0.3023223280906677\n"
     ]
    }
   ],
   "source": [
    "n_sparsity=1000;\n",
    "n_rows=10000;\n",
    "folder_path=\"/home/jkipen/raid_storage/ProtInfGPU/data/WhatprotGen/WholeProteomeTests/ProbeamPaperParams/\"\n",
    "\n",
    "allScores,allScoresId=loadScores(folder_path,n_rows=n_rows)\n",
    "sanity_check(allScores,allScoresId)\n",
    "true_labels=np.repeat(np.arange(len(allScores)/100), 100).astype(int)\n",
    "accuracy(allScores,allScoresId,true_labels)\n",
    "plot_acc_accuracy(allScores)"
   ]
  },
  {
   "cell_type": "code",
   "execution_count": 16,
   "id": "16971ad1-edc2-487d-a629-dec908729fcf",
   "metadata": {
    "tags": []
   },
   "outputs": [
    {
     "name": "stdout",
     "output_type": "stream",
     "text": [
      "The obtained whatprot accuracy was: 0.056605446152431856\n"
     ]
    }
   ],
   "source": [
    "whatprot_res=\"/home/jkipen/raid_storage/ProtInfGPU/data/WhatprotGen/WholeProteomeTests/ProbeamPaperParams/Reduced/predictions.csv\"\n",
    "true_labels=np.repeat(np.arange(len(allScores)/2), 2).astype(int)\n",
    "analyze_whatprot_results(whatprot_res,true_labels)"
   ]
  },
  {
   "cell_type": "code",
   "execution_count": 4,
   "id": "1cfa34fe-96cc-43d9-8949-b0e445f9e274",
   "metadata": {
    "tags": []
   },
   "outputs": [
    {
     "name": "stdout",
     "output_type": "stream",
     "text": [
      "The obtained whatprot accuracy was: 0.9499740628139549\n"
     ]
    }
   ],
   "source": [
    "whatprot_res=\"/home/jkipen/raid_storage/ProtInfGPU/data/WhatprotGen/WholeProteomeTests/NoBlockageBetterRates/Reduced/predictions.csv\"\n",
    "true_labels=np.repeat(np.arange(len(allScores)/2), 2).astype(int)\n",
    "analyze_whatprot_results(whatprot_res,true_labels)"
   ]
  },
  {
   "cell_type": "markdown",
   "id": "2e53ee98-ea44-49a1-9002-0397e269f7c1",
   "metadata": {},
   "source": [
    "## Accuracy seems to stuck in a certain porectange\n",
    "\n",
    "It seems that even reducing a lot the errors still gets an accuracy of 38%, which still does not work very well to correct the errors. After manually inspecting, it seems that there is a lot of dye sequences that are very long, so only 10 cycles are not good enough to differentiate them!\n",
    "\n",
    "I want to plot how many dye-seqs would have the same pattern when error free if only N cycles of edman were done!\n",
    "\n"
   ]
  },
  {
   "cell_type": "code",
   "execution_count": 2,
   "id": "afd2ef35-dc9e-4550-be59-41ce57b15f45",
   "metadata": {
    "tags": []
   },
   "outputs": [],
   "source": [
    "df=pd.read_csv(\"/home/jkipen/raid_storage/ProtInfGPU/data/20642_Prot/binary/ProbeamBetterConfig/ExpTable.csv\")\n",
    "df_filtered = df.drop_duplicates(subset=\"Flustring Id\", keep=\"first\")[[\"Flustring Id\", \"Flustring\"]];\n",
    "n_flus=len(df_filtered);\n",
    "flustrings_rev=df_filtered[\"Flustring\"].to_list()\n",
    "flustrings=[seq[::-1] for seq in flustrings_rev]"
   ]
  },
  {
   "cell_type": "markdown",
   "id": "d97e8e94-01bc-4284-a473-31c9c9a71c4b",
   "metadata": {
    "tags": []
   },
   "source": [
    "For each number of edman degradations, we will see the ideal output we should observe. Then we will compute the maximum accuracy we could have. This for many different edman cycle numbers"
   ]
  },
  {
   "cell_type": "code",
   "execution_count": 1,
   "id": "85615fe5-2f56-4f26-a26e-0c969248c8d7",
   "metadata": {
    "tags": []
   },
   "outputs": [],
   "source": [
    "def dye_seq_to_dye_track(dye_seq,n_ed_cycles):\n",
    "    dye_track=np.zeros((n_ed_cycles+1,n_colors))\n",
    "    dye_track[0,:]=[dye_seq.count('0'),dye_seq.count('1'),dye_seq.count('2')]\n",
    "    for idx,char in enumerate(dye_seq):\n",
    "        if idx>=n_ed_cycles:\n",
    "            break\n",
    "        else:\n",
    "            dye_track[idx+1,:]=dye_track[idx,:]\n",
    "            if char.isdigit():\n",
    "                #print(char)\n",
    "                dye_track[idx+1,int(char)]=dye_track[idx+1,int(char)]-1\n",
    "    return dye_track"
   ]
  },
  {
   "cell_type": "code",
   "execution_count": 34,
   "id": "024bfe43-31a0-4cdd-879d-577f84a48d61",
   "metadata": {
    "tags": []
   },
   "outputs": [],
   "source": [
    "n_ed_cycles_test=[9, 12, 15, 18, 20, 25, 30, 35, 40];\n",
    "max_accs=[]\n",
    "\n",
    "for n_ed_cycles in n_ed_cycles_test:\n",
    "    n_colors=3;\n",
    "    dye_tracks=np.zeros((n_flus,n_ed_cycles+1,n_colors))\n",
    "    for n,dye_seq in enumerate(flustrings):\n",
    "        dye_tracks[n,:,:]=dye_seq_to_dye_track(dye_seq,n_ed_cycles);\n",
    "\n",
    "    flattened =[tuple(dye_tracks[i].flatten()) for i in range(dye_tracks.shape[0])] \n",
    "    unique_patterns, counts = np.unique(flattened, return_counts=True, axis=0) #The ones that have the same pattern will be guessed 1/n_count of the same time rights\n",
    "    max_accs.append(len(unique_patterns)/n_flus) #If we sum the probability of each, we get that the ideal classifier in this case will sum len(unique_patterns).\n"
   ]
  },
  {
   "cell_type": "code",
   "execution_count": 35,
   "id": "b724c01c-3770-4fcd-9c27-15b04734ebc0",
   "metadata": {
    "tags": []
   },
   "outputs": [
    {
     "data": {
      "text/plain": [
       "[<matplotlib.lines.Line2D at 0x7fe8a0241ac0>]"
      ]
     },
     "execution_count": 35,
     "metadata": {},
     "output_type": "execute_result"
    },
    {
     "data": {
      "image/png": "[encoded data removed]",
      "text/plain": [
       "<Figure size 640x480 with 1 Axes>"
      ]
     },
     "metadata": {},
     "output_type": "display_data"
    }
   ],
   "source": [
    "plt.plot(n_ed_cycles_test,max_accs)"
   ]
  },
  {
   "cell_type": "code",
   "execution_count": 36,
   "id": "5939c797-7f8b-4731-9227-7d7cc75b316d",
   "metadata": {
    "tags": []
   },
   "outputs": [
    {
     "name": "stdout",
     "output_type": "stream",
     "text": [
      "[0.39634646827455333, 0.6128398920487751, 0.7763098278952795, 0.8792574741777255, 0.9211443880465687, 0.9734652737193925, 0.9902883295795549, 0.9958828821138478, 0.9979381578688169]\n",
      "[9, 12, 15, 18, 20, 25, 30, 35, 40]\n"
     ]
    }
   ],
   "source": [
    "print(max_accs)\n",
    "print(n_ed_cycles_test)"
   ]
  },
  {
   "cell_type": "code",
   "execution_count": 36,
   "id": "5886603e-86ec-4e8f-824a-356cb474479a",
   "metadata": {
    "tags": []
   },
   "outputs": [],
   "source": [
    "aux=np.fromfile(\"/home/jkipen/raid_storage/ProtInfGPU/data/20642_Prot/binary/ProbeamPaperParams/radiometries.tsv\",dtype=np.uint32)"
   ]
  },
  {
   "cell_type": "code",
   "execution_count": 7,
   "id": "56db70a9-71fa-4db9-ba86-0e700b38d84d",
   "metadata": {
    "tags": []
   },
   "outputs": [],
   "source": [
    "allScores,allScoresId=loadScores(folder_path)"
   ]
  },
  {
   "cell_type": "code",
   "execution_count": 3,
   "id": "e8a0f1ef-11b4-4eb4-b744-c2e06e684d8f",
   "metadata": {
    "tags": []
   },
   "outputs": [],
   "source": [
    "n_sparsity=1000;\n",
    "folder_path=\"/home/jkipen/raid_storage/ProtInfGPU/data/WhatprotGen/WholeProteomeTests/ProbeamPaperParams/Reduced/\"\n",
    "\n",
    "allScores,allScoresId=loadScores(folder_path)"
   ]
  },
  {
   "cell_type": "code",
   "execution_count": 8,
   "id": "553e0364-a3cc-40da-b5af-ff103b699e41",
   "metadata": {
    "tags": []
   },
   "outputs": [
    {
     "data": {
      "text/plain": [
       "array([[  1417,      0],\n",
       "       [  1417,      1],\n",
       "       [  1417,      2],\n",
       "       ...,\n",
       "       [304330,    997],\n",
       "       [304330,    998],\n",
       "       [304330,    999]])"
      ]
     },
     "execution_count": 8,
     "metadata": {},
     "output_type": "execute_result"
    }
   ],
   "source": [
    "np.argwhere(np.isnan(allScores)==1)"
   ]
  },
  {
   "cell_type": "markdown",
   "id": "02a1c49a-cfc7-4f08-a8b0-600748b450dc",
   "metadata": {},
   "source": [
    "## Checking 5Prot length edman"
   ]
  },
  {
   "cell_type": "code",
   "execution_count": 3,
   "id": "b08dddca-090f-435e-b791-50a2de4dc734",
   "metadata": {
    "tags": []
   },
   "outputs": [],
   "source": [
    "\n",
    "df=pd.read_csv(\"/home/jkipen/raid_storage/ProtInfGPU/data/WhatprotGen/5ProtTest/ExpTable5Prot.csv\")\n",
    "df_filtered = df.drop_duplicates(subset=\"Flustring Id\", keep=\"first\")[[\"Flustring Id\", \"Flustring\"]];\n",
    "n_flus=len(df_filtered);\n",
    "flustrings_rev=df_filtered[\"Flustring\"].to_list()\n",
    "flustrings=[seq[::-1] for seq in flustrings_rev]"
   ]
  },
  {
   "cell_type": "code",
   "execution_count": 6,
   "id": "8d73da9f-94f6-4591-a032-7482d06911e9",
   "metadata": {
    "tags": []
   },
   "outputs": [
    {
     "data": {
      "text/plain": [
       "[<matplotlib.lines.Line2D at 0x7f72a361ce80>]"
      ]
     },
     "execution_count": 6,
     "metadata": {},
     "output_type": "execute_result"
    },
    {
     "data": {
      "image/png": "[encoded data removed]",
      "text/plain": [
       "<Figure size 640x480 with 1 Axes>"
      ]
     },
     "metadata": {},
     "output_type": "display_data"
    }
   ],
   "source": [
    "n_ed_cycles_test=[9,10,11, 12, 15, 18, 20, 25, 30, 35, 40];\n",
    "max_accs=[]\n",
    "\n",
    "for n_ed_cycles in n_ed_cycles_test:\n",
    "    n_colors=3;\n",
    "    dye_tracks=np.zeros((n_flus,n_ed_cycles+1,n_colors))\n",
    "    for n,dye_seq in enumerate(flustrings):\n",
    "        dye_tracks[n,:,:]=dye_seq_to_dye_track(dye_seq,n_ed_cycles);\n",
    "\n",
    "    flattened =[tuple(dye_tracks[i].flatten()) for i in range(dye_tracks.shape[0])] \n",
    "    unique_patterns, counts = np.unique(flattened, return_counts=True, axis=0) #The ones that have the same pattern will be guessed 1/n_count of the same time rights\n",
    "    max_accs.append(len(unique_patterns)/n_flus) #If we sum the probability of each, we get that the ideal classifier in this case will sum len(unique_patterns).\n",
    "plt.plot(n_ed_cycles_test,max_accs)"
   ]
  },
  {
   "cell_type": "code",
   "execution_count": 8,
   "id": "f239db5e-b621-4df7-ae8f-d8d1feec54c5",
   "metadata": {
    "collapsed": true,
    "jupyter": {
     "outputs_hidden": true
    },
    "tags": []
   },
   "outputs": [
    {
     "ename": "ValueError",
     "evalue": "zero-dimensional arrays cannot be concatenated",
     "output_type": "error",
     "traceback": [
      "\u001b[0;31m---------------------------------------------------------------------------\u001b[0m",
      "\u001b[0;31mValueError\u001b[0m                                Traceback (most recent call last)",
      "Cell \u001b[0;32mIn[8], line 7\u001b[0m\n\u001b[1;32m      4\u001b[0m dft \u001b[38;5;241m=\u001b[39m pd\u001b[38;5;241m.\u001b[39mread_csv(path_5prot\u001b[38;5;241m+\u001b[39m \u001b[38;5;124m\"\u001b[39m\u001b[38;5;124mWhatprotGen/true-ids.tsv\u001b[39m\u001b[38;5;124m\"\u001b[39m, sep\u001b[38;5;241m=\u001b[39m\u001b[38;5;124m\"\u001b[39m\u001b[38;5;130;01m\\t\u001b[39;00m\u001b[38;5;124m\"\u001b[39m, header\u001b[38;5;241m=\u001b[39m\u001b[38;5;28;01mNone\u001b[39;00m, skiprows\u001b[38;5;241m=\u001b[39m\u001b[38;5;241m1\u001b[39m); \u001b[38;5;66;03m#Skipping metadata rows\u001b[39;00m\n\u001b[1;32m      5\u001b[0m dfr[\u001b[38;5;124m'\u001b[39m\u001b[38;5;124mtrue_ids\u001b[39m\u001b[38;5;124m'\u001b[39m] \u001b[38;5;241m=\u001b[39m dft[\u001b[38;5;241m0\u001b[39m]\n\u001b[0;32m----> 7\u001b[0m all_true_ids\u001b[38;5;241m=\u001b[39m\u001b[43mnp\u001b[49m\u001b[38;5;241;43m.\u001b[39;49m\u001b[43mconcatenate\u001b[49m\u001b[43m(\u001b[49m\u001b[43mdfr\u001b[49m\u001b[43m[\u001b[49m\u001b[38;5;124;43m'\u001b[39;49m\u001b[38;5;124;43mtrue_ids\u001b[39;49m\u001b[38;5;124;43m'\u001b[39;49m\u001b[43m]\u001b[49m\u001b[38;5;241;43m.\u001b[39;49m\u001b[43mvalues\u001b[49m\u001b[43m)\u001b[49m\n\u001b[1;32m      8\u001b[0m u,counts\u001b[38;5;241m=\u001b[39mnp\u001b[38;5;241m.\u001b[39munique(all_true_ids,return_counts\u001b[38;5;241m=\u001b[39m\u001b[38;5;28;01mTrue\u001b[39;00m)\n\u001b[1;32m      9\u001b[0m \u001b[38;5;28mprint\u001b[39m(np\u001b[38;5;241m.\u001b[39mmax(counts))\n",
      "File \u001b[0;32m<__array_function__ internals>:200\u001b[0m, in \u001b[0;36mconcatenate\u001b[0;34m(*args, **kwargs)\u001b[0m\n",
      "\u001b[0;31mValueError\u001b[0m: zero-dimensional arrays cannot be concatenated"
     ]
    }
   ],
   "source": [
    "path_5prot=\"/raid/jkipen/ProtInfGPU/data/WhatprotGen/5ProtTest/\"\n",
    "\n",
    "dfr = pd.read_csv(path_5prot+ \"WhatprotGen/radiometries.tsv\", sep=\"\\t\", header=None, skiprows=3); #Skipping metadata rows\n",
    "dft = pd.read_csv(path_5prot+ \"WhatprotGen/true-ids.tsv\", sep=\"\\t\", header=None, skiprows=1); #Skipping metadata rows\n",
    "dfr['true_ids'] = dft[0]"
   ]
  },
  {
   "cell_type": "code",
   "execution_count": 12,
   "id": "ef22314f-2456-405d-96ca-2dbe34675cca",
   "metadata": {
    "tags": []
   },
   "outputs": [
    {
     "name": "stdout",
     "output_type": "stream",
     "text": [
      "78067\n",
      "71331\n",
      "123\n"
     ]
    }
   ],
   "source": [
    "all_true_ids=dfr['true_ids'].to_numpy()\n",
    "u,counts=np.unique(all_true_ids,return_counts=True)\n",
    "print(np.max(counts))\n",
    "print(np.min(counts))\n",
    "print(len(u)) #Checking that there is at least 1000 traces of each flustring!"
   ]
  },
  {
   "cell_type": "code",
   "execution_count": 13,
   "id": "df05f9ac-5fd5-409f-8492-94726cf28f7b",
   "metadata": {
    "tags": []
   },
   "outputs": [],
   "source": [
    "df_reduced = dfr.groupby('true_ids', group_keys=False).apply(lambda group: group.head(1000))\n",
    "df_reduced.to_csv(path_5prot+\"aux.csv\", index=False)\n",
    "\n",
    "radiometries_df = df_reduced.drop(columns=['true_ids'])\n",
    "true_ids_series = df_reduced['true_ids']\n",
    "\n",
    "# Get the number of reads (rows) from the filtered data\n",
    "num_reads = len(df_reduced)\n",
    "\n",
    "# Save the final radiometries file with custom header\n",
    "num_timesteps = 12   # Given constant: number of timesteps\n",
    "num_channels = 3     # Given constant: number of channels\n",
    "\n",
    "# Save the final true IDs file with custom header (only number of reads)\n",
    "true_ids_output_file = path_5prot+\"true-ids.tsv\"\n",
    "with open(true_ids_output_file, \"w\") as f:\n",
    "    f.write(f\"{num_reads}\\n\")\n",
    "    true_ids_series.to_csv(f, sep=\"\\t\", index=False, header=False)\n",
    "    \n",
    "radiometries_output_file = path_5prot+\"radiometries.tsv\"\n",
    "with open(radiometries_output_file, \"w\") as f:\n",
    "    f.write(f\"{num_timesteps}\\n\")\n",
    "    f.write(f\"{num_channels}\\n\")\n",
    "    f.write(f\"{num_reads}\\n\")\n",
    "    radiometries_df.to_csv(f, sep=\"\\t\", index=False, header=False)"
   ]
  },
  {
   "cell_type": "code",
   "execution_count": 4,
   "id": "96efc95e-7562-4650-b4bd-710d358c162c",
   "metadata": {
    "tags": []
   },
   "outputs": [
    {
     "name": "stdout",
     "output_type": "stream",
     "text": [
      "Max prob: 1.0000004\n",
      "Max id: 122\n",
      "Count of decreasing or same idx in rows: 0\n",
      "The obtained accuracy was: 0.6193089430894309\n"
     ]
    },
    {
     "data": {
      "image/png": "[encoded data removed]",
      "text/plain": [
       "<Figure size 640x480 with 1 Axes>"
      ]
     },
     "metadata": {},
     "output_type": "display_data"
    },
    {
     "name": "stdout",
     "output_type": "stream",
     "text": [
      "The final residual probability is 0.0\n"
     ]
    }
   ],
   "source": [
    "n_sparsity=123; ##Is there difference between the reduced set or not?\n",
    "path_5prot=\"/raid/jkipen/ProtInfGPU/data/WhatprotGen/5ProtTest/\"\n",
    "folder_path=path_5prot\n",
    "\n",
    "allScores,allScoresId=loadScores(folder_path,n_sparsity=n_sparsity)\n",
    "sanity_check(allScores,allScoresId)\n",
    "true_labels=np.repeat(np.arange(len(allScores)/1000), 1000).astype(int)\n",
    "accuracy(allScores,allScoresId,true_labels)\n",
    "plot_acc_accuracy(allScores)"
   ]
  },
  {
   "cell_type": "code",
   "execution_count": 22,
   "id": "ad5d6a47-035c-4791-9c3b-a131ffb14619",
   "metadata": {
    "tags": []
   },
   "outputs": [],
   "source": [
    "n_spar=np.asarray(123)\n",
    "n_spar.astype(np.uint32).tofile(\"/raid/jkipen/ProtInfGPU/data/5_Prot/binary/ProbeamW1000/Common/nSparsity.bin\")"
   ]
  },
  {
   "cell_type": "code",
   "execution_count": 8,
   "id": "bbe8fd64-7619-4997-bed0-92ef518b51b0",
   "metadata": {
    "tags": []
   },
   "outputs": [
    {
     "data": {
      "text/plain": [
       "123000"
      ]
     },
     "execution_count": 8,
     "metadata": {},
     "output_type": "execute_result"
    }
   ],
   "source": [
    "np.sum(allScoresId[:,-1]==122)"
   ]
  }
 ],
 "metadata": {
  "kernelspec": {
   "display_name": "Python 3 (ipykernel)",
   "language": "python",
   "name": "python3"
  },
  "language_info": {
   "codemirror_mode": {
    "name": "ipython",
    "version": 3
   },
   "file_extension": ".py",
   "mimetype": "text/x-python",
   "name": "python",
   "nbconvert_exporter": "python",
   "pygments_lexer": "ipython3",
   "version": "3.8.17"
  }
 },
 "nbformat": 4,
 "nbformat_minor": 5
}
