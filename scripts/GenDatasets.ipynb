{
 "cells": [
  {
   "cell_type": "code",
   "execution_count": 1,
   "id": "447a5451-532d-4497-a3d6-28a1da6b0bdd",
   "metadata": {
    "tags": []
   },
   "outputs": [],
   "source": [
    "import numpy as np\n",
    "import pandas as pd\n",
    "import os\n",
    "import shutil"
   ]
  },
  {
   "cell_type": "markdown",
   "id": "95cf4afc-690e-47c4-8ad2-d5031e873cc7",
   "metadata": {},
   "source": [
    "# Test EM with sparsity\n",
    "\n",
    "In this part we generate a fake classifier that gets oracle results but outputs a 1000 sparsity signal. We will use it with the algorithm to check that our code works correctly."
   ]
  },
  {
   "cell_type": "code",
   "execution_count": 2,
   "id": "dd6ab0a4-0b88-43e1-a608-914059731eed",
   "metadata": {
    "jupyter": {
     "source_hidden": true
    },
    "tags": []
   },
   "outputs": [],
   "source": [
    "dataset_path=\"/home/jkipen/raid_storage/ProtInfGPU/data/20642_Prot/binary/\";\n",
    "classifier_name=\"SparsityTest\";"
   ]
  },
  {
   "cell_type": "code",
   "execution_count": 3,
   "id": "c957d32e-44e1-44ff-93bf-fd66d38cff0e",
   "metadata": {
    "jupyter": {
     "source_hidden": true
    },
    "tags": []
   },
   "outputs": [],
   "source": [
    "#Some functions to simplify \n",
    "def create_folder(folder_path):\n",
    "    if not os.path.exists(folder_path):  \n",
    "        os.makedirs(folder_path)\n",
    "def create_classifier_folders(ds_path,classifier_name):\n",
    "    classifier_path=ds_path+\"/\"+classifier_name;\n",
    "    create_folder(classifier_path);\n",
    "    create_folder(classifier_path+\"/CrossVal\"); #Create subfolders\n",
    "    create_folder(classifier_path+\"/Common\");\n",
    "def copy_all_files(src_folder, dst_folder):\n",
    "    \"\"\"Copies all files from src_folder to dst_folder, creating dst_folder if it doesn't exist.\"\"\"\n",
    "    #os.makedirs(dst_folder, exist_ok=True)  # Ensure the destination folder exists\n",
    "    for file_name in os.listdir(src_folder):\n",
    "        src_file = os.path.join(src_folder, file_name)\n",
    "        dst_file = os.path.join(dst_folder, file_name)\n",
    "        if os.path.isfile(src_file):  # Ensure it's a file before copying\n",
    "            shutil.copy2(src_file, dst_file)\n",
    "def copy_oracle_info_to_classifier(ds_path,classifier_name):\n",
    "    #copy_all_files(os.path.join(ds_path, \"Oracle\", \"Common\"),\n",
    "    #               os.path.join(ds_path, classifier_name, \"Common\"))\n",
    "    copy_all_files(os.path.join(ds_path, \"Oracle\", \"CrossVal\"),\n",
    "                   os.path.join(ds_path, classifier_name, \"Crossval\"));\n",
    "    "
   ]
  },
  {
   "cell_type": "code",
   "execution_count": 13,
   "id": "4701d30b-bc9a-4240-a0ad-595eb4386a8e",
   "metadata": {
    "jupyter": {
     "source_hidden": true
    },
    "tags": []
   },
   "outputs": [],
   "source": [
    "create_classifier_folders(dataset_path,classifier_name);\n",
    "copy_oracle_info_to_classifier(dataset_path,classifier_name);"
   ]
  },
  {
   "cell_type": "code",
   "execution_count": 6,
   "id": "aebbd226-3386-4c01-ae2b-9b0413340395",
   "metadata": {
    "collapsed": true,
    "jupyter": {
     "outputs_hidden": true,
     "source_hidden": true
    },
    "tags": []
   },
   "outputs": [
    {
     "data": {
      "text/plain": [
       "array([     0,      0,      0, ..., 152290, 152290, 152290], dtype=uint32)"
      ]
     },
     "execution_count": 6,
     "metadata": {},
     "output_type": "execute_result"
    }
   ],
   "source": [
    "trueIds=np.fromfile(dataset_path+\"Common/trueIds.bin\",dtype=np.uint32)\n",
    "trueIds"
   ]
  },
  {
   "cell_type": "code",
   "execution_count": 7,
   "id": "a63bcf08-8656-46ac-b290-b1a83dd0b4c2",
   "metadata": {
    "jupyter": {
     "source_hidden": true
    },
    "tags": []
   },
   "outputs": [],
   "source": [
    "nSparsity=10;\n",
    "TopNScoresAux=np.zeros((len(trueIds),nSparsity),dtype=np.float32);\n",
    "TopNScoresIdAux=np.zeros((len(trueIds),nSparsity),dtype=np.uint32);"
   ]
  },
  {
   "cell_type": "code",
   "execution_count": 8,
   "id": "acdb9a19-58f4-4773-abfc-fd497eb2806f",
   "metadata": {
    "jupyter": {
     "source_hidden": true
    },
    "tags": []
   },
   "outputs": [],
   "source": [
    "TopNScoresIdAux[:,0]=trueIds; #These top scores dont have other idxs for sparsity values and are not ordered\n",
    "TopNScoresAux[:,0]=1;\n",
    "auxMat=np.tile(np.arange(nSparsity), (len(trueIds), 1));\n",
    "TopNScoresIdAux= (trueIds.reshape(-1, 1)+auxMat)%(np.max(trueIds)+1) # here we create\n",
    "sort_indices = np.argsort(TopNScoresIdAux, axis=1)\n",
    "rows = np.arange(TopNScoresIdAux.shape[0])[:, None]  # Row indices for broadcasting\n",
    "TopNScoresAux[:] = TopNScoresAux[rows, sort_indices]\n",
    "TopNScoresIdAux[:] = TopNScoresIdAux[rows, sort_indices]"
   ]
  },
  {
   "cell_type": "code",
   "execution_count": 13,
   "id": "ae53b0e7-db83-4120-bc31-c0c78c2970c2",
   "metadata": {
    "jupyter": {
     "source_hidden": true
    },
    "tags": []
   },
   "outputs": [],
   "source": [
    "TopNScoresAuxF=TopNScoresAux.flatten();\n",
    "TopNScoresIdAuxF=TopNScoresIdAux.flatten();"
   ]
  },
  {
   "cell_type": "code",
   "execution_count": 24,
   "id": "88af304b-b0eb-42b3-b935-72c0f01d9b7f",
   "metadata": {
    "jupyter": {
     "source_hidden": true
    },
    "tags": []
   },
   "outputs": [],
   "source": [
    "TopNScoresAuxF.astype(np.float32).tofile(dataset_path+classifier_name+\"/Common/TopNScores.bin\")\n",
    "TopNScoresIdAuxF.astype(np.uint32).tofile(dataset_path+classifier_name+\"/Common/TopNScoresId.bin\")"
   ]
  },
  {
   "cell_type": "code",
   "execution_count": 49,
   "id": "3d3de362-9a0d-4161-8a79-269b4675619c",
   "metadata": {
    "jupyter": {
     "source_hidden": true
    },
    "tags": []
   },
   "outputs": [],
   "source": [
    "nSpar=np.array([10],dtype=np.uint32 )\n",
    "nSpar.tofile(dataset_path+classifier_name+\"/Common/nSparsity.bin\")"
   ]
  },
  {
   "cell_type": "code",
   "execution_count": 28,
   "id": "a5f7b996-02bd-4448-8a4d-d724af2f42f6",
   "metadata": {
    "collapsed": true,
    "jupyter": {
     "outputs_hidden": true,
     "source_hidden": true
    },
    "tags": []
   },
   "outputs": [
    {
     "data": {
      "text/plain": [
       "array([     0,      1,      2,      3,      4,      5,      6,      7,\n",
       "            8, 152290,      0,      1,      2,      3,      4,      5,\n",
       "            6,      7,      8, 152290])"
      ]
     },
     "execution_count": 28,
     "metadata": {},
     "output_type": "execute_result"
    }
   ],
   "source": [
    "TopNScoresIdAuxF[-20:]\n",
    "#TopNScoresIdAux[152289000,:]"
   ]
  },
  {
   "cell_type": "code",
   "execution_count": 26,
   "id": "087ee530-a033-4167-8af8-a9b135d6e6c7",
   "metadata": {
    "jupyter": {
     "source_hidden": true
    },
    "tags": []
   },
   "outputs": [],
   "source": [
    "aux=np.fromfile(dataset_path+classifier_name+\"/Common/TopNScoresId.bin\",dtype=np.uint32)"
   ]
  },
  {
   "cell_type": "code",
   "execution_count": 29,
   "id": "324a2c39-824d-48e8-bd5a-e93890030753",
   "metadata": {
    "collapsed": true,
    "jupyter": {
     "outputs_hidden": true,
     "source_hidden": true
    },
    "tags": []
   },
   "outputs": [
    {
     "data": {
      "text/plain": [
       "array([     0,      1,      2,      3,      4,      5,      6,      7,\n",
       "            8, 152290,      0,      1,      2,      3,      4,      5,\n",
       "            6,      7,      8, 152290], dtype=uint32)"
      ]
     },
     "execution_count": 29,
     "metadata": {},
     "output_type": "execute_result"
    }
   ],
   "source": [
    "aux[-20:]"
   ]
  },
  {
   "cell_type": "code",
   "execution_count": 9,
   "id": "42cb5db2-eac4-41b8-8eb2-2caee32ccc69",
   "metadata": {
    "collapsed": true,
    "jupyter": {
     "outputs_hidden": true,
     "source_hidden": true
    },
    "tags": []
   },
   "outputs": [
    {
     "data": {
      "text/plain": [
       "array([[     0,      1,      2, ...,      7,      8,      9],\n",
       "       [     0,      1,      2, ...,      7,      8,      9],\n",
       "       [     0,      1,      2, ...,      7,      8,      9],\n",
       "       ...,\n",
       "       [     0,      1,      2, ...,      7,      8, 152290],\n",
       "       [     0,      1,      2, ...,      7,      8, 152290],\n",
       "       [     0,      1,      2, ...,      7,      8, 152290]])"
      ]
     },
     "execution_count": 9,
     "metadata": {},
     "output_type": "execute_result"
    }
   ],
   "source": [
    "TopNScoresIdAux"
   ]
  },
  {
   "cell_type": "markdown",
   "id": "75b43f65-a264-4965-923c-248450b06219",
   "metadata": {},
   "source": [
    "# Generating Whatprot format datasets"
   ]
  },
  {
   "cell_type": "code",
   "execution_count": 2,
   "id": "33d4484d-116f-464a-bdd4-d7ccf01d0afd",
   "metadata": {
    "tags": []
   },
   "outputs": [],
   "source": [
    "whatprot_path= \"/../ext/whatprot/cc_code/bin/release/whatprot\"\n",
    "common_path_datasets= \"/raid/jkipen/ProtInfGPU/data/WhatprotGen/WholeProteomeTests/ProbeamPaperParams/\"\n",
    "dye_seqs_path=common_path_datasets + \"DyeSeqs.tsv\"\n",
    "params_path = common_path_datasets + \"seqparams_atto647n_x3.json\"\n",
    "n_samples_per_dataset=10000000; #5 Gb per dataset"
   ]
  },
  {
   "cell_type": "code",
   "execution_count": 19,
   "id": "852dc0d8-471d-41fb-9217-104d8b076185",
   "metadata": {
    "collapsed": true,
    "jupyter": {
     "outputs_hidden": true
    },
    "tags": []
   },
   "outputs": [
    {
     "name": "stdout",
     "output_type": "stream",
     "text": [
      "./../ext/whatprot/cc_code/bin/release/whatprot simulate rad -t 10 -g 10000000 -P /raid/jkipen/ProtInfGPU/data/WhatprotGen/WholeProteomeTests/ProbeamPaperParams/seqparams_atto647n_x3.json -S /raid/jkipen/ProtInfGPU/data/WhatprotGen/WholeProteomeTests/ProbeamPaperParams/DyeSeqs.tsv -R /raid/jkipen/ProtInfGPU/data/WhatprotGen/WholeProteomeTests/ProbeamPaperParams/MultiDatasets/radiometries_0.tsv -Y /raid/jkipen/ProtInfGPU/data/WhatprotGen/WholeProteomeTests/ProbeamPaperParams/MultiDatasets/true-ids_0.tsv\n",
      "Finished basic setup (9.97558e-05 seconds).\n",
      "Read 152291 dye seqs (0.111768 seconds).\n",
      "Finished generating 9497843 radiometries (66.2802seconds).\n",
      "Finished saving results (330.784 seconds).\n",
      "Total run time: 397.176 seconds.\n",
      "./../ext/whatprot/cc_code/bin/release/whatprot simulate rad -t 10 -g 10000000 -P /raid/jkipen/ProtInfGPU/data/WhatprotGen/WholeProteomeTests/ProbeamPaperParams/seqparams_atto647n_x3.json -S /raid/jkipen/ProtInfGPU/data/WhatprotGen/WholeProteomeTests/ProbeamPaperParams/DyeSeqs.tsv -R /raid/jkipen/ProtInfGPU/data/WhatprotGen/WholeProteomeTests/ProbeamPaperParams/MultiDatasets/radiometries_1.tsv -Y /raid/jkipen/ProtInfGPU/data/WhatprotGen/WholeProteomeTests/ProbeamPaperParams/MultiDatasets/true-ids_1.tsv\n",
      "Finished basic setup (0.000132449 seconds).\n",
      "Read 152291 dye seqs (0.138584 seconds).\n",
      "Finished generating 9497838 radiometries (66.5839seconds).\n",
      "Finished saving results (330.726 seconds).\n",
      "Total run time: 397.449 seconds.\n",
      "./../ext/whatprot/cc_code/bin/release/whatprot simulate rad -t 10 -g 10000000 -P /raid/jkipen/ProtInfGPU/data/WhatprotGen/WholeProteomeTests/ProbeamPaperParams/seqparams_atto647n_x3.json -S /raid/jkipen/ProtInfGPU/data/WhatprotGen/WholeProteomeTests/ProbeamPaperParams/DyeSeqs.tsv -R /raid/jkipen/ProtInfGPU/data/WhatprotGen/WholeProteomeTests/ProbeamPaperParams/MultiDatasets/radiometries_2.tsv -Y /raid/jkipen/ProtInfGPU/data/WhatprotGen/WholeProteomeTests/ProbeamPaperParams/MultiDatasets/true-ids_2.tsv\n",
      "Finished basic setup (0.000126652 seconds).\n",
      "Read 152291 dye seqs (0.11576 seconds).\n",
      "Finished generating 9497808 radiometries (66.168seconds).\n",
      "Finished saving results (333.438 seconds).\n",
      "Total run time: 399.722 seconds.\n",
      "./../ext/whatprot/cc_code/bin/release/whatprot simulate rad -t 10 -g 10000000 -P /raid/jkipen/ProtInfGPU/data/WhatprotGen/WholeProteomeTests/ProbeamPaperParams/seqparams_atto647n_x3.json -S /raid/jkipen/ProtInfGPU/data/WhatprotGen/WholeProteomeTests/ProbeamPaperParams/DyeSeqs.tsv -R /raid/jkipen/ProtInfGPU/data/WhatprotGen/WholeProteomeTests/ProbeamPaperParams/MultiDatasets/radiometries_3.tsv -Y /raid/jkipen/ProtInfGPU/data/WhatprotGen/WholeProteomeTests/ProbeamPaperParams/MultiDatasets/true-ids_3.tsv\n",
      "Finished basic setup (8.59573e-05 seconds).\n",
      "Read 152291 dye seqs (0.110381 seconds).\n",
      "Finished generating 9496988 radiometries (68.1897seconds).\n",
      "Finished saving results (335.769 seconds).\n",
      "Total run time: 404.07 seconds.\n",
      "./../ext/whatprot/cc_code/bin/release/whatprot simulate rad -t 10 -g 10000000 -P /raid/jkipen/ProtInfGPU/data/WhatprotGen/WholeProteomeTests/ProbeamPaperParams/seqparams_atto647n_x3.json -S /raid/jkipen/ProtInfGPU/data/WhatprotGen/WholeProteomeTests/ProbeamPaperParams/DyeSeqs.tsv -R /raid/jkipen/ProtInfGPU/data/WhatprotGen/WholeProteomeTests/ProbeamPaperParams/MultiDatasets/radiometries_4.tsv -Y /raid/jkipen/ProtInfGPU/data/WhatprotGen/WholeProteomeTests/ProbeamPaperParams/MultiDatasets/true-ids_4.tsv\n",
      "Finished basic setup (0.000121556 seconds).\n",
      "Read 152291 dye seqs (0.146808 seconds).\n",
      "Finished generating 9497927 radiometries (68.8407seconds).\n",
      "Finished saving results (342.704 seconds).\n",
      "Total run time: 411.692 seconds.\n",
      "./../ext/whatprot/cc_code/bin/release/whatprot simulate rad -t 10 -g 10000000 -P /raid/jkipen/ProtInfGPU/data/WhatprotGen/WholeProteomeTests/ProbeamPaperParams/seqparams_atto647n_x3.json -S /raid/jkipen/ProtInfGPU/data/WhatprotGen/WholeProteomeTests/ProbeamPaperParams/DyeSeqs.tsv -R /raid/jkipen/ProtInfGPU/data/WhatprotGen/WholeProteomeTests/ProbeamPaperParams/MultiDatasets/radiometries_5.tsv -Y /raid/jkipen/ProtInfGPU/data/WhatprotGen/WholeProteomeTests/ProbeamPaperParams/MultiDatasets/true-ids_5.tsv\n",
      "Finished basic setup (7.39247e-05 seconds).\n",
      "Read 152291 dye seqs (0.0913592 seconds).\n",
      "Finished generating 9497120 radiometries (66.112seconds).\n",
      "Finished saving results (327.231 seconds).\n",
      "Total run time: 393.434 seconds.\n",
      "./../ext/whatprot/cc_code/bin/release/whatprot simulate rad -t 10 -g 10000000 -P /raid/jkipen/ProtInfGPU/data/WhatprotGen/WholeProteomeTests/ProbeamPaperParams/seqparams_atto647n_x3.json -S /raid/jkipen/ProtInfGPU/data/WhatprotGen/WholeProteomeTests/ProbeamPaperParams/DyeSeqs.tsv -R /raid/jkipen/ProtInfGPU/data/WhatprotGen/WholeProteomeTests/ProbeamPaperParams/MultiDatasets/radiometries_6.tsv -Y /raid/jkipen/ProtInfGPU/data/WhatprotGen/WholeProteomeTests/ProbeamPaperParams/MultiDatasets/true-ids_6.tsv\n",
      "Finished basic setup (0.000137724 seconds).\n",
      "Read 152291 dye seqs (0.111988 seconds).\n",
      "Finished generating 9497077 radiometries (65.7681seconds).\n",
      "Finished saving results (326.336 seconds).\n",
      "Total run time: 392.217 seconds.\n",
      "./../ext/whatprot/cc_code/bin/release/whatprot simulate rad -t 10 -g 10000000 -P /raid/jkipen/ProtInfGPU/data/WhatprotGen/WholeProteomeTests/ProbeamPaperParams/seqparams_atto647n_x3.json -S /raid/jkipen/ProtInfGPU/data/WhatprotGen/WholeProteomeTests/ProbeamPaperParams/DyeSeqs.tsv -R /raid/jkipen/ProtInfGPU/data/WhatprotGen/WholeProteomeTests/ProbeamPaperParams/MultiDatasets/radiometries_7.tsv -Y /raid/jkipen/ProtInfGPU/data/WhatprotGen/WholeProteomeTests/ProbeamPaperParams/MultiDatasets/true-ids_7.tsv\n",
      "Finished basic setup (0.000152193 seconds).\n",
      "Read 152291 dye seqs (0.110223 seconds).\n",
      "Finished generating 9498225 radiometries (65.9265seconds).\n",
      "Finished saving results (328.77 seconds).\n",
      "Total run time: 394.807 seconds.\n",
      "./../ext/whatprot/cc_code/bin/release/whatprot simulate rad -t 10 -g 10000000 -P /raid/jkipen/ProtInfGPU/data/WhatprotGen/WholeProteomeTests/ProbeamPaperParams/seqparams_atto647n_x3.json -S /raid/jkipen/ProtInfGPU/data/WhatprotGen/WholeProteomeTests/ProbeamPaperParams/DyeSeqs.tsv -R /raid/jkipen/ProtInfGPU/data/WhatprotGen/WholeProteomeTests/ProbeamPaperParams/MultiDatasets/radiometries_8.tsv -Y /raid/jkipen/ProtInfGPU/data/WhatprotGen/WholeProteomeTests/ProbeamPaperParams/MultiDatasets/true-ids_8.tsv\n",
      "Finished basic setup (0.000139028 seconds).\n",
      "Read 152291 dye seqs (0.111293 seconds).\n",
      "Finished generating 9498174 radiometries (65.7668seconds).\n",
      "Finished saving results (326.842 seconds).\n",
      "Total run time: 392.72 seconds.\n",
      "./../ext/whatprot/cc_code/bin/release/whatprot simulate rad -t 10 -g 10000000 -P /raid/jkipen/ProtInfGPU/data/WhatprotGen/WholeProteomeTests/ProbeamPaperParams/seqparams_atto647n_x3.json -S /raid/jkipen/ProtInfGPU/data/WhatprotGen/WholeProteomeTests/ProbeamPaperParams/DyeSeqs.tsv -R /raid/jkipen/ProtInfGPU/data/WhatprotGen/WholeProteomeTests/ProbeamPaperParams/MultiDatasets/radiometries_9.tsv -Y /raid/jkipen/ProtInfGPU/data/WhatprotGen/WholeProteomeTests/ProbeamPaperParams/MultiDatasets/true-ids_9.tsv\n",
      "Finished basic setup (0.000140868 seconds).\n",
      "Read 152291 dye seqs (0.109285 seconds).\n",
      "Finished generating 9497103 radiometries (65.4961seconds).\n",
      "Finished saving results (327.954 seconds).\n",
      "Total run time: 393.56 seconds.\n"
     ]
    }
   ],
   "source": [
    "n_datasets=10;\n",
    "for i in range(n_datasets):\n",
    "    rad_path = common_path_datasets+ \"MultiDatasets/radiometries_\"+str(i)+\".tsv\";\n",
    "    true_ids_path = common_path_datasets+ \"MultiDatasets/true-ids_\"+str(i)+\".tsv\";\n",
    "    command = \".\" +whatprot_path + \" simulate rad -t 10 -g \"+str(n_samples_per_dataset) +\" -P \"+ params_path+\" -S \"+dye_seqs_path+\" -R \"+rad_path+\" -Y \"+true_ids_path;\n",
    "    print(command)\n",
    "    os.system(command)"
   ]
  },
  {
   "cell_type": "code",
   "execution_count": 20,
   "id": "3ab27a00-a032-45ad-8a1b-c970655b7948",
   "metadata": {
    "tags": []
   },
   "outputs": [],
   "source": [
    "all_true_ids=[]\n",
    "for i in range(10):\n",
    "    df = pd.read_csv(common_path_datasets+ \"MultiDatasets/true-ids_\"+str(i)+\".tsv\", sep=\"\\t\");\n",
    "    all_true_ids.append(df.to_numpy().flatten());"
   ]
  },
  {
   "cell_type": "code",
   "execution_count": 27,
   "id": "0a6f64b0-8ed5-4059-8bc6-daba44c7e8e7",
   "metadata": {
    "tags": []
   },
   "outputs": [
    {
     "name": "stdout",
     "output_type": "stream",
     "text": [
      "889\n",
      "390\n",
      "152291\n"
     ]
    }
   ],
   "source": [
    "#all_true_ids=np.concatenate(all_true_ids)\n",
    "u,counts=np.unique(all_true_ids,return_counts=True)\n",
    "print(np.max(counts))\n",
    "print(np.min(counts))\n",
    "print(len(u))"
   ]
  },
  {
   "cell_type": "markdown",
   "id": "7d40adae-d12b-4219-888c-5fe00fd2dd4e",
   "metadata": {
    "tags": []
   },
   "source": [
    "This means that with these datasets we can create an extra dataset with samples up to 390 of each dye seq!. Now lets get those datasets together and pick 100 of them!\n"
   ]
  },
  {
   "cell_type": "code",
   "execution_count": 14,
   "id": "fb1a1195-49bf-4bfc-b4af-d836d18568fc",
   "metadata": {},
   "outputs": [],
   "source": [
    "dfs = [] #Vibe coding\n",
    "for i in range(10):\n",
    "    dfr = pd.read_csv(common_path_datasets+ \"MultiDatasets/radiometries_\"+str(i)+\".tsv\", sep=\"\\t\", header=None, skiprows=3); #Skipping metadata rows\n",
    "    dft = pd.read_csv(common_path_datasets+ \"MultiDatasets/true-ids_\"+str(i)+\".tsv\", sep=\"\\t\", header=None, skiprows=1); #Skipping metadata rows\n",
    "    dfr['true_ids'] = dft[0]\n",
    "    dfs.append(dfr)\n",
    "    \n",
    "big_df = pd.concat(dfs, axis=0, ignore_index=True)\n",
    "result_df = big_df.groupby('true_ids', group_keys=False).apply(lambda group: group.head(100))"
   ]
  },
  {
   "cell_type": "code",
   "execution_count": 15,
   "id": "d02d112b-f02a-48fc-b984-ecbf9dcceac2",
   "metadata": {},
   "outputs": [
    {
     "ename": "KeyboardInterrupt",
     "evalue": "",
     "output_type": "error",
     "traceback": [
      "\u001b[0;31m---------------------------------------------------------------------------\u001b[0m",
      "\u001b[0;31mKeyboardInterrupt\u001b[0m                         Traceback (most recent call last)",
      "Cell \u001b[0;32mIn[15], line 1\u001b[0m\n\u001b[0;32m----> 1\u001b[0m \u001b[43mresult_df\u001b[49m\u001b[38;5;241;43m.\u001b[39;49m\u001b[43mto_csv\u001b[49m\u001b[43m(\u001b[49m\u001b[43mcommon_path_datasets\u001b[49m\u001b[38;5;241;43m+\u001b[39;49m\u001b[38;5;124;43m\"\u001b[39;49m\u001b[38;5;124;43maux.csv\u001b[39;49m\u001b[38;5;124;43m\"\u001b[39;49m\u001b[43m)\u001b[49m\n",
      "File \u001b[0;32m~/anaconda3/envs/browDataAug/lib/python3.8/site-packages/pandas/core/generic.py:3772\u001b[0m, in \u001b[0;36mNDFrame.to_csv\u001b[0;34m(self, path_or_buf, sep, na_rep, float_format, columns, header, index, index_label, mode, encoding, compression, quoting, quotechar, lineterminator, chunksize, date_format, doublequote, escapechar, decimal, errors, storage_options)\u001b[0m\n\u001b[1;32m   3761\u001b[0m df \u001b[38;5;241m=\u001b[39m \u001b[38;5;28mself\u001b[39m \u001b[38;5;28;01mif\u001b[39;00m \u001b[38;5;28misinstance\u001b[39m(\u001b[38;5;28mself\u001b[39m, ABCDataFrame) \u001b[38;5;28;01melse\u001b[39;00m \u001b[38;5;28mself\u001b[39m\u001b[38;5;241m.\u001b[39mto_frame()\n\u001b[1;32m   3763\u001b[0m formatter \u001b[38;5;241m=\u001b[39m DataFrameFormatter(\n\u001b[1;32m   3764\u001b[0m     frame\u001b[38;5;241m=\u001b[39mdf,\n\u001b[1;32m   3765\u001b[0m     header\u001b[38;5;241m=\u001b[39mheader,\n\u001b[0;32m   (...)\u001b[0m\n\u001b[1;32m   3769\u001b[0m     decimal\u001b[38;5;241m=\u001b[39mdecimal,\n\u001b[1;32m   3770\u001b[0m )\n\u001b[0;32m-> 3772\u001b[0m \u001b[38;5;28;01mreturn\u001b[39;00m \u001b[43mDataFrameRenderer\u001b[49m\u001b[43m(\u001b[49m\u001b[43mformatter\u001b[49m\u001b[43m)\u001b[49m\u001b[38;5;241;43m.\u001b[39;49m\u001b[43mto_csv\u001b[49m\u001b[43m(\u001b[49m\n\u001b[1;32m   3773\u001b[0m \u001b[43m    \u001b[49m\u001b[43mpath_or_buf\u001b[49m\u001b[43m,\u001b[49m\n\u001b[1;32m   3774\u001b[0m \u001b[43m    \u001b[49m\u001b[43mlineterminator\u001b[49m\u001b[38;5;241;43m=\u001b[39;49m\u001b[43mlineterminator\u001b[49m\u001b[43m,\u001b[49m\n\u001b[1;32m   3775\u001b[0m \u001b[43m    \u001b[49m\u001b[43msep\u001b[49m\u001b[38;5;241;43m=\u001b[39;49m\u001b[43msep\u001b[49m\u001b[43m,\u001b[49m\n\u001b[1;32m   3776\u001b[0m \u001b[43m    \u001b[49m\u001b[43mencoding\u001b[49m\u001b[38;5;241;43m=\u001b[39;49m\u001b[43mencoding\u001b[49m\u001b[43m,\u001b[49m\n\u001b[1;32m   3777\u001b[0m \u001b[43m    \u001b[49m\u001b[43merrors\u001b[49m\u001b[38;5;241;43m=\u001b[39;49m\u001b[43merrors\u001b[49m\u001b[43m,\u001b[49m\n\u001b[1;32m   3778\u001b[0m \u001b[43m    \u001b[49m\u001b[43mcompression\u001b[49m\u001b[38;5;241;43m=\u001b[39;49m\u001b[43mcompression\u001b[49m\u001b[43m,\u001b[49m\n\u001b[1;32m   3779\u001b[0m \u001b[43m    \u001b[49m\u001b[43mquoting\u001b[49m\u001b[38;5;241;43m=\u001b[39;49m\u001b[43mquoting\u001b[49m\u001b[43m,\u001b[49m\n\u001b[1;32m   3780\u001b[0m \u001b[43m    \u001b[49m\u001b[43mcolumns\u001b[49m\u001b[38;5;241;43m=\u001b[39;49m\u001b[43mcolumns\u001b[49m\u001b[43m,\u001b[49m\n\u001b[1;32m   3781\u001b[0m \u001b[43m    \u001b[49m\u001b[43mindex_label\u001b[49m\u001b[38;5;241;43m=\u001b[39;49m\u001b[43mindex_label\u001b[49m\u001b[43m,\u001b[49m\n\u001b[1;32m   3782\u001b[0m \u001b[43m    \u001b[49m\u001b[43mmode\u001b[49m\u001b[38;5;241;43m=\u001b[39;49m\u001b[43mmode\u001b[49m\u001b[43m,\u001b[49m\n\u001b[1;32m   3783\u001b[0m \u001b[43m    \u001b[49m\u001b[43mchunksize\u001b[49m\u001b[38;5;241;43m=\u001b[39;49m\u001b[43mchunksize\u001b[49m\u001b[43m,\u001b[49m\n\u001b[1;32m   3784\u001b[0m \u001b[43m    \u001b[49m\u001b[43mquotechar\u001b[49m\u001b[38;5;241;43m=\u001b[39;49m\u001b[43mquotechar\u001b[49m\u001b[43m,\u001b[49m\n\u001b[1;32m   3785\u001b[0m \u001b[43m    \u001b[49m\u001b[43mdate_format\u001b[49m\u001b[38;5;241;43m=\u001b[39;49m\u001b[43mdate_format\u001b[49m\u001b[43m,\u001b[49m\n\u001b[1;32m   3786\u001b[0m \u001b[43m    \u001b[49m\u001b[43mdoublequote\u001b[49m\u001b[38;5;241;43m=\u001b[39;49m\u001b[43mdoublequote\u001b[49m\u001b[43m,\u001b[49m\n\u001b[1;32m   3787\u001b[0m \u001b[43m    \u001b[49m\u001b[43mescapechar\u001b[49m\u001b[38;5;241;43m=\u001b[39;49m\u001b[43mescapechar\u001b[49m\u001b[43m,\u001b[49m\n\u001b[1;32m   3788\u001b[0m \u001b[43m    \u001b[49m\u001b[43mstorage_options\u001b[49m\u001b[38;5;241;43m=\u001b[39;49m\u001b[43mstorage_options\u001b[49m\u001b[43m,\u001b[49m\n\u001b[1;32m   3789\u001b[0m \u001b[43m\u001b[49m\u001b[43m)\u001b[49m\n",
      "File \u001b[0;32m~/anaconda3/envs/browDataAug/lib/python3.8/site-packages/pandas/io/formats/format.py:1186\u001b[0m, in \u001b[0;36mDataFrameRenderer.to_csv\u001b[0;34m(self, path_or_buf, encoding, sep, columns, index_label, mode, compression, quoting, quotechar, lineterminator, chunksize, date_format, doublequote, escapechar, errors, storage_options)\u001b[0m\n\u001b[1;32m   1165\u001b[0m     created_buffer \u001b[38;5;241m=\u001b[39m \u001b[38;5;28;01mFalse\u001b[39;00m\n\u001b[1;32m   1167\u001b[0m csv_formatter \u001b[38;5;241m=\u001b[39m CSVFormatter(\n\u001b[1;32m   1168\u001b[0m     path_or_buf\u001b[38;5;241m=\u001b[39mpath_or_buf,\n\u001b[1;32m   1169\u001b[0m     lineterminator\u001b[38;5;241m=\u001b[39mlineterminator,\n\u001b[0;32m   (...)\u001b[0m\n\u001b[1;32m   1184\u001b[0m     formatter\u001b[38;5;241m=\u001b[39m\u001b[38;5;28mself\u001b[39m\u001b[38;5;241m.\u001b[39mfmt,\n\u001b[1;32m   1185\u001b[0m )\n\u001b[0;32m-> 1186\u001b[0m \u001b[43mcsv_formatter\u001b[49m\u001b[38;5;241;43m.\u001b[39;49m\u001b[43msave\u001b[49m\u001b[43m(\u001b[49m\u001b[43m)\u001b[49m\n\u001b[1;32m   1188\u001b[0m \u001b[38;5;28;01mif\u001b[39;00m created_buffer:\n\u001b[1;32m   1189\u001b[0m     \u001b[38;5;28;01massert\u001b[39;00m \u001b[38;5;28misinstance\u001b[39m(path_or_buf, StringIO)\n",
      "File \u001b[0;32m~/anaconda3/envs/browDataAug/lib/python3.8/site-packages/pandas/io/formats/csvs.py:259\u001b[0m, in \u001b[0;36mCSVFormatter.save\u001b[0;34m(self)\u001b[0m\n\u001b[1;32m    240\u001b[0m \u001b[38;5;28;01mwith\u001b[39;00m get_handle(\n\u001b[1;32m    241\u001b[0m     \u001b[38;5;28mself\u001b[39m\u001b[38;5;241m.\u001b[39mfilepath_or_buffer,\n\u001b[1;32m    242\u001b[0m     \u001b[38;5;28mself\u001b[39m\u001b[38;5;241m.\u001b[39mmode,\n\u001b[0;32m   (...)\u001b[0m\n\u001b[1;32m    247\u001b[0m ) \u001b[38;5;28;01mas\u001b[39;00m handles:\n\u001b[1;32m    248\u001b[0m     \u001b[38;5;66;03m# Note: self.encoding is irrelevant here\u001b[39;00m\n\u001b[1;32m    249\u001b[0m     \u001b[38;5;28mself\u001b[39m\u001b[38;5;241m.\u001b[39mwriter \u001b[38;5;241m=\u001b[39m csvlib\u001b[38;5;241m.\u001b[39mwriter(\n\u001b[1;32m    250\u001b[0m         handles\u001b[38;5;241m.\u001b[39mhandle,\n\u001b[1;32m    251\u001b[0m         lineterminator\u001b[38;5;241m=\u001b[39m\u001b[38;5;28mself\u001b[39m\u001b[38;5;241m.\u001b[39mlineterminator,\n\u001b[0;32m   (...)\u001b[0m\n\u001b[1;32m    256\u001b[0m         quotechar\u001b[38;5;241m=\u001b[39m\u001b[38;5;28mself\u001b[39m\u001b[38;5;241m.\u001b[39mquotechar,\n\u001b[1;32m    257\u001b[0m     )\n\u001b[0;32m--> 259\u001b[0m     \u001b[38;5;28;43mself\u001b[39;49m\u001b[38;5;241;43m.\u001b[39;49m\u001b[43m_save\u001b[49m\u001b[43m(\u001b[49m\u001b[43m)\u001b[49m\n",
      "File \u001b[0;32m~/anaconda3/envs/browDataAug/lib/python3.8/site-packages/pandas/io/formats/csvs.py:264\u001b[0m, in \u001b[0;36mCSVFormatter._save\u001b[0;34m(self)\u001b[0m\n\u001b[1;32m    262\u001b[0m \u001b[38;5;28;01mif\u001b[39;00m \u001b[38;5;28mself\u001b[39m\u001b[38;5;241m.\u001b[39m_need_to_save_header:\n\u001b[1;32m    263\u001b[0m     \u001b[38;5;28mself\u001b[39m\u001b[38;5;241m.\u001b[39m_save_header()\n\u001b[0;32m--> 264\u001b[0m \u001b[38;5;28;43mself\u001b[39;49m\u001b[38;5;241;43m.\u001b[39;49m\u001b[43m_save_body\u001b[49m\u001b[43m(\u001b[49m\u001b[43m)\u001b[49m\n",
      "File \u001b[0;32m~/anaconda3/envs/browDataAug/lib/python3.8/site-packages/pandas/io/formats/csvs.py:302\u001b[0m, in \u001b[0;36mCSVFormatter._save_body\u001b[0;34m(self)\u001b[0m\n\u001b[1;32m    300\u001b[0m \u001b[38;5;28;01mif\u001b[39;00m start_i \u001b[38;5;241m>\u001b[39m\u001b[38;5;241m=\u001b[39m end_i:\n\u001b[1;32m    301\u001b[0m     \u001b[38;5;28;01mbreak\u001b[39;00m\n\u001b[0;32m--> 302\u001b[0m \u001b[38;5;28;43mself\u001b[39;49m\u001b[38;5;241;43m.\u001b[39;49m\u001b[43m_save_chunk\u001b[49m\u001b[43m(\u001b[49m\u001b[43mstart_i\u001b[49m\u001b[43m,\u001b[49m\u001b[43m \u001b[49m\u001b[43mend_i\u001b[49m\u001b[43m)\u001b[49m\n",
      "File \u001b[0;32m~/anaconda3/envs/browDataAug/lib/python3.8/site-packages/pandas/io/formats/csvs.py:309\u001b[0m, in \u001b[0;36mCSVFormatter._save_chunk\u001b[0;34m(self, start_i, end_i)\u001b[0m\n\u001b[1;32m    306\u001b[0m slicer \u001b[38;5;241m=\u001b[39m \u001b[38;5;28mslice\u001b[39m(start_i, end_i)\n\u001b[1;32m    307\u001b[0m df \u001b[38;5;241m=\u001b[39m \u001b[38;5;28mself\u001b[39m\u001b[38;5;241m.\u001b[39mobj\u001b[38;5;241m.\u001b[39miloc[slicer]\n\u001b[0;32m--> 309\u001b[0m res \u001b[38;5;241m=\u001b[39m \u001b[43mdf\u001b[49m\u001b[38;5;241;43m.\u001b[39;49m\u001b[43m_mgr\u001b[49m\u001b[38;5;241;43m.\u001b[39;49m\u001b[43mto_native_types\u001b[49m\u001b[43m(\u001b[49m\u001b[38;5;241;43m*\u001b[39;49m\u001b[38;5;241;43m*\u001b[39;49m\u001b[38;5;28;43mself\u001b[39;49m\u001b[38;5;241;43m.\u001b[39;49m\u001b[43m_number_format\u001b[49m\u001b[43m)\u001b[49m\n\u001b[1;32m    310\u001b[0m data \u001b[38;5;241m=\u001b[39m [res\u001b[38;5;241m.\u001b[39miget_values(i) \u001b[38;5;28;01mfor\u001b[39;00m i \u001b[38;5;129;01min\u001b[39;00m \u001b[38;5;28mrange\u001b[39m(\u001b[38;5;28mlen\u001b[39m(res\u001b[38;5;241m.\u001b[39mitems))]\n\u001b[1;32m    312\u001b[0m ix \u001b[38;5;241m=\u001b[39m \u001b[38;5;28mself\u001b[39m\u001b[38;5;241m.\u001b[39mdata_index[slicer]\u001b[38;5;241m.\u001b[39m_format_native_types(\u001b[38;5;241m*\u001b[39m\u001b[38;5;241m*\u001b[39m\u001b[38;5;28mself\u001b[39m\u001b[38;5;241m.\u001b[39m_number_format)\n",
      "File \u001b[0;32m~/anaconda3/envs/browDataAug/lib/python3.8/site-packages/pandas/core/internals/managers.py:512\u001b[0m, in \u001b[0;36mBaseBlockManager.to_native_types\u001b[0;34m(self, **kwargs)\u001b[0m\n\u001b[1;32m    507\u001b[0m \u001b[38;5;28;01mdef\u001b[39;00m \u001b[38;5;21mto_native_types\u001b[39m(\u001b[38;5;28mself\u001b[39m: T, \u001b[38;5;241m*\u001b[39m\u001b[38;5;241m*\u001b[39mkwargs) \u001b[38;5;241m-\u001b[39m\u001b[38;5;241m>\u001b[39m T:\n\u001b[1;32m    508\u001b[0m \u001b[38;5;250m    \u001b[39m\u001b[38;5;124;03m\"\"\"\u001b[39;00m\n\u001b[1;32m    509\u001b[0m \u001b[38;5;124;03m    Convert values to native types (strings / python objects) that are used\u001b[39;00m\n\u001b[1;32m    510\u001b[0m \u001b[38;5;124;03m    in formatting (repr / csv).\u001b[39;00m\n\u001b[1;32m    511\u001b[0m \u001b[38;5;124;03m    \"\"\"\u001b[39;00m\n\u001b[0;32m--> 512\u001b[0m     \u001b[38;5;28;01mreturn\u001b[39;00m \u001b[38;5;28;43mself\u001b[39;49m\u001b[38;5;241;43m.\u001b[39;49m\u001b[43mapply\u001b[49m\u001b[43m(\u001b[49m\u001b[38;5;124;43m\"\u001b[39;49m\u001b[38;5;124;43mto_native_types\u001b[39;49m\u001b[38;5;124;43m\"\u001b[39;49m\u001b[43m,\u001b[49m\u001b[43m \u001b[49m\u001b[38;5;241;43m*\u001b[39;49m\u001b[38;5;241;43m*\u001b[39;49m\u001b[43mkwargs\u001b[49m\u001b[43m)\u001b[49m\n",
      "File \u001b[0;32m~/anaconda3/envs/browDataAug/lib/python3.8/site-packages/pandas/core/internals/managers.py:352\u001b[0m, in \u001b[0;36mBaseBlockManager.apply\u001b[0;34m(self, f, align_keys, **kwargs)\u001b[0m\n\u001b[1;32m    350\u001b[0m         applied \u001b[38;5;241m=\u001b[39m b\u001b[38;5;241m.\u001b[39mapply(f, \u001b[38;5;241m*\u001b[39m\u001b[38;5;241m*\u001b[39mkwargs)\n\u001b[1;32m    351\u001b[0m     \u001b[38;5;28;01melse\u001b[39;00m:\n\u001b[0;32m--> 352\u001b[0m         applied \u001b[38;5;241m=\u001b[39m \u001b[38;5;28;43mgetattr\u001b[39;49m\u001b[43m(\u001b[49m\u001b[43mb\u001b[49m\u001b[43m,\u001b[49m\u001b[43m \u001b[49m\u001b[43mf\u001b[49m\u001b[43m)\u001b[49m\u001b[43m(\u001b[49m\u001b[38;5;241;43m*\u001b[39;49m\u001b[38;5;241;43m*\u001b[39;49m\u001b[43mkwargs\u001b[49m\u001b[43m)\u001b[49m\n\u001b[1;32m    353\u001b[0m     result_blocks \u001b[38;5;241m=\u001b[39m extend_blocks(applied, result_blocks)\n\u001b[1;32m    355\u001b[0m out \u001b[38;5;241m=\u001b[39m \u001b[38;5;28mtype\u001b[39m(\u001b[38;5;28mself\u001b[39m)\u001b[38;5;241m.\u001b[39mfrom_blocks(result_blocks, \u001b[38;5;28mself\u001b[39m\u001b[38;5;241m.\u001b[39maxes)\n",
      "File \u001b[0;32m~/anaconda3/envs/browDataAug/lib/python3.8/site-packages/pandas/core/internals/blocks.py:531\u001b[0m, in \u001b[0;36mBlock.to_native_types\u001b[0;34m(self, na_rep, quoting, **kwargs)\u001b[0m\n\u001b[1;32m    528\u001b[0m \u001b[38;5;129m@final\u001b[39m\n\u001b[1;32m    529\u001b[0m \u001b[38;5;28;01mdef\u001b[39;00m \u001b[38;5;21mto_native_types\u001b[39m(\u001b[38;5;28mself\u001b[39m, na_rep: \u001b[38;5;28mstr\u001b[39m \u001b[38;5;241m=\u001b[39m \u001b[38;5;124m\"\u001b[39m\u001b[38;5;124mnan\u001b[39m\u001b[38;5;124m\"\u001b[39m, quoting\u001b[38;5;241m=\u001b[39m\u001b[38;5;28;01mNone\u001b[39;00m, \u001b[38;5;241m*\u001b[39m\u001b[38;5;241m*\u001b[39mkwargs) \u001b[38;5;241m-\u001b[39m\u001b[38;5;241m>\u001b[39m Block:\n\u001b[1;32m    530\u001b[0m \u001b[38;5;250m    \u001b[39m\u001b[38;5;124;03m\"\"\"convert to our native types format\"\"\"\u001b[39;00m\n\u001b[0;32m--> 531\u001b[0m     result \u001b[38;5;241m=\u001b[39m \u001b[43mto_native_types\u001b[49m\u001b[43m(\u001b[49m\u001b[38;5;28;43mself\u001b[39;49m\u001b[38;5;241;43m.\u001b[39;49m\u001b[43mvalues\u001b[49m\u001b[43m,\u001b[49m\u001b[43m \u001b[49m\u001b[43mna_rep\u001b[49m\u001b[38;5;241;43m=\u001b[39;49m\u001b[43mna_rep\u001b[49m\u001b[43m,\u001b[49m\u001b[43m \u001b[49m\u001b[43mquoting\u001b[49m\u001b[38;5;241;43m=\u001b[39;49m\u001b[43mquoting\u001b[49m\u001b[43m,\u001b[49m\u001b[43m \u001b[49m\u001b[38;5;241;43m*\u001b[39;49m\u001b[38;5;241;43m*\u001b[39;49m\u001b[43mkwargs\u001b[49m\u001b[43m)\u001b[49m\n\u001b[1;32m    532\u001b[0m     \u001b[38;5;28;01mreturn\u001b[39;00m \u001b[38;5;28mself\u001b[39m\u001b[38;5;241m.\u001b[39mmake_block(result)\n",
      "File \u001b[0;32m~/anaconda3/envs/browDataAug/lib/python3.8/site-packages/pandas/core/internals/blocks.py:2538\u001b[0m, in \u001b[0;36mto_native_types\u001b[0;34m(values, na_rep, quoting, float_format, decimal, **kwargs)\u001b[0m\n\u001b[1;32m   2535\u001b[0m mask \u001b[38;5;241m=\u001b[39m isna(values)\n\u001b[1;32m   2537\u001b[0m \u001b[38;5;28;01mif\u001b[39;00m \u001b[38;5;129;01mnot\u001b[39;00m quoting:\n\u001b[0;32m-> 2538\u001b[0m     values \u001b[38;5;241m=\u001b[39m \u001b[43mvalues\u001b[49m\u001b[38;5;241;43m.\u001b[39;49m\u001b[43mastype\u001b[49m\u001b[43m(\u001b[49m\u001b[38;5;28;43mstr\u001b[39;49m\u001b[43m)\u001b[49m\n\u001b[1;32m   2539\u001b[0m \u001b[38;5;28;01melse\u001b[39;00m:\n\u001b[1;32m   2540\u001b[0m     values \u001b[38;5;241m=\u001b[39m np\u001b[38;5;241m.\u001b[39marray(values, dtype\u001b[38;5;241m=\u001b[39m\u001b[38;5;124m\"\u001b[39m\u001b[38;5;124mobject\u001b[39m\u001b[38;5;124m\"\u001b[39m)\n",
      "\u001b[0;31mKeyboardInterrupt\u001b[0m: "
     ]
    }
   ],
   "source": [
    "result_df.to_csv(common_path_datasets+\"aux.csv\")"
   ]
  },
  {
   "cell_type": "code",
   "execution_count": 18,
   "id": "2ad4cc94-a2c4-431c-b681-a33ad757d348",
   "metadata": {
    "tags": []
   },
   "outputs": [],
   "source": [
    "# Parameters for the header of the output file\n",
    "#Vibe oding\n",
    "radiometries_df = result_df.drop(columns=['true_ids'])\n",
    "true_ids_series = result_df['true_ids']\n",
    "\n",
    "# Get the number of reads (rows) from the filtered data\n",
    "num_reads = len(result_df)\n",
    "\n",
    "# Save the final radiometries file with custom header\n",
    "num_timesteps = 10   # Given constant: number of timesteps\n",
    "num_channels = 3     # Given constant: number of channels\n",
    "\n",
    "\n",
    "\n",
    "# Save the final true IDs file with custom header (only number of reads)\n",
    "true_ids_output_file = common_path_datasets+\"true-ids.tsv\"\n",
    "with open(true_ids_output_file, \"w\") as f:\n",
    "    f.write(f\"{num_reads}\\n\")\n",
    "    true_ids_series.to_csv(f, sep=\"\\t\", index=False, header=False)\n"
   ]
  },
  {
   "cell_type": "code",
   "execution_count": 19,
   "id": "580547a3-f857-4283-9548-4c9d2a67a3c8",
   "metadata": {
    "tags": []
   },
   "outputs": [],
   "source": [
    "radiometries_output_file = common_path_datasets+\"radiometries.tsv\"\n",
    "with open(radiometries_output_file, \"w\") as f:\n",
    "    f.write(f\"{num_timesteps}\\n\")\n",
    "    f.write(f\"{num_channels}\\n\")\n",
    "    f.write(f\"{num_reads}\\n\")\n",
    "    radiometries_df.to_csv(f, sep=\"\\t\", index=False, header=False)"
   ]
  }
 ],
 "metadata": {
  "kernelspec": {
   "display_name": "Python 3 (ipykernel)",
   "language": "python",
   "name": "python3"
  },
  "language_info": {
   "codemirror_mode": {
    "name": "ipython",
    "version": 3
   },
   "file_extension": ".py",
   "mimetype": "text/x-python",
   "name": "python",
   "nbconvert_exporter": "python",
   "pygments_lexer": "ipython3",
   "version": "3.8.17"
  }
 },
 "nbformat": 4,
 "nbformat_minor": 5
}
