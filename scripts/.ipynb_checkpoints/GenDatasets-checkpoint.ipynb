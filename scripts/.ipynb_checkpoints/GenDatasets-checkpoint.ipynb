{
 "cells": [
  {
   "cell_type": "code",
   "execution_count": 44,
   "id": "447a5451-532d-4497-a3d6-28a1da6b0bdd",
   "metadata": {
    "tags": []
   },
   "outputs": [],
   "source": [
    "import numpy as np\n",
    "import pandas as pd\n",
    "import os\n",
    "import shutil\n",
    "import matplotlib.pyplot as plt"
   ]
  },
  {
   "cell_type": "markdown",
   "id": "95cf4afc-690e-47c4-8ad2-d5031e873cc7",
   "metadata": {},
   "source": [
    "# Test EM with sparsity\n",
    "\n",
    "In this part we generate a fake classifier that gets oracle results but outputs a 1000 sparsity signal. We will use it with the algorithm to check that our code works correctly."
   ]
  },
  {
   "cell_type": "code",
   "execution_count": 2,
   "id": "dd6ab0a4-0b88-43e1-a608-914059731eed",
   "metadata": {
    "jupyter": {
     "source_hidden": true
    },
    "tags": []
   },
   "outputs": [],
   "source": [
    "dataset_path=\"/home/jkipen/raid_storage/ProtInfGPU/data/20642_Prot/binary/\";\n",
    "classifier_name=\"SparsityTest\";"
   ]
  },
  {
   "cell_type": "code",
   "execution_count": 3,
   "id": "c957d32e-44e1-44ff-93bf-fd66d38cff0e",
   "metadata": {
    "jupyter": {
     "source_hidden": true
    },
    "tags": []
   },
   "outputs": [],
   "source": [
    "#Some functions to simplify \n",
    "def create_folder(folder_path):\n",
    "    if not os.path.exists(folder_path):  \n",
    "        os.makedirs(folder_path)\n",
    "def create_classifier_folders(ds_path,classifier_name):\n",
    "    classifier_path=ds_path+\"/\"+classifier_name;\n",
    "    create_folder(classifier_path);\n",
    "    create_folder(classifier_path+\"/CrossVal\"); #Create subfolders\n",
    "    create_folder(classifier_path+\"/Common\");\n",
    "def copy_all_files(src_folder, dst_folder):\n",
    "    \"\"\"Copies all files from src_folder to dst_folder, creating dst_folder if it doesn't exist.\"\"\"\n",
    "    #os.makedirs(dst_folder, exist_ok=True)  # Ensure the destination folder exists\n",
    "    for file_name in os.listdir(src_folder):\n",
    "        src_file = os.path.join(src_folder, file_name)\n",
    "        dst_file = os.path.join(dst_folder, file_name)\n",
    "        if os.path.isfile(src_file):  # Ensure it's a file before copying\n",
    "            shutil.copy2(src_file, dst_file)\n",
    "def copy_oracle_info_to_classifier(ds_path,classifier_name):\n",
    "    #copy_all_files(os.path.join(ds_path, \"Oracle\", \"Common\"),\n",
    "    #               os.path.join(ds_path, classifier_name, \"Common\"))\n",
    "    copy_all_files(os.path.join(ds_path, \"Oracle\", \"CrossVal\"),\n",
    "                   os.path.join(ds_path, classifier_name, \"Crossval\"));\n",
    "    "
   ]
  },
  {
   "cell_type": "code",
   "execution_count": 13,
   "id": "4701d30b-bc9a-4240-a0ad-595eb4386a8e",
   "metadata": {
    "jupyter": {
     "source_hidden": true
    },
    "tags": []
   },
   "outputs": [],
   "source": [
    "create_classifier_folders(dataset_path,classifier_name);\n",
    "copy_oracle_info_to_classifier(dataset_path,classifier_name);"
   ]
  },
  {
   "cell_type": "code",
   "execution_count": 6,
   "id": "aebbd226-3386-4c01-ae2b-9b0413340395",
   "metadata": {
    "collapsed": true,
    "jupyter": {
     "outputs_hidden": true,
     "source_hidden": true
    },
    "tags": []
   },
   "outputs": [
    {
     "data": {
      "text/plain": [
       "array([     0,      0,      0, ..., 152290, 152290, 152290], dtype=uint32)"
      ]
     },
     "execution_count": 6,
     "metadata": {},
     "output_type": "execute_result"
    }
   ],
   "source": [
    "trueIds=np.fromfile(dataset_path+\"Common/trueIds.bin\",dtype=np.uint32)\n",
    "trueIds"
   ]
  },
  {
   "cell_type": "code",
   "execution_count": 7,
   "id": "a63bcf08-8656-46ac-b290-b1a83dd0b4c2",
   "metadata": {
    "jupyter": {
     "source_hidden": true
    },
    "tags": []
   },
   "outputs": [],
   "source": [
    "nSparsity=10;\n",
    "TopNScoresAux=np.zeros((len(trueIds),nSparsity),dtype=np.float32);\n",
    "TopNScoresIdAux=np.zeros((len(trueIds),nSparsity),dtype=np.uint32);"
   ]
  },
  {
   "cell_type": "code",
   "execution_count": 8,
   "id": "acdb9a19-58f4-4773-abfc-fd497eb2806f",
   "metadata": {
    "jupyter": {
     "source_hidden": true
    },
    "tags": []
   },
   "outputs": [],
   "source": [
    "TopNScoresIdAux[:,0]=trueIds; #These top scores dont have other idxs for sparsity values and are not ordered\n",
    "TopNScoresAux[:,0]=1;\n",
    "auxMat=np.tile(np.arange(nSparsity), (len(trueIds), 1));\n",
    "TopNScoresIdAux= (trueIds.reshape(-1, 1)+auxMat)%(np.max(trueIds)+1) # here we create\n",
    "sort_indices = np.argsort(TopNScoresIdAux, axis=1)\n",
    "rows = np.arange(TopNScoresIdAux.shape[0])[:, None]  # Row indices for broadcasting\n",
    "TopNScoresAux[:] = TopNScoresAux[rows, sort_indices]\n",
    "TopNScoresIdAux[:] = TopNScoresIdAux[rows, sort_indices]"
   ]
  },
  {
   "cell_type": "code",
   "execution_count": 13,
   "id": "ae53b0e7-db83-4120-bc31-c0c78c2970c2",
   "metadata": {
    "jupyter": {
     "source_hidden": true
    },
    "tags": []
   },
   "outputs": [],
   "source": [
    "TopNScoresAuxF=TopNScoresAux.flatten();\n",
    "TopNScoresIdAuxF=TopNScoresIdAux.flatten();"
   ]
  },
  {
   "cell_type": "code",
   "execution_count": 24,
   "id": "88af304b-b0eb-42b3-b935-72c0f01d9b7f",
   "metadata": {
    "jupyter": {
     "source_hidden": true
    },
    "tags": []
   },
   "outputs": [],
   "source": [
    "TopNScoresAuxF.astype(np.float32).tofile(dataset_path+classifier_name+\"/Common/TopNScores.bin\")\n",
    "TopNScoresIdAuxF.astype(np.uint32).tofile(dataset_path+classifier_name+\"/Common/TopNScoresId.bin\")"
   ]
  },
  {
   "cell_type": "code",
   "execution_count": 49,
   "id": "3d3de362-9a0d-4161-8a79-269b4675619c",
   "metadata": {
    "jupyter": {
     "source_hidden": true
    },
    "tags": []
   },
   "outputs": [],
   "source": [
    "nSpar=np.array([10],dtype=np.uint32 )\n",
    "nSpar.tofile(dataset_path+classifier_name+\"/Common/nSparsity.bin\")"
   ]
  },
  {
   "cell_type": "code",
   "execution_count": 28,
   "id": "a5f7b996-02bd-4448-8a4d-d724af2f42f6",
   "metadata": {
    "collapsed": true,
    "jupyter": {
     "outputs_hidden": true,
     "source_hidden": true
    },
    "tags": []
   },
   "outputs": [
    {
     "data": {
      "text/plain": [
       "array([     0,      1,      2,      3,      4,      5,      6,      7,\n",
       "            8, 152290,      0,      1,      2,      3,      4,      5,\n",
       "            6,      7,      8, 152290])"
      ]
     },
     "execution_count": 28,
     "metadata": {},
     "output_type": "execute_result"
    }
   ],
   "source": [
    "TopNScoresIdAuxF[-20:]\n",
    "#TopNScoresIdAux[152289000,:]"
   ]
  },
  {
   "cell_type": "code",
   "execution_count": 26,
   "id": "087ee530-a033-4167-8af8-a9b135d6e6c7",
   "metadata": {
    "jupyter": {
     "source_hidden": true
    },
    "tags": []
   },
   "outputs": [],
   "source": [
    "aux=np.fromfile(dataset_path+classifier_name+\"/Common/TopNScoresId.bin\",dtype=np.uint32)"
   ]
  },
  {
   "cell_type": "code",
   "execution_count": 29,
   "id": "324a2c39-824d-48e8-bd5a-e93890030753",
   "metadata": {
    "collapsed": true,
    "jupyter": {
     "outputs_hidden": true,
     "source_hidden": true
    },
    "tags": []
   },
   "outputs": [
    {
     "data": {
      "text/plain": [
       "array([     0,      1,      2,      3,      4,      5,      6,      7,\n",
       "            8, 152290,      0,      1,      2,      3,      4,      5,\n",
       "            6,      7,      8, 152290], dtype=uint32)"
      ]
     },
     "execution_count": 29,
     "metadata": {},
     "output_type": "execute_result"
    }
   ],
   "source": [
    "aux[-20:]"
   ]
  },
  {
   "cell_type": "code",
   "execution_count": 9,
   "id": "42cb5db2-eac4-41b8-8eb2-2caee32ccc69",
   "metadata": {
    "collapsed": true,
    "jupyter": {
     "outputs_hidden": true,
     "source_hidden": true
    },
    "tags": []
   },
   "outputs": [
    {
     "data": {
      "text/plain": [
       "array([[     0,      1,      2, ...,      7,      8,      9],\n",
       "       [     0,      1,      2, ...,      7,      8,      9],\n",
       "       [     0,      1,      2, ...,      7,      8,      9],\n",
       "       ...,\n",
       "       [     0,      1,      2, ...,      7,      8, 152290],\n",
       "       [     0,      1,      2, ...,      7,      8, 152290],\n",
       "       [     0,      1,      2, ...,      7,      8, 152290]])"
      ]
     },
     "execution_count": 9,
     "metadata": {},
     "output_type": "execute_result"
    }
   ],
   "source": [
    "TopNScoresIdAux"
   ]
  },
  {
   "cell_type": "markdown",
   "id": "75b43f65-a264-4965-923c-248450b06219",
   "metadata": {},
   "source": [
    "# Generating Whatprot format datasets"
   ]
  },
  {
   "cell_type": "code",
   "execution_count": 15,
   "id": "33d4484d-116f-464a-bdd4-d7ccf01d0afd",
   "metadata": {
    "tags": []
   },
   "outputs": [],
   "source": [
    "whatprot_path= \"/../ext/whatprot/cc_code/bin/release/whatprot\"\n",
    "common_path_datasets= \"/raid/jkipen/ProtInfGPU/data/WhatprotGen/WholeProteomeTests/ProbeamPaperParams/\"\n",
    "dye_seqs_path=common_path_datasets + \"dye-seqs.tsv\"\n",
    "params_path = common_path_datasets + \"seqparams_atto647n_x3.json\"\n",
    "n_samples_per_dataset=10000000; #5 Gb per dataset"
   ]
  },
  {
   "cell_type": "code",
   "execution_count": 3,
   "id": "852dc0d8-471d-41fb-9217-104d8b076185",
   "metadata": {
    "collapsed": true,
    "jupyter": {
     "outputs_hidden": true
    },
    "tags": []
   },
   "outputs": [
    {
     "name": "stdout",
     "output_type": "stream",
     "text": [
      "./../ext/whatprot/cc_code/bin/release/whatprot simulate rad -t 10 -g 10000000 -P /raid/jkipen/ProtInfGPU/data/WhatprotGen/WholeProteomeTests/NoBlockageBetterRates/seqparams_atto647n_x3.json -S /raid/jkipen/ProtInfGPU/data/WhatprotGen/WholeProteomeTests/NoBlockageBetterRates/dye-seqs.tsv -R /raid/jkipen/ProtInfGPU/data/WhatprotGen/WholeProteomeTests/NoBlockageBetterRates/MultiDatasets/radiometries_0.tsv -Y /raid/jkipen/ProtInfGPU/data/WhatprotGen/WholeProteomeTests/NoBlockageBetterRates/MultiDatasets/true-ids_0.tsv\n",
      "Finished basic setup (0.000143901 seconds).\n",
      "Read 152291 dye seqs (0.112189 seconds).\n",
      "Finished generating 9950191 radiometries (71.3878seconds).\n",
      "Finished saving results (349.067 seconds).\n",
      "Total run time: 420.567 seconds.\n",
      "./../ext/whatprot/cc_code/bin/release/whatprot simulate rad -t 10 -g 10000000 -P /raid/jkipen/ProtInfGPU/data/WhatprotGen/WholeProteomeTests/NoBlockageBetterRates/seqparams_atto647n_x3.json -S /raid/jkipen/ProtInfGPU/data/WhatprotGen/WholeProteomeTests/NoBlockageBetterRates/dye-seqs.tsv -R /raid/jkipen/ProtInfGPU/data/WhatprotGen/WholeProteomeTests/NoBlockageBetterRates/MultiDatasets/radiometries_1.tsv -Y /raid/jkipen/ProtInfGPU/data/WhatprotGen/WholeProteomeTests/NoBlockageBetterRates/MultiDatasets/true-ids_1.tsv\n",
      "Finished basic setup (0.000238337 seconds).\n",
      "Read 152291 dye seqs (0.0961184 seconds).\n",
      "Finished generating 9949931 radiometries (73.8924seconds).\n",
      "Finished saving results (342.061 seconds).\n",
      "Total run time: 416.05 seconds.\n",
      "./../ext/whatprot/cc_code/bin/release/whatprot simulate rad -t 10 -g 10000000 -P /raid/jkipen/ProtInfGPU/data/WhatprotGen/WholeProteomeTests/NoBlockageBetterRates/seqparams_atto647n_x3.json -S /raid/jkipen/ProtInfGPU/data/WhatprotGen/WholeProteomeTests/NoBlockageBetterRates/dye-seqs.tsv -R /raid/jkipen/ProtInfGPU/data/WhatprotGen/WholeProteomeTests/NoBlockageBetterRates/MultiDatasets/radiometries_2.tsv -Y /raid/jkipen/ProtInfGPU/data/WhatprotGen/WholeProteomeTests/NoBlockageBetterRates/MultiDatasets/true-ids_2.tsv\n",
      "Finished basic setup (7.65845e-05 seconds).\n",
      "Read 152291 dye seqs (0.0873562 seconds).\n",
      "Finished generating 9950089 radiometries (71.7909seconds).\n",
      "Finished saving results (341.382 seconds).\n",
      "Total run time: 413.261 seconds.\n",
      "./../ext/whatprot/cc_code/bin/release/whatprot simulate rad -t 10 -g 10000000 -P /raid/jkipen/ProtInfGPU/data/WhatprotGen/WholeProteomeTests/NoBlockageBetterRates/seqparams_atto647n_x3.json -S /raid/jkipen/ProtInfGPU/data/WhatprotGen/WholeProteomeTests/NoBlockageBetterRates/dye-seqs.tsv -R /raid/jkipen/ProtInfGPU/data/WhatprotGen/WholeProteomeTests/NoBlockageBetterRates/MultiDatasets/radiometries_3.tsv -Y /raid/jkipen/ProtInfGPU/data/WhatprotGen/WholeProteomeTests/NoBlockageBetterRates/MultiDatasets/true-ids_3.tsv\n",
      "Finished basic setup (0.000137135 seconds).\n",
      "Read 152291 dye seqs (0.111751 seconds).\n",
      "Finished generating 9950181 radiometries (71.9308seconds).\n",
      "Finished saving results (341.989 seconds).\n",
      "Total run time: 414.032 seconds.\n",
      "./../ext/whatprot/cc_code/bin/release/whatprot simulate rad -t 10 -g 10000000 -P /raid/jkipen/ProtInfGPU/data/WhatprotGen/WholeProteomeTests/NoBlockageBetterRates/seqparams_atto647n_x3.json -S /raid/jkipen/ProtInfGPU/data/WhatprotGen/WholeProteomeTests/NoBlockageBetterRates/dye-seqs.tsv -R /raid/jkipen/ProtInfGPU/data/WhatprotGen/WholeProteomeTests/NoBlockageBetterRates/MultiDatasets/radiometries_4.tsv -Y /raid/jkipen/ProtInfGPU/data/WhatprotGen/WholeProteomeTests/NoBlockageBetterRates/MultiDatasets/true-ids_4.tsv\n",
      "Finished basic setup (0.000143327 seconds).\n",
      "Read 152291 dye seqs (0.1121 seconds).\n",
      "Finished generating 9950005 radiometries (71.6438seconds).\n",
      "Finished saving results (341.332 seconds).\n",
      "Total run time: 413.088 seconds.\n",
      "./../ext/whatprot/cc_code/bin/release/whatprot simulate rad -t 10 -g 10000000 -P /raid/jkipen/ProtInfGPU/data/WhatprotGen/WholeProteomeTests/NoBlockageBetterRates/seqparams_atto647n_x3.json -S /raid/jkipen/ProtInfGPU/data/WhatprotGen/WholeProteomeTests/NoBlockageBetterRates/dye-seqs.tsv -R /raid/jkipen/ProtInfGPU/data/WhatprotGen/WholeProteomeTests/NoBlockageBetterRates/MultiDatasets/radiometries_5.tsv -Y /raid/jkipen/ProtInfGPU/data/WhatprotGen/WholeProteomeTests/NoBlockageBetterRates/MultiDatasets/true-ids_5.tsv\n",
      "Finished basic setup (0.00014428 seconds).\n",
      "Read 152291 dye seqs (0.111497 seconds).\n",
      "Finished generating 9949891 radiometries (71.9002seconds).\n",
      "Finished saving results (341.01 seconds).\n",
      "Total run time: 413.022 seconds.\n",
      "./../ext/whatprot/cc_code/bin/release/whatprot simulate rad -t 10 -g 10000000 -P /raid/jkipen/ProtInfGPU/data/WhatprotGen/WholeProteomeTests/NoBlockageBetterRates/seqparams_atto647n_x3.json -S /raid/jkipen/ProtInfGPU/data/WhatprotGen/WholeProteomeTests/NoBlockageBetterRates/dye-seqs.tsv -R /raid/jkipen/ProtInfGPU/data/WhatprotGen/WholeProteomeTests/NoBlockageBetterRates/MultiDatasets/radiometries_6.tsv -Y /raid/jkipen/ProtInfGPU/data/WhatprotGen/WholeProteomeTests/NoBlockageBetterRates/MultiDatasets/true-ids_6.tsv\n",
      "Finished basic setup (0.0001399 seconds).\n",
      "Read 152291 dye seqs (0.112773 seconds).\n",
      "Finished generating 9950122 radiometries (71.8914seconds).\n",
      "Finished saving results (341.683 seconds).\n",
      "Total run time: 413.687 seconds.\n",
      "./../ext/whatprot/cc_code/bin/release/whatprot simulate rad -t 10 -g 10000000 -P /raid/jkipen/ProtInfGPU/data/WhatprotGen/WholeProteomeTests/NoBlockageBetterRates/seqparams_atto647n_x3.json -S /raid/jkipen/ProtInfGPU/data/WhatprotGen/WholeProteomeTests/NoBlockageBetterRates/dye-seqs.tsv -R /raid/jkipen/ProtInfGPU/data/WhatprotGen/WholeProteomeTests/NoBlockageBetterRates/MultiDatasets/radiometries_7.tsv -Y /raid/jkipen/ProtInfGPU/data/WhatprotGen/WholeProteomeTests/NoBlockageBetterRates/MultiDatasets/true-ids_7.tsv\n",
      "Finished basic setup (0.000117816 seconds).\n",
      "Read 152291 dye seqs (0.111001 seconds).\n",
      "Finished generating 9950128 radiometries (71.7914seconds).\n",
      "Finished saving results (341.757 seconds).\n",
      "Total run time: 413.659 seconds.\n",
      "./../ext/whatprot/cc_code/bin/release/whatprot simulate rad -t 10 -g 10000000 -P /raid/jkipen/ProtInfGPU/data/WhatprotGen/WholeProteomeTests/NoBlockageBetterRates/seqparams_atto647n_x3.json -S /raid/jkipen/ProtInfGPU/data/WhatprotGen/WholeProteomeTests/NoBlockageBetterRates/dye-seqs.tsv -R /raid/jkipen/ProtInfGPU/data/WhatprotGen/WholeProteomeTests/NoBlockageBetterRates/MultiDatasets/radiometries_8.tsv -Y /raid/jkipen/ProtInfGPU/data/WhatprotGen/WholeProteomeTests/NoBlockageBetterRates/MultiDatasets/true-ids_8.tsv\n",
      "Finished basic setup (0.000138305 seconds).\n",
      "Read 152291 dye seqs (0.113456 seconds).\n",
      "Finished generating 9949948 radiometries (72.0484seconds).\n",
      "Finished saving results (341.454 seconds).\n",
      "Total run time: 413.616 seconds.\n",
      "./../ext/whatprot/cc_code/bin/release/whatprot simulate rad -t 10 -g 10000000 -P /raid/jkipen/ProtInfGPU/data/WhatprotGen/WholeProteomeTests/NoBlockageBetterRates/seqparams_atto647n_x3.json -S /raid/jkipen/ProtInfGPU/data/WhatprotGen/WholeProteomeTests/NoBlockageBetterRates/dye-seqs.tsv -R /raid/jkipen/ProtInfGPU/data/WhatprotGen/WholeProteomeTests/NoBlockageBetterRates/MultiDatasets/radiometries_9.tsv -Y /raid/jkipen/ProtInfGPU/data/WhatprotGen/WholeProteomeTests/NoBlockageBetterRates/MultiDatasets/true-ids_9.tsv\n",
      "Finished basic setup (0.000139013 seconds).\n",
      "Read 152291 dye seqs (0.112886 seconds).\n",
      "Finished generating 9950154 radiometries (71.7584seconds).\n",
      "Finished saving results (341.605 seconds).\n",
      "Total run time: 413.476 seconds.\n"
     ]
    }
   ],
   "source": [
    "n_datasets=10;\n",
    "for i in range(n_datasets):\n",
    "    rad_path = common_path_datasets+ \"MultiDatasets/radiometries_\"+str(i)+\".tsv\";\n",
    "    true_ids_path = common_path_datasets+ \"MultiDatasets/true-ids_\"+str(i)+\".tsv\";\n",
    "    command = \".\" +whatprot_path + \" simulate rad -t 10 -g \"+str(n_samples_per_dataset) +\" -P \"+ params_path+\" -S \"+dye_seqs_path+\" -R \"+rad_path+\" -Y \"+true_ids_path;\n",
    "    print(command)\n",
    "    os.system(command)"
   ]
  },
  {
   "cell_type": "code",
   "execution_count": 4,
   "id": "3ab27a00-a032-45ad-8a1b-c970655b7948",
   "metadata": {
    "tags": []
   },
   "outputs": [],
   "source": [
    "all_true_ids=[]\n",
    "for i in range(10):\n",
    "    df = pd.read_csv(common_path_datasets+ \"MultiDatasets/true-ids_\"+str(i)+\".tsv\", sep=\"\\t\");\n",
    "    all_true_ids.append(df.to_numpy().flatten());"
   ]
  },
  {
   "cell_type": "code",
   "execution_count": 5,
   "id": "0a6f64b0-8ed5-4059-8bc6-daba44c7e8e7",
   "metadata": {
    "tags": []
   },
   "outputs": [
    {
     "name": "stdout",
     "output_type": "stream",
     "text": [
      "985\n",
      "356\n",
      "152291\n"
     ]
    }
   ],
   "source": [
    "all_true_ids=np.concatenate(all_true_ids)\n",
    "u,counts=np.unique(all_true_ids,return_counts=True)\n",
    "print(np.max(counts))\n",
    "print(np.min(counts))\n",
    "print(len(u))"
   ]
  },
  {
   "cell_type": "markdown",
   "id": "7d40adae-d12b-4219-888c-5fe00fd2dd4e",
   "metadata": {
    "tags": []
   },
   "source": [
    "This means that with these datasets we can create an extra dataset with samples up to 390 of each dye seq!. Now lets get those datasets together and pick 100 of them!\n"
   ]
  },
  {
   "cell_type": "code",
   "execution_count": 17,
   "id": "fb1a1195-49bf-4bfc-b4af-d836d18568fc",
   "metadata": {},
   "outputs": [],
   "source": [
    "dfs = [] #Vibe coding\n",
    "for i in range(10):\n",
    "    dfr = pd.read_csv(common_path_datasets+ \"MultiDatasets/radiometries_\"+str(i)+\".tsv\", sep=\"\\t\", header=None, skiprows=3); #Skipping metadata rows\n",
    "    dft = pd.read_csv(common_path_datasets+ \"MultiDatasets/true-ids_\"+str(i)+\".tsv\", sep=\"\\t\", header=None, skiprows=1); #Skipping metadata rows\n",
    "    dfr['true_ids'] = dft[0]\n",
    "    dfs.append(dfr)\n",
    "    \n",
    "big_df = pd.concat(dfs, axis=0, ignore_index=True)\n",
    "result_df = big_df.groupby('true_ids', group_keys=False).apply(lambda group: group.head(100))"
   ]
  },
  {
   "cell_type": "code",
   "execution_count": 18,
   "id": "d02d112b-f02a-48fc-b984-ecbf9dcceac2",
   "metadata": {},
   "outputs": [],
   "source": [
    "result_df.to_csv(common_path_datasets+\"aux.csv\", index=False)"
   ]
  },
  {
   "cell_type": "code",
   "execution_count": 8,
   "id": "2ad4cc94-a2c4-431c-b681-a33ad757d348",
   "metadata": {
    "tags": []
   },
   "outputs": [],
   "source": [
    "# Parameters for the header of the output file\n",
    "#Vibe oding\n",
    "radiometries_df = result_df.drop(columns=['true_ids'])\n",
    "true_ids_series = result_df['true_ids']\n",
    "\n",
    "# Get the number of reads (rows) from the filtered data\n",
    "num_reads = len(result_df)\n",
    "\n",
    "# Save the final radiometries file with custom header\n",
    "num_timesteps = 10   # Given constant: number of timesteps\n",
    "num_channels = 3     # Given constant: number of channels\n",
    "\n",
    "\n",
    "\n",
    "# Save the final true IDs file with custom header (only number of reads)\n",
    "true_ids_output_file = common_path_datasets+\"true-ids.tsv\"\n",
    "with open(true_ids_output_file, \"w\") as f:\n",
    "    f.write(f\"{num_reads}\\n\")\n",
    "    true_ids_series.to_csv(f, sep=\"\\t\", index=False, header=False)\n"
   ]
  },
  {
   "cell_type": "code",
   "execution_count": 9,
   "id": "580547a3-f857-4283-9548-4c9d2a67a3c8",
   "metadata": {
    "tags": []
   },
   "outputs": [],
   "source": [
    "radiometries_output_file = common_path_datasets+\"radiometries.tsv\"\n",
    "with open(radiometries_output_file, \"w\") as f:\n",
    "    f.write(f\"{num_timesteps}\\n\")\n",
    "    f.write(f\"{num_channels}\\n\")\n",
    "    f.write(f\"{num_reads}\\n\")\n",
    "    radiometries_df.to_csv(f, sep=\"\\t\", index=False, header=False)"
   ]
  },
  {
   "cell_type": "code",
   "execution_count": null,
   "id": "39e45ddb-0f02-46f2-ae50-f2f06b14a294",
   "metadata": {},
   "outputs": [],
   "source": [
    "# Creating normal whatprot clas"
   ]
  },
  {
   "cell_type": "markdown",
   "id": "bdacb3d3-37b4-4d28-adb9-5fb7c47cb1c0",
   "metadata": {},
   "source": [
    "### Reduced dataset\n",
    "This dataset resulted way too big to analyze before getting results, we try making a reduced version:"
   ]
  },
  {
   "cell_type": "code",
   "execution_count": 19,
   "id": "8e04cb70-e0eb-45b2-a43b-0da14e1851f2",
   "metadata": {
    "tags": []
   },
   "outputs": [],
   "source": [
    "df_big=pd.read_csv(common_path_datasets+\"aux.csv\")\n",
    "df_small = df_big.groupby('true_ids', group_keys=False).apply(lambda group: group.head(2))\n",
    "#df_small.drop(df_small.columns[0], axis=1) #There was the index column, lets remove it!\n",
    "df_small.to_csv(common_path_datasets+\"Reduced/aux.csv\",index=False)\n",
    "#df_small=pd.read_csv(common_path_datasets+\"Reduced/aux.csv\")"
   ]
  },
  {
   "cell_type": "code",
   "execution_count": 20,
   "id": "a37d29fb-536f-4ebe-ac3c-33424ccd814d",
   "metadata": {
    "tags": []
   },
   "outputs": [],
   "source": [
    "common_path_datasets_reduced=common_path_datasets+\"Reduced/\";\n",
    "radiometries_df = df_small.drop(columns=['true_ids'])\n",
    "true_ids_series = df_small['true_ids']\n",
    "\n",
    "# Get the number of reads (rows) from the filtered data\n",
    "num_reads = len(df_small)\n",
    "\n",
    "# Save the final radiometries file with custom header\n",
    "num_timesteps = 10   # Given constant: number of timesteps\n",
    "num_channels = 3     # Given constant: number of channels\n",
    "\n",
    "\n",
    "\n",
    "# Save the final true IDs file with custom header (only number of reads)\n",
    "true_ids_output_file = common_path_datasets_reduced+\"true-ids.tsv\"\n",
    "with open(true_ids_output_file, \"w\") as f:\n",
    "    f.write(f\"{num_reads}\\n\")\n",
    "    true_ids_series.to_csv(f, sep=\"\\t\", index=False, header=False)\n",
    "    \n",
    "radiometries_output_file = common_path_datasets_reduced+\"radiometries.tsv\"\n",
    "with open(radiometries_output_file, \"w\") as f:\n",
    "    f.write(f\"{num_timesteps}\\n\")\n",
    "    f.write(f\"{num_channels}\\n\")\n",
    "    f.write(f\"{num_reads}\\n\")\n",
    "    radiometries_df.to_csv(f, sep=\"\\t\", index=False, header=False)"
   ]
  },
  {
   "cell_type": "markdown",
   "id": "919eac42-bd3a-4c87-81cb-af788fd50566",
   "metadata": {},
   "source": [
    "## Analyzing probeam results\n",
    "\n",
    "Now after generated the dataset, I got the scores when running probeam on it. These results are gonna be analyzed here before running them on the CUDA code of EM:"
   ]
  },
  {
   "cell_type": "code",
   "execution_count": 52,
   "id": "ab99c82f-112b-4618-87dd-bbf8003759a4",
   "metadata": {
    "tags": []
   },
   "outputs": [],
   "source": [
    "def loadScores(folder,n_rows=-1,n_sparsity=1000):\n",
    "    if n_rows== (-1):\n",
    "        allScores=np.fromfile(folder+\"TopNScores.bin\", dtype=np.float32)\n",
    "        allScoresId=np.fromfile(folder+\"TopNScoresId.bin\", dtype=np.uint32)\n",
    "    else:\n",
    "        allScores=np.fromfile(folder+\"TopNScores.bin\", dtype=np.float32,count =n_rows*n_sparsity)\n",
    "        allScoresId=np.fromfile(folder+\"TopNScoresId.bin\", dtype=np.uint32,count =n_rows*n_sparsity)\n",
    "    allScores=allScores.reshape(-1, n_sparsity)\n",
    "    allScoresId=allScoresId.reshape(-1, n_sparsity)\n",
    "    return allScores,allScoresId\n",
    "\n",
    "def sanity_check(allScores,allScoresId):\n",
    "    print(\"Max prob: \" + str(np.max(allScores)))\n",
    "    print(\"Max id: \" + str(np.max(allScoresId)))\n",
    "    print(\"Count of decreasing or same idx in rows: \" + str(np.sum(np.diff(allScoresId,axis=1)<=0)))\n",
    "    \n",
    "def accuracy(allScores,allScoresId,true_labels):\n",
    "    max_indices = np.argmax(allScores, axis=1) \n",
    "    top_ids = allScoresId[np.arange(allScores.shape[0]), max_indices]\n",
    "    accuracy = np.mean(top_ids == true_labels)\n",
    "    print(\"The obtained accuracy was: \"+str(accuracy))\n",
    "\n",
    "def plot_acc_accuracy(allScores):\n",
    "    allScoresSorted=np.sort(allScores,axis=1)[:, ::-1]\n",
    "    allScoresSortedCumsum=np.cumsum(allScoresSorted,axis=1)\n",
    "    mean_acc=np.mean(allScoresSortedCumsum,axis=0)\n",
    "    plt.plot(1-mean_acc)\n",
    "    plt.ylabel(\"Residual probability\")\n",
    "    plt.xlabel(\"N sparsity\")\n",
    "    plt.grid()\n",
    "    plt.show()\n",
    "    print(\"The final residual probability is \" + str(1-mean_acc[-1]))\n",
    "\n",
    "def analyze_whatprot_results(path_results,true_labels):\n",
    "    df=pd.read_csv(path_results)\n",
    "    est_labels=df[\"best_pep_iz\"].to_numpy()\n",
    "    accuracy = np.mean(top_ids == true_labels)\n",
    "    print(\"The obtained whatprot accuracy was: \"+str(accuracy))\n",
    "    "
   ]
  },
  {
   "cell_type": "code",
   "execution_count": 39,
   "id": "f099d258-93bc-4ed9-b448-1ec5be34f4b4",
   "metadata": {},
   "outputs": [],
   "source": [
    "n_rows=50000;#Lets use a reduced dataset to analyze\n",
    "n_sparsity=1000;\n",
    "\n",
    "allScores=np.fromfile(\"/home/jkipen/raid_storage/ProtInfGPU/data/20642_Prot/binary/ProbeamBetterConfig/Common/TopNScores.bin\", dtype=np.float32,count =n_rows*n_sparsity)\n",
    "allScoresId=np.fromfile(\"/home/jkipen/raid_storage/ProtInfGPU/data/20642_Prot/binary/ProbeamBetterConfig/Common/TopNScoresId.bin\", dtype=np.uint32,count =n_rows*n_sparsity)\n",
    "allScores=allScores.reshape(-1, n_sparsity)\n",
    "allScoresId=allScoresId.reshape(-1, n_sparsity)"
   ]
  },
  {
   "cell_type": "code",
   "execution_count": 40,
   "id": "3874b0f8-9e2d-4cc5-aaa9-06e282a19e6d",
   "metadata": {
    "collapsed": true,
    "jupyter": {
     "outputs_hidden": true
    },
    "tags": []
   },
   "outputs": [
    {
     "name": "stdout",
     "output_type": "stream",
     "text": [
      "[[3.2933608e-02 3.2933608e-02 1.7150704e-04 ... 2.2887654e-04\n",
      "  2.2887647e-04 1.7150704e-04]\n",
      " [6.5867208e-02 6.5867208e-02 3.4301437e-04 ... 4.5775308e-04\n",
      "  4.5775290e-04 3.4301437e-04]\n",
      " [9.8800808e-02 9.8800808e-02 5.1452173e-04 ... 6.8662962e-04\n",
      "  6.8662938e-04 5.1452173e-04]\n",
      " ...\n",
      " [3.9968756e-01 2.4394538e+00 3.9968756e-01 ... 3.9968756e-01\n",
      "  3.9968756e-01 3.9968756e-01]\n",
      " [3.9976442e-01 2.4395564e+00 3.9976442e-01 ... 3.9976442e-01\n",
      "  3.9976442e-01 3.9976442e-01]\n",
      " [3.9984128e-01 2.4396589e+00 3.9984128e-01 ... 3.9984128e-01\n",
      "  3.9984128e-01 3.9984128e-01]]\n",
      "152289\n"
     ]
    }
   ],
   "source": [
    "print(allScores)\n",
    "print(np.max(allScoresId))"
   ]
  },
  {
   "cell_type": "code",
   "execution_count": 12,
   "id": "c560fc4a-7503-43a8-89b1-7d0697d4ecbf",
   "metadata": {
    "tags": []
   },
   "outputs": [
    {
     "data": {
      "text/plain": [
       "array([[537, 905],\n",
       "       [571, 905]])"
      ]
     },
     "execution_count": 12,
     "metadata": {},
     "output_type": "execute_result"
    }
   ],
   "source": [
    "np.argwhere(np.diff(allScoresId,axis=1)<=0)"
   ]
  },
  {
   "cell_type": "code",
   "execution_count": 14,
   "id": "4b1299f2-96d1-4011-9e0b-241c74eae92c",
   "metadata": {
    "tags": []
   },
   "outputs": [
    {
     "name": "stdout",
     "output_type": "stream",
     "text": [
      "[126883 127012 127012]\n",
      "[126883 127012 127012]\n"
     ]
    }
   ],
   "source": [
    "print( allScoresId[537, 904:907])\n",
    "print( allScoresId[571, 904:907])"
   ]
  },
  {
   "cell_type": "code",
   "execution_count": 20,
   "id": "3e0b1c2b-56f2-4b9b-aa6a-b6b877f0e0b5",
   "metadata": {
    "collapsed": true,
    "jupyter": {
     "outputs_hidden": true
    },
    "tags": []
   },
   "outputs": [
    {
     "name": "stdout",
     "output_type": "stream",
     "text": [
      "[[3.2933608e-02 6.5867215e-02 9.8800823e-02 ... 9.9719048e-01\n",
      "  9.9719876e-01 9.9720705e-01]\n",
      " [6.5867208e-02 1.3173442e-01 1.9760162e-01 ... 1.9943810e+00\n",
      "  1.9943975e+00 1.9944141e+00]\n",
      " [9.8800808e-02 1.9760162e-01 2.9640242e-01 ... 2.9916022e+00\n",
      "  2.9916270e+00 2.9916518e+00]\n",
      " ...\n",
      " [5.5892822e+01 5.7069649e+01 5.8246475e+01 ... 7.8836540e+01\n",
      "  7.8836540e+01 7.8836540e+01]\n",
      " [5.5894848e+01 5.7254086e+01 5.8613323e+01 ... 7.9846588e+01\n",
      "  7.9846588e+01 7.9846588e+01]\n",
      " [5.6580448e+01 5.7939686e+01 5.9298923e+01 ... 8.0532188e+01\n",
      "  8.0532188e+01 8.0532188e+01]]\n"
     ]
    }
   ],
   "source": [
    "allScoresSorted=np.sort(allScores,axis=1)[:, ::-1]\n",
    "allScoresSortedCumsum=np.cumsum(allScoresSorted,axis=1)\n",
    "print(allScoresSortedCumsum)"
   ]
  },
  {
   "cell_type": "code",
   "execution_count": 21,
   "id": "d1cfbad0-49b7-4a45-b3a5-8e17fe942bdf",
   "metadata": {
    "tags": []
   },
   "outputs": [
    {
     "data": {
      "text/plain": [
       "58.037216"
      ]
     },
     "execution_count": 21,
     "metadata": {},
     "output_type": "execute_result"
    }
   ],
   "source": [
    "np.max(allScores)"
   ]
  },
  {
   "cell_type": "code",
   "execution_count": 37,
   "id": "759d0648-b812-4233-a178-bd8ba78ecce3",
   "metadata": {
    "tags": []
   },
   "outputs": [
    {
     "name": "stdout",
     "output_type": "stream",
     "text": [
      "Accuracy: 0.3148\n"
     ]
    }
   ],
   "source": [
    "max_indices = np.argmax(allScores, axis=1) \n",
    "top_ids = allScoresId[np.arange(allScores.shape[0]), max_indices] \n",
    "true_labels = np.repeat(np.arange(n_rows/100), 100)\n",
    "accuracy = np.mean(top_ids == true_labels)\n",
    "print(f\"Accuracy: {accuracy:.4f}\")"
   ]
  },
  {
   "cell_type": "code",
   "execution_count": 38,
   "id": "e545979c-b69c-465d-b8d2-9a40294aafde",
   "metadata": {
    "tags": []
   },
   "outputs": [
    {
     "name": "stdout",
     "output_type": "stream",
     "text": [
      "Accuracy: 0.1342\n"
     ]
    }
   ],
   "source": [
    "allScores=np.fromfile(\"/home/jkipen/raid_storage/ProtInfGPU/data/20642_Prot/binary/Probeam/Common/TopNScores.bin\", dtype=np.float32,count =n_rows*n_sparsity)\n",
    "allScoresId=np.fromfile(\"/home/jkipen/raid_storage/ProtInfGPU/data/20642_Prot/binary/Probeam/Common/TopNScoresId.bin\", dtype=np.uint32,count =n_rows*n_sparsity)\n",
    "allScores=allScores.reshape(-1, n_sparsity)\n",
    "allScoresId=allScoresId.reshape(-1, n_sparsity)\n",
    "max_indices = np.argmax(allScores, axis=1) \n",
    "top_ids = allScoresId[np.arange(allScores.shape[0]), max_indices] \n",
    "true_labels = np.repeat(np.arange(n_rows/100), 100)\n",
    "accuracy = np.mean(top_ids == true_labels)\n",
    "print(f\"Accuracy: {accuracy:.4f}\")"
   ]
  },
  {
   "cell_type": "code",
   "execution_count": 51,
   "id": "2a4eccc3-fbbc-4f6a-b4b7-522049199c23",
   "metadata": {
    "tags": []
   },
   "outputs": [
    {
     "name": "stdout",
     "output_type": "stream",
     "text": [
      "Max prob: 1.0000001\n",
      "Max id: 152290\n",
      "Count of decreasing or same idx in rows: 0\n",
      "The obtained accuracy was: 0.32863727994431713\n"
     ]
    },
    {
     "data": {
      "image/png": "[encoded data removed]",
      "text/plain": [
       "<Figure size 640x480 with 1 Axes>"
      ]
     },
     "metadata": {},
     "output_type": "display_data"
    },
    {
     "name": "stdout",
     "output_type": "stream",
     "text": [
      "The final residual probability is 0.011413514614105225\n"
     ]
    }
   ],
   "source": [
    "n_sparsity=1000;\n",
    "folder_path=\"/home/jkipen/raid_storage/ProtInfGPU/data/WhatprotGen/WholeProteomeTests/NoBlockageBetterRates/Reduced/\"\n",
    "\n",
    "allScores,allScoresId=loadScores(folder_path)\n",
    "sanity_check(allScores,allScoresId)\n",
    "true_labels=np.repeat(np.arange(len(allScores)/2), 2).astype(int)\n",
    "accuracy(allScores,allScoresId,true_labels)\n",
    "plot_acc_accuracy(allScores)"
   ]
  },
  {
   "cell_type": "code",
   "execution_count": 53,
   "id": "8ed677f2-5762-400c-bfa6-4687edceee47",
   "metadata": {
    "tags": []
   },
   "outputs": [
    {
     "name": "stdout",
     "output_type": "stream",
     "text": [
      "Max prob: 1.0000004\n",
      "Max id: 152290\n",
      "Count of decreasing or same idx in rows: 0\n",
      "The obtained accuracy was: 0.05604730417424536\n"
     ]
    },
    {
     "data": {
      "image/png": "[encoded data removed]",
      "text/plain": [
       "<Figure size 640x480 with 1 Axes>"
      ]
     },
     "metadata": {},
     "output_type": "display_data"
    },
    {
     "name": "stdout",
     "output_type": "stream",
     "text": [
      "The final residual probability is 0.15179938077926636\n"
     ]
    }
   ],
   "source": [
    "n_sparsity=1000;\n",
    "folder_path=\"/home/jkipen/raid_storage/ProtInfGPU/data/WhatprotGen/WholeProteomeTests/ProbeamPaperParams/Reduced/\"\n",
    "\n",
    "allScores,allScoresId=loadScores(folder_path)\n",
    "sanity_check(allScores,allScoresId)\n",
    "true_labels=np.repeat(np.arange(len(allScores)/2), 2).astype(int)\n",
    "accuracy(allScores,allScoresId,true_labels)\n",
    "plot_acc_accuracy(allScores)"
   ]
  },
  {
   "cell_type": "code",
   "execution_count": 56,
   "id": "16971ad1-edc2-487d-a629-dec908729fcf",
   "metadata": {
    "tags": []
   },
   "outputs": [
    {
     "data": {
      "text/plain": [
       "array([  125,  1912,    29, ..., 23248,  3118, 64364])"
      ]
     },
     "execution_count": 56,
     "metadata": {},
     "output_type": "execute_result"
    }
   ],
   "source": [
    "whatprot_res=\"/home/jkipen/raid_storage/ProtInfGPU/data/WhatprotGen/WholeProteomeTests/ProbeamPaperParams/Reduced/predictions.csv\"\n",
    "true_labels=np.repeat(np.arange(len(allScores)/2), 2).astype(int)\n"
   ]
  }
 ],
 "metadata": {
  "kernelspec": {
   "display_name": "Python 3 (ipykernel)",
   "language": "python",
   "name": "python3"
  },
  "language_info": {
   "codemirror_mode": {
    "name": "ipython",
    "version": 3
   },
   "file_extension": ".py",
   "mimetype": "text/x-python",
   "name": "python",
   "nbconvert_exporter": "python",
   "pygments_lexer": "ipython3",
   "version": "3.8.17"
  }
 },
 "nbformat": 4,
 "nbformat_minor": 5
}
