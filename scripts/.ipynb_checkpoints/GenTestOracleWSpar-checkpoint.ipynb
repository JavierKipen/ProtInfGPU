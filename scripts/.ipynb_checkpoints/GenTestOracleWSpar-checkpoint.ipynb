{
 "cells": [
  {
   "cell_type": "code",
   "execution_count": 1,
   "id": "447a5451-532d-4497-a3d6-28a1da6b0bdd",
   "metadata": {
    "tags": []
   },
   "outputs": [],
   "source": [
    "import numpy as np\n",
    "import pandas as pd\n",
    "import os\n",
    "import shutil"
   ]
  },
  {
   "cell_type": "markdown",
   "id": "95cf4afc-690e-47c4-8ad2-d5031e873cc7",
   "metadata": {},
   "source": [
    "# Test EM with sparsity\n",
    "\n",
    "In this notebook we generate a fake classifier that gets oracle results but outputs a 1000 sparsity signal. We will use it with the algorithm to check that our code works correctly."
   ]
  },
  {
   "cell_type": "code",
   "execution_count": 2,
   "id": "dd6ab0a4-0b88-43e1-a608-914059731eed",
   "metadata": {
    "tags": []
   },
   "outputs": [],
   "source": [
    "dataset_path=\"/home/jkipen/raid_storage/ProtInfGPU/data/20642_Prot/binary/\";\n",
    "classifier_name=\"SparsityTest\";"
   ]
  },
  {
   "cell_type": "code",
   "execution_count": 3,
   "id": "c957d32e-44e1-44ff-93bf-fd66d38cff0e",
   "metadata": {
    "tags": []
   },
   "outputs": [],
   "source": [
    "#Some functions to simplify \n",
    "def create_folder(folder_path):\n",
    "    if not os.path.exists(folder_path):  \n",
    "        os.makedirs(folder_path)\n",
    "def create_classifier_folders(ds_path,classifier_name):\n",
    "    classifier_path=ds_path+\"/\"+classifier_name;\n",
    "    create_folder(classifier_path);\n",
    "    create_folder(classifier_path+\"/CrossVal\"); #Create subfolders\n",
    "    create_folder(classifier_path+\"/Common\");\n",
    "def copy_all_files(src_folder, dst_folder):\n",
    "    \"\"\"Copies all files from src_folder to dst_folder, creating dst_folder if it doesn't exist.\"\"\"\n",
    "    #os.makedirs(dst_folder, exist_ok=True)  # Ensure the destination folder exists\n",
    "    for file_name in os.listdir(src_folder):\n",
    "        src_file = os.path.join(src_folder, file_name)\n",
    "        dst_file = os.path.join(dst_folder, file_name)\n",
    "        if os.path.isfile(src_file):  # Ensure it's a file before copying\n",
    "            shutil.copy2(src_file, dst_file)\n",
    "def copy_oracle_info_to_classifier(ds_path,classifier_name):\n",
    "    #copy_all_files(os.path.join(ds_path, \"Oracle\", \"Common\"),\n",
    "    #               os.path.join(ds_path, classifier_name, \"Common\"))\n",
    "    copy_all_files(os.path.join(ds_path, \"Oracle\", \"CrossVal\"),\n",
    "                   os.path.join(ds_path, classifier_name, \"Crossval\"));\n",
    "    "
   ]
  },
  {
   "cell_type": "code",
   "execution_count": 13,
   "id": "4701d30b-bc9a-4240-a0ad-595eb4386a8e",
   "metadata": {
    "tags": []
   },
   "outputs": [],
   "source": [
    "create_classifier_folders(dataset_path,classifier_name);\n",
    "copy_oracle_info_to_classifier(dataset_path,classifier_name);"
   ]
  },
  {
   "cell_type": "code",
   "execution_count": 6,
   "id": "aebbd226-3386-4c01-ae2b-9b0413340395",
   "metadata": {
    "tags": []
   },
   "outputs": [
    {
     "data": {
      "text/plain": [
       "array([     0,      0,      0, ..., 152290, 152290, 152290], dtype=uint32)"
      ]
     },
     "execution_count": 6,
     "metadata": {},
     "output_type": "execute_result"
    }
   ],
   "source": [
    "trueIds=np.fromfile(dataset_path+\"Common/trueIds.bin\",dtype=np.uint32)\n",
    "trueIds"
   ]
  },
  {
   "cell_type": "code",
   "execution_count": 7,
   "id": "a63bcf08-8656-46ac-b290-b1a83dd0b4c2",
   "metadata": {
    "tags": []
   },
   "outputs": [],
   "source": [
    "nSparsity=10;\n",
    "TopNScoresAux=np.zeros((len(trueIds),nSparsity),dtype=np.float32);\n",
    "TopNScoresIdAux=np.zeros((len(trueIds),nSparsity),dtype=np.uint32);"
   ]
  },
  {
   "cell_type": "code",
   "execution_count": 8,
   "id": "acdb9a19-58f4-4773-abfc-fd497eb2806f",
   "metadata": {
    "tags": []
   },
   "outputs": [],
   "source": [
    "TopNScoresIdAux[:,0]=trueIds; #These top scores dont have other idxs for sparsity values and are not ordered\n",
    "TopNScoresAux[:,0]=1;\n",
    "auxMat=np.tile(np.arange(nSparsity), (len(trueIds), 1));\n",
    "TopNScoresIdAux= (trueIds.reshape(-1, 1)+auxMat)%(np.max(trueIds)+1) # here we create\n",
    "sort_indices = np.argsort(TopNScoresIdAux, axis=1)\n",
    "rows = np.arange(TopNScoresIdAux.shape[0])[:, None]  # Row indices for broadcasting\n",
    "TopNScoresAux[:] = TopNScoresAux[rows, sort_indices]\n",
    "TopNScoresIdAux[:] = TopNScoresIdAux[rows, sort_indices]"
   ]
  },
  {
   "cell_type": "code",
   "execution_count": 13,
   "id": "ae53b0e7-db83-4120-bc31-c0c78c2970c2",
   "metadata": {
    "tags": []
   },
   "outputs": [],
   "source": [
    "TopNScoresAuxF=TopNScoresAux.flatten();\n",
    "TopNScoresIdAuxF=TopNScoresIdAux.flatten();"
   ]
  },
  {
   "cell_type": "code",
   "execution_count": 24,
   "id": "88af304b-b0eb-42b3-b935-72c0f01d9b7f",
   "metadata": {
    "tags": []
   },
   "outputs": [],
   "source": [
    "TopNScoresAuxF.astype(np.float32).tofile(dataset_path+classifier_name+\"/Common/TopNScores.bin\")\n",
    "TopNScoresIdAuxF.astype(np.uint32).tofile(dataset_path+classifier_name+\"/Common/TopNScoresId.bin\")"
   ]
  },
  {
   "cell_type": "code",
   "execution_count": 49,
   "id": "3d3de362-9a0d-4161-8a79-269b4675619c",
   "metadata": {
    "tags": []
   },
   "outputs": [],
   "source": [
    "nSpar=np.array([10],dtype=np.uint32 )\n",
    "nSpar.tofile(dataset_path+classifier_name+\"/Common/nSparsity.bin\")"
   ]
  },
  {
   "cell_type": "code",
   "execution_count": 28,
   "id": "a5f7b996-02bd-4448-8a4d-d724af2f42f6",
   "metadata": {
    "tags": []
   },
   "outputs": [
    {
     "data": {
      "text/plain": [
       "array([     0,      1,      2,      3,      4,      5,      6,      7,\n",
       "            8, 152290,      0,      1,      2,      3,      4,      5,\n",
       "            6,      7,      8, 152290])"
      ]
     },
     "execution_count": 28,
     "metadata": {},
     "output_type": "execute_result"
    }
   ],
   "source": [
    "TopNScoresIdAuxF[-20:]\n",
    "#TopNScoresIdAux[152289000,:]"
   ]
  },
  {
   "cell_type": "code",
   "execution_count": 26,
   "id": "087ee530-a033-4167-8af8-a9b135d6e6c7",
   "metadata": {
    "tags": []
   },
   "outputs": [],
   "source": [
    "aux=np.fromfile(dataset_path+classifier_name+\"/Common/TopNScoresId.bin\",dtype=np.uint32)"
   ]
  },
  {
   "cell_type": "code",
   "execution_count": 29,
   "id": "324a2c39-824d-48e8-bd5a-e93890030753",
   "metadata": {
    "tags": []
   },
   "outputs": [
    {
     "data": {
      "text/plain": [
       "array([     0,      1,      2,      3,      4,      5,      6,      7,\n",
       "            8, 152290,      0,      1,      2,      3,      4,      5,\n",
       "            6,      7,      8, 152290], dtype=uint32)"
      ]
     },
     "execution_count": 29,
     "metadata": {},
     "output_type": "execute_result"
    }
   ],
   "source": [
    "aux[-20:]"
   ]
  },
  {
   "cell_type": "code",
   "execution_count": 9,
   "id": "42cb5db2-eac4-41b8-8eb2-2caee32ccc69",
   "metadata": {
    "tags": []
   },
   "outputs": [
    {
     "data": {
      "text/plain": [
       "array([[     0,      1,      2, ...,      7,      8,      9],\n",
       "       [     0,      1,      2, ...,      7,      8,      9],\n",
       "       [     0,      1,      2, ...,      7,      8,      9],\n",
       "       ...,\n",
       "       [     0,      1,      2, ...,      7,      8, 152290],\n",
       "       [     0,      1,      2, ...,      7,      8, 152290],\n",
       "       [     0,      1,      2, ...,      7,      8, 152290]])"
      ]
     },
     "execution_count": 9,
     "metadata": {},
     "output_type": "execute_result"
    }
   ],
   "source": [
    "TopNScoresIdAux"
   ]
  }
 ],
 "metadata": {
  "kernelspec": {
   "display_name": "Python 3 (ipykernel)",
   "language": "python",
   "name": "python3"
  },
  "language_info": {
   "codemirror_mode": {
    "name": "ipython",
    "version": 3
   },
   "file_extension": ".py",
   "mimetype": "text/x-python",
   "name": "python",
   "nbconvert_exporter": "python",
   "pygments_lexer": "ipython3",
   "version": "3.8.17"
  }
 },
 "nbformat": 4,
 "nbformat_minor": 5
}
